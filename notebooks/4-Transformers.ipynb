{
 "cells": [
  {
   "cell_type": "markdown",
   "metadata": {
    "id": "3SI4YdBFtmCj"
   },
   "source": [
    "# Pygmalion - Projet autocomplétion"
   ]
  },
  {
   "cell_type": "markdown",
   "metadata": {
    "id": "bx-INOAEtrlQ"
   },
   "source": [
    "**Sprint 4 : Transformers**"
   ]
  },
  {
   "cell_type": "markdown",
   "metadata": {
    "id": "xqLbpm8ttyPi"
   },
   "source": [
    "[![Open In Colab](https://colab.research.google.com/assets/colab-badge.svg)](https://colab.research.google.com/github/DataScientest-Studio/Pygmalion/blob/main/notebooks/4-Transformers.ipynb)\n",
    "\n",
    "Certaines parties ne fonctionnent pas dans Google Colab."
   ]
  },
  {
   "cell_type": "markdown",
   "metadata": {
    "id": "zdZX6nuFGoCU"
   },
   "source": [
    "## I. Data loading and preprocessing"
   ]
  },
  {
   "cell_type": "markdown",
   "metadata": {
    "id": "5M0Lj2wrgnGz"
   },
   "source": [
    "Montage du disque et import des packages"
   ]
  },
  {
   "cell_type": "code",
   "execution_count": null,
   "metadata": {
    "colab": {
     "base_uri": "https://localhost:8080/"
    },
    "executionInfo": {
     "elapsed": 30900,
     "status": "ok",
     "timestamp": 1654697375886,
     "user": {
      "displayName": "Adrien Senecal",
      "userId": "17091121813353622118"
     },
     "user_tz": -120
    },
    "id": "R3iN9QEZuY3o",
    "outputId": "ae140075-e4b7-45fa-9a48-1c474780f454"
   },
   "outputs": [],
   "source": [
    "# To import libraries that's not in Colaboratory by default\n",
    "!pip install datasets\n",
    "!pip install transformers"
   ]
  },
  {
   "cell_type": "code",
   "execution_count": 1,
   "metadata": {
    "colab": {
     "base_uri": "https://localhost:8080/"
    },
    "executionInfo": {
     "elapsed": 15041,
     "status": "ok",
     "timestamp": 1654697390917,
     "user": {
      "displayName": "Adrien Senecal",
      "userId": "17091121813353622118"
     },
     "user_tz": -120
    },
    "id": "nLDp0mMdgVC9",
    "outputId": "073df564-4ef6-42b0-c3c2-2b1d6fc23aa0"
   },
   "outputs": [
    {
     "name": "stderr",
     "output_type": "stream",
     "text": [
      "[nltk_data] Downloading package stopwords to\n",
      "[nltk_data]     C:\\Users\\adrie\\AppData\\Roaming\\nltk_data...\n",
      "[nltk_data]   Package stopwords is already up-to-date!\n",
      "[nltk_data] Downloading package punkt to\n",
      "[nltk_data]     C:\\Users\\adrie\\AppData\\Roaming\\nltk_data...\n",
      "[nltk_data]   Package punkt is already up-to-date!\n"
     ]
    }
   ],
   "source": [
    "# Import des packages\n",
    "import pandas as pd\n",
    "import numpy as np\n",
    "import matplotlib.pyplot as plt\n",
    "import matplotlib.ticker as ticker\n",
    "%matplotlib inline\n",
    "import seaborn as sns\n",
    "from joblib import dump, load\n",
    "import time\n",
    "from nltk.tokenize.regexp import RegexpTokenizer\n",
    "from string import ascii_lowercase\n",
    "from tqdm.notebook import tqdm\n",
    "import random\n",
    "\n",
    "import nltk\n",
    "from nltk.tokenize import word_tokenize\n",
    "from nltk.corpus import stopwords\n",
    "nltk.download('stopwords')\n",
    "nltk.download('punkt')\n",
    "\n",
    "import pickle\n",
    "import gzip\n",
    "\n",
    "from sklearn.decomposition import PCA\n",
    "from sklearn.preprocessing import MinMaxScaler\n",
    "from sklearn.model_selection import train_test_split\n",
    "\n",
    "import tensorflow as tf\n",
    "from tensorflow.keras import Sequential\n",
    "from keras.models import Model\n",
    "from tensorflow.keras.layers import Input, LSTM, Dense, RNN, Lambda, Embedding, GlobalAveragePooling1D\n",
    "\n",
    "\n",
    "import unicodedata\n",
    "import re\n",
    "import os\n",
    "import io\n",
    "import time\n",
    "\n",
    "from datasets import Dataset\n",
    "\n",
    "import time\n",
    "import joblib\n",
    "\n",
    "from transformers import GPT2Tokenizer, GPT2TokenizerFast, BertTokenizerFast, AutoTokenizer, AlbertTokenizer\n",
    "from transformers import DefaultDataCollator\n",
    "\n",
    "from transformers import AutoConfig, TFAutoModelForCausalLM\n",
    "from transformers import TFGPT2LMHeadModel\n",
    "\n",
    "from transformers import AdamWeightDecay\n",
    "\n",
    "from tokenizers import decoders, models, normalizers, pre_tokenizers, processors, trainers, Tokenizer"
   ]
  },
  {
   "cell_type": "code",
   "execution_count": 2,
   "metadata": {
    "colab": {
     "base_uri": "https://localhost:8080/"
    },
    "executionInfo": {
     "elapsed": 8,
     "status": "ok",
     "timestamp": 1654697390918,
     "user": {
      "displayName": "Adrien Senecal",
      "userId": "17091121813353622118"
     },
     "user_tz": -120
    },
    "id": "zN5puTVcGoCU",
    "outputId": "2633cd97-97a5-4061-cdc3-c4a945aed92a"
   },
   "outputs": [
    {
     "name": "stdout",
     "output_type": "stream",
     "text": [
      "Found GPU at: /device:GPU:0\n"
     ]
    }
   ],
   "source": [
    "# Activez le GPU dans google colab\n",
    "device_name = tf.test.gpu_device_name()\n",
    "if device_name != '/device:GPU:0':\n",
    "  raise SystemError('GPU device not found')\n",
    "print('Found GPU at: {}'.format(device_name))"
   ]
  },
  {
   "cell_type": "code",
   "execution_count": null,
   "metadata": {
    "colab": {
     "base_uri": "https://localhost:8080/"
    },
    "executionInfo": {
     "elapsed": 22981,
     "status": "ok",
     "timestamp": 1654697413892,
     "user": {
      "displayName": "Adrien Senecal",
      "userId": "17091121813353622118"
     },
     "user_tz": -120
    },
    "id": "5hqypOGbuHzz",
    "outputId": "728d5e76-305e-450e-fc66-c62bff96feaf"
   },
   "outputs": [],
   "source": [
    "# Necessaire pour sauvegarder les données sur google drive (Google Colab)\n",
    "from google.colab import drive\n",
    "drive.mount('/content/drive')"
   ]
  },
  {
   "cell_type": "code",
   "execution_count": 3,
   "metadata": {
    "executionInfo": {
     "elapsed": 11,
     "status": "ok",
     "timestamp": 1654697413893,
     "user": {
      "displayName": "Adrien Senecal",
      "userId": "17091121813353622118"
     },
     "user_tz": -120
    },
    "id": "0mOYOPK6vFvh"
   },
   "outputs": [],
   "source": [
    "# Indiquez le dossier de sauvegarde de vos fichiers\n",
    "path = '/content/drive/MyDrive/Pygmalion/'\n",
    "path=r'C:\\Users\\adrie\\Mon Drive\\Pygmalion2'"
   ]
  },
  {
   "cell_type": "markdown",
   "metadata": {
    "id": "VbZStJa5yHqx"
   },
   "source": [
    "Chargement du Dataset ENRON"
   ]
  },
  {
   "cell_type": "code",
   "execution_count": 4,
   "metadata": {
    "executionInfo": {
     "elapsed": 13108,
     "status": "ok",
     "timestamp": 1654697426991,
     "user": {
      "displayName": "Adrien Senecal",
      "userId": "17091121813353622118"
     },
     "user_tz": -120
    },
    "id": "mD_FDQHNyNXs"
   },
   "outputs": [],
   "source": [
    "# Chargement du dataframe à partir de google drive\n",
    "# Le dataset est préparé dans le fichier 1-Exploration_des_données_et_DataViz\n",
    "file = os.path.join(path, 'df_emails.csv')\n",
    "df_emails = pd.read_csv(file)"
   ]
  },
  {
   "cell_type": "markdown",
   "metadata": {
    "id": "AQ7lmN5eGoCV"
   },
   "source": [
    "### General functions"
   ]
  },
  {
   "cell_type": "code",
   "execution_count": 5,
   "metadata": {
    "executionInfo": {
     "elapsed": 360,
     "status": "ok",
     "timestamp": 1654697427345,
     "user": {
      "displayName": "Adrien Senecal",
      "userId": "17091121813353622118"
     },
     "user_tz": -120
    },
    "id": "sME_V2ptGoCW"
   },
   "outputs": [],
   "source": [
    "def save_object(obj, filename, zip=False):\n",
    "    if zip:\n",
    "        with gzip.open(filename,'wb') as outp:\n",
    "            pickle.dump(obj, outp, pickle.HIGHEST_PROTOCOL)\n",
    "    else:\n",
    "        with open(filename, 'wb') as outp:\n",
    "            pickle.dump(obj, outp, pickle.HIGHEST_PROTOCOL)\n",
    "            \n",
    "def load_object(filename, zip=False):\n",
    "    if zip:\n",
    "        with gzip.open(filename,'rb') as inp:\n",
    "            return pickle.load(inp)\n",
    "    else:\n",
    "        with open(filename, 'rb') as inp:\n",
    "            return pickle.load(inp)\n",
    "        \n",
    "def write_data(filepath, lines):\n",
    "    with open(filepath,'a', newline='\\n') as fd:\n",
    "        writer = csv.writer(fd)\n",
    "        writer.writerows(lines)\n",
    "        \n",
    "def read_data(filepath):\n",
    "    lines = []\n",
    "    with open(filepath, newline='\\n') as fd:\n",
    "        reader = csv.reader(fd)\n",
    "        for row in reader:\n",
    "            lines.append(row)\n",
    "        return lines"
   ]
  },
  {
   "cell_type": "markdown",
   "metadata": {
    "id": "hwLA3CyhGoCa"
   },
   "source": [
    "#### Content cleaning and dataset creation"
   ]
  },
  {
   "cell_type": "code",
   "execution_count": 6,
   "metadata": {
    "executionInfo": {
     "elapsed": 2,
     "status": "ok",
     "timestamp": 1654697427345,
     "user": {
      "displayName": "Adrien Senecal",
      "userId": "17091121813353622118"
     },
     "user_tz": -120
    },
    "id": "4m3Ypl3NGoCa"
   },
   "outputs": [],
   "source": [
    "def unicode_to_ascii(s):\n",
    "    return ''.join(c for c in unicodedata.normalize('NFD', s)\n",
    "        if unicodedata.category(c) != 'Mn')\n",
    "\n",
    "def split(delimiters, string, maxsplit=0):\n",
    "    import re\n",
    "    regexPattern = '|'.join(map(re.escape, delimiters))\n",
    "    return re.split(regexPattern, string, maxsplit)\n",
    "\n",
    "delimiters = [\"!\",\".\",\";\",\"?\"]\n",
    "\n",
    "def sentences_from_df(df, size_min=4):\n",
    "    sentences = []\n",
    "    # lecture ligne par ligne\n",
    "    print(\"Cleaning of dataframe\")\n",
    "    with tqdm(total = len(df)) as pbar:\n",
    "        for l in df:\n",
    "            # nettoyage de la phase\n",
    "            l = unicode_to_ascii(l.lower())\n",
    "            l = re.sub(r\"([?!,¿])\", r\" \\1 \", l)\n",
    "            l = re.sub(r'[\" \"]+', \" \", l)\n",
    "            \n",
    "            # decontraction\n",
    "            l = re.sub(r\"won't\", \"will not\", l)\n",
    "            l = re.sub(r\"can\\'t\", \"can not\", l)\n",
    "            l = re.sub(r\"n\\'t\", \" not\", l)\n",
    "            l = re.sub(r\"\\'re\", \" are\", l)\n",
    "            #l = re.sub(r\"\\'s\", \" is\", l) # Très souvent, 's est la marque du possessif\n",
    "            l = re.sub(r\"\\'d\", \" would\", l)\n",
    "            l = re.sub(r\"\\'ll\", \" will\", l)\n",
    "            l = re.sub(r\"\\'t\", \" not\", l)\n",
    "            l = re.sub(r\"\\'ve\", \" have\", l)\n",
    "            l = re.sub(r\"\\'m\", \" am\", l)\n",
    "            \n",
    "            # replacing everything with space except (a-z, A-Z, \".\", \"?\", \"!\", \",\")\n",
    "            l = re.sub(r\"[^a-z?.!;]+\", \" \", l)\n",
    "        \n",
    "            for s in split(delimiters, l):\n",
    "                if len(s.split())>=size_min:\n",
    "                    sentences.append(\" \".join(s.split()))\n",
    "            pbar.update(1)\n",
    "    return sentences"
   ]
  },
  {
   "cell_type": "code",
   "execution_count": 7,
   "metadata": {
    "colab": {
     "base_uri": "https://localhost:8080/",
     "height": 101,
     "referenced_widgets": [
      "e5115e6fbf714fe7b6c5a8cc33d49104",
      "3ccbbf671c9e49e181538b85348de94c",
      "4ff48b7b32184f1385d108d975126b3c",
      "2a4322d3aa37453d9abbdc7c69b85e0a",
      "77a799e312c34ab59eb27d0f90315ea7",
      "f4b4a7e2363c4d88b92092e248f43d6d",
      "bba6df7f19014d488c75c59e8bfe65a8",
      "345874c5361b41d68b62ea0ec27ad82a",
      "200024d72b7a4620ae9c9a2a411152e6",
      "e27341f5b62f4a1b9f02b80e3e8683f8",
      "2736568a5dd14802af7fffa1ff080766"
     ]
    },
    "executionInfo": {
     "elapsed": 340056,
     "status": "ok",
     "timestamp": 1653045794111,
     "user": {
      "displayName": "Adrien Senecal",
      "userId": "17091121813353622118"
     },
     "user_tz": -120
    },
    "id": "GYvGS2WNGoCb",
    "outputId": "70164a72-26f3-4882-a2bd-a04f30f8c964"
   },
   "outputs": [
    {
     "name": "stdout",
     "output_type": "stream",
     "text": [
      "Cleaning of dataframe\n"
     ]
    },
    {
     "data": {
      "application/vnd.jupyter.widget-view+json": {
       "model_id": "2e8f849e8d764f7dad1a14662ab3068f",
       "version_major": 2,
       "version_minor": 0
      },
      "text/plain": [
       "  0%|          | 0/517400 [00:00<?, ?it/s]"
      ]
     },
     "metadata": {},
     "output_type": "display_data"
    },
    {
     "name": "stdout",
     "output_type": "stream",
     "text": [
      "Wall time: 3min 8s\n"
     ]
    }
   ],
   "source": [
    "%%time\n",
    "mail_max = -1\n",
    "sentences = sentences_from_df(df_emails[\"content\"].iloc[:mail_max])"
   ]
  },
  {
   "cell_type": "code",
   "execution_count": 10,
   "metadata": {},
   "outputs": [],
   "source": [
    "if not os.path.isdir(os.path.join(path, \"Transformer\", \"\")):\n",
    "    os.mkdir(os.path.join(path, \"Transformer\", \"\"))"
   ]
  },
  {
   "cell_type": "code",
   "execution_count": 11,
   "metadata": {
    "id": "BgB5FwvOGoCb"
   },
   "outputs": [],
   "source": [
    "# Save the sentences list\n",
    "file = os.path.join(path, \"Transformer\", \"sentences.gz\")\n",
    "save_object(sentences, file, zip=True)"
   ]
  },
  {
   "cell_type": "code",
   "execution_count": 12,
   "metadata": {
    "executionInfo": {
     "elapsed": 6227,
     "status": "ok",
     "timestamp": 1654697446735,
     "user": {
      "displayName": "Adrien Senecal",
      "userId": "17091121813353622118"
     },
     "user_tz": -120
    },
    "id": "cXEoBB7VGoCb"
   },
   "outputs": [],
   "source": [
    "# Load the sentences list\n",
    "file = os.path.join(path, \"Transformer\", \"sentences.gz\")\n",
    "sentences = load_object(file, zip=True)"
   ]
  },
  {
   "cell_type": "code",
   "execution_count": 13,
   "metadata": {
    "executionInfo": {
     "elapsed": 552,
     "status": "ok",
     "timestamp": 1654697572494,
     "user": {
      "displayName": "Adrien Senecal",
      "userId": "17091121813353622118"
     },
     "user_tz": -120
    },
    "id": "S_-rydyZGoCc"
   },
   "outputs": [],
   "source": [
    "df = pd.DataFrame(sentences, columns=[\"text\"])"
   ]
  },
  {
   "cell_type": "code",
   "execution_count": 14,
   "metadata": {
    "executionInfo": {
     "elapsed": 2875,
     "status": "ok",
     "timestamp": 1654697576622,
     "user": {
      "displayName": "Adrien Senecal",
      "userId": "17091121813353622118"
     },
     "user_tz": -120
    },
    "id": "NzeGJYGLGoCc"
   },
   "outputs": [],
   "source": [
    "dataset = Dataset.from_pandas(df)\n",
    "dataset = dataset.train_test_split(test_size=0.1, seed = 42)"
   ]
  },
  {
   "cell_type": "code",
   "execution_count": 15,
   "metadata": {
    "id": "mUaNSBW5GoCc"
   },
   "outputs": [],
   "source": [
    "def batch_iterator(dataset, batch_size=1000):\n",
    "    for i in range(0, len(dataset[\"train\"]), batch_size):\n",
    "        yield dataset[\"train\"][i : i + batch_size][\"text\"]"
   ]
  },
  {
   "cell_type": "code",
   "execution_count": 16,
   "metadata": {
    "id": "8XAYNT6RGoCd"
   },
   "outputs": [],
   "source": [
    "def df_for_transformer(dataset, ngram, num_examples):\n",
    "    df = []\n",
    "    for s in dataset[0:num_examples][\"text\"]:\n",
    "        for w in range(len(s.split(' '))):\n",
    "            splitat = w\n",
    "            left = ' '.join(s.split(' ')[max(0,splitat-ngram):splitat])\n",
    "            right = ' '.join(s.split(' ')[splitat:splitat+1])\n",
    "            df.append([s, left, right])\n",
    "    df = pd.DataFrame(df).rename({0: 'sentences', 1:'entry', 2:'prediction'},axis=1)\n",
    "    return df\n",
    "\n",
    "def tokenize_df(df, column, num_words, tokenizer=None):\n",
    "        # tokenization des phrases\n",
    "        if tokenizer == None:\n",
    "            tokenizer = tf.keras.preprocessing.text.Tokenizer(num_words = num_words)\n",
    "            tokenizer.fit_on_texts(df[\"sentences\"])\n",
    "        # transformation des phrases en séquences\n",
    "        seq = tokenizer.texts_to_sequences(df[column])\n",
    "        # ajout des tokens de début et fin de séquence\n",
    "        seq = [[num_words] + s + [num_words+ 1] for s in seq]\n",
    "        return seq, tokenizer        "
   ]
  },
  {
   "cell_type": "markdown",
   "metadata": {
    "id": "9hD1cx01GoCd"
   },
   "source": [
    "## II. Modèle Transformer"
   ]
  },
  {
   "cell_type": "markdown",
   "metadata": {
    "id": "MQjEV_dk7wyt"
   },
   "source": [
    "### a. Définition des classes"
   ]
  },
  {
   "cell_type": "markdown",
   "metadata": {
    "id": "mfC2X58H8gj_"
   },
   "source": [
    "#### Multihead Attention"
   ]
  },
  {
   "cell_type": "code",
   "execution_count": 17,
   "metadata": {
    "id": "UMMbustD_7Yb"
   },
   "outputs": [],
   "source": [
    "class MultiHeadAttention(tf.keras.layers.Layer):\n",
    "    def __init__(self, d_model, num_heads):\n",
    "        super(MultiHeadAttention, self).__init__()\n",
    "        self.num_heads = num_heads\n",
    "        self.d_model = d_model\n",
    "\n",
    "        assert d_model % self.num_heads == 0\n",
    "\n",
    "        self.depth = d_model // self.num_heads\n",
    "\n",
    "        self.wq = tf.keras.layers.Dense(d_model)\n",
    "        self.wk = tf.keras.layers.Dense(d_model)\n",
    "        self.wv = tf.keras.layers.Dense(d_model)\n",
    "\n",
    "        self.dense = tf.keras.layers.Dense(d_model)\n",
    "\n",
    "    def split_heads(self, x, batch_size):\n",
    "        \"\"\"\n",
    "        Split the last dimension of x into (num_heads, depth).\n",
    "        Transpose the result such that the shape is (batch_size, num_heads, seq_len, depth)        \n",
    "        \"\"\"\n",
    "        # Reshaping is used to perform the split\n",
    "        x = tf.reshape(x, (batch_size, -1, self.num_heads, self.depth))\n",
    "        output = tf.transpose(x, perm=[0, 2, 1, 3])   \n",
    "        \n",
    "        return output\n",
    "\n",
    "    def call(self, v, k, q, mask):\n",
    "        batch_size = tf.shape(q)[0]\n",
    "\n",
    "        # Apply dense matrices to Q, K and V\n",
    "        q = self.wq(q)\n",
    "        k = self.wk(k)\n",
    "        v = self.wv(v)\n",
    "\n",
    "        # Split the vectors using the split_heads function defined above\n",
    "        q = self.split_heads(q, batch_size) \n",
    "        k = self.split_heads(k, batch_size) \n",
    "        v = self.split_heads(v, batch_size) \n",
    "\n",
    "        # Compute the masked scaled dot product attention on Q, K, V\n",
    "        scaled_attention, attention_weights = self.scaled_dot_product_attention(\n",
    "            q, k, v, mask)\n",
    "\n",
    "        # Concatenate the attention heads by reshaping the tensor\n",
    "        scaled_attention = tf.transpose(scaled_attention, perm=[0, 2, 1, 3])\n",
    "        concat_attention = tf.reshape(scaled_attention, \n",
    "                                      (batch_size, -1, self.d_model))\n",
    "        \n",
    "        # Apply the dense matrix wo to the output\n",
    "        output = self.dense(concat_attention)\n",
    "\n",
    "        return output, attention_weights\n",
    "\n",
    "    def scaled_dot_product_attention(self, q, k, v, mask):\n",
    "        \"\"\"Calculate the attention weights.\n",
    "\n",
    "        Args:\n",
    "        q: query shape == (..., seq_len_q, depth)\n",
    "        k: key shape == (..., seq_len_k, depth)\n",
    "        v: value shape == (..., seq_len_v, depth_v)\n",
    "        mask: Float tensor\n",
    "\n",
    "        Returns:\n",
    "        output, attention_weights\n",
    "        \"\"\"\n",
    "        \n",
    "        # Get dk the dimension of the keys\n",
    "        dk = tf.cast(tf.shape(k)[-1], tf.float32)\n",
    "        \n",
    "        # Compute dot products \n",
    "        dot_products = tf.matmul(q, k, transpose_b=True)\n",
    "        \n",
    "        # Scale dot products\n",
    "        scaled_dot_products = dot_products / tf.math.sqrt(dk)\n",
    "\n",
    "        # Apply mask\n",
    "        if mask is not None:\n",
    "            # Multiply mask by -1e10 (almost infinity)a\n",
    "            mask = mask * (-1e10)\n",
    "            \n",
    "            # Sum dot products with mask\n",
    "            scaled_dot_products = scaled_dot_products + mask\n",
    "        \n",
    "        # Apply softmax to get attention weights\n",
    "        attention_weights = tf.nn.softmax(scaled_dot_products)\n",
    "        \n",
    "        # Get the attention vector\n",
    "        attention_vector = tf.matmul(attention_weights, v)\n",
    "\n",
    "        return attention_vector, attention_weights\n"
   ]
  },
  {
   "cell_type": "markdown",
   "metadata": {
    "id": "SMPbapnj_lG2"
   },
   "source": [
    "#### Encoder"
   ]
  },
  {
   "cell_type": "code",
   "execution_count": 18,
   "metadata": {
    "id": "5E_B4INGuPOn"
   },
   "outputs": [],
   "source": [
    "class EncoderLayer(tf.keras.layers.Layer):\n",
    "    def __init__(self, d_model, num_heads, dff, rate=0.1):\n",
    "        super(EncoderLayer, self).__init__()\n",
    "\n",
    "        self.mha = MultiHeadAttention(d_model, num_heads)\n",
    "        \n",
    "        self.ffn = tf.keras.models.Sequential()\n",
    "        self.ffn.add(tf.keras.layers.Dense(dff, activation='relu'))\n",
    "        self.ffn.add(tf.keras.layers.Dense(d_model))\n",
    "\n",
    "        self.layernorm1 = tf.keras.layers.LayerNormalization(epsilon=1e-6)\n",
    "        self.layernorm2 = tf.keras.layers.LayerNormalization(epsilon=1e-6)\n",
    "\n",
    "        self.dropout1 = tf.keras.layers.Dropout(rate)\n",
    "        self.dropout2 = tf.keras.layers.Dropout(rate)\n",
    "\n",
    "    def call(self, x, training, mask):\n",
    "        # Step 1\n",
    "        A, _ = self.mha(x, x, x, mask)\n",
    "        \n",
    "        # Step 2\n",
    "        A = self.dropout1(A, training=training)\n",
    "        \n",
    "        # Step 3\n",
    "        x = A + x\n",
    "        \n",
    "        # Step 4\n",
    "        x = self.layernorm1(x)\n",
    "        \n",
    "        # Step 5\n",
    "        O = self.ffn(x)\n",
    "        \n",
    "        # Step 6\n",
    "        O = self.dropout2(O)\n",
    "        \n",
    "        # Step 7\n",
    "        x = O + x\n",
    "        \n",
    "        # Step 8\n",
    "        output = self.layernorm2(x)\n",
    "        \n",
    "        return output"
   ]
  },
  {
   "cell_type": "code",
   "execution_count": 19,
   "metadata": {
    "id": "24nqiWliAhpi"
   },
   "outputs": [],
   "source": [
    "class Encoder(tf.keras.layers.Layer):\n",
    "    def __init__(self, num_layers, d_model, num_heads, dff, input_vocab_size,\n",
    "               maximum_position_encoding, rate=0.1):\n",
    "        \"\"\"\n",
    "        num_layers : Number of Encoding layers in the Encoder.\n",
    "        \n",
    "        d_model : Dimensionality of the embedding layer's output.\n",
    "        \n",
    "        num_heads : Number of attention heads in the Multi-Head Attention layers.\n",
    "        \n",
    "        dff : Number of neurons in the first layer of the Feed Forward Network in the Encoding layers.\n",
    "        \n",
    "        input_vocab_size : Size of the vocabulary the embedding layer should train on.\n",
    "        \n",
    "        maximum_position_encoding : Maximum number of tokens in a sequence.\n",
    "        \n",
    "        rate : Dropout rate in the Encoding layers.      \n",
    "        \n",
    "        \"\"\"\n",
    "        super(Encoder, self).__init__()\n",
    "\n",
    "        self.d_model = d_model\n",
    "        \n",
    "        self.num_layers = num_layers\n",
    "\n",
    "        self.embedding = tf.keras.layers.Embedding(input_vocab_size, d_model)\n",
    "        \n",
    "        self.pos_encoding = positional_encoding(maximum_position_encoding, \n",
    "                                                self.d_model)\n",
    "\n",
    "\n",
    "        self.enc_layers = [EncoderLayer(d_model, num_heads, dff, rate) \n",
    "                           for _ in range(num_layers)]\n",
    "\n",
    "        self.dropout = tf.keras.layers.Dropout(rate)\n",
    "        \n",
    "    def call(self, x, training, mask):\n",
    "        \n",
    "        seq_len = tf.shape(x)[1]\n",
    "        \n",
    "        # Generate Embedding\n",
    "        x = self.embedding(x) \n",
    "\n",
    "        # Add Positional Encoding\n",
    "        x += self.pos_encoding[:, :seq_len, :]\n",
    "\n",
    "        # Apply Dropout\n",
    "        x = self.dropout(x, training=training)\n",
    "\n",
    "        # Apply Encoding Layers\n",
    "        for i in range(self.num_layers):\n",
    "            x = self.enc_layers[i](x, training, mask)\n",
    "\n",
    "        return x "
   ]
  },
  {
   "cell_type": "markdown",
   "metadata": {
    "id": "rNczBKCe88KX"
   },
   "source": [
    "#### Decoder"
   ]
  },
  {
   "cell_type": "code",
   "execution_count": 20,
   "metadata": {
    "id": "63No4uk6ulCM"
   },
   "outputs": [],
   "source": [
    "class DecoderLayer(tf.keras.layers.Layer):\n",
    "    def __init__(self, d_model, num_heads, dff, rate=0.1):\n",
    "        \"\"\"        \n",
    "        d_model : Dimensionality of the embedding layer's output.\n",
    "        \n",
    "        num_heads : Number of attention heads in the Multi-Head Attention layers.\n",
    "        \n",
    "        dff : Number of neurons in the first layer of the Feed Forward Network in the Decoding layers.\n",
    "        \n",
    "        rate : Dropout rate in the Decoding layers.      \n",
    "        \"\"\"\n",
    "        \n",
    "        super(DecoderLayer, self).__init__()\n",
    "\n",
    "        self.mha1 = MultiHeadAttention(d_model, num_heads)\n",
    "        self.mha2 = MultiHeadAttention(d_model, num_heads)\n",
    "\n",
    "        self.ffn = tf.keras.models.Sequential()\n",
    "        self.ffn.add(tf.keras.layers.Dense(dff, activation='relu'))\n",
    "        self.ffn.add(tf.keras.layers.Dense(d_model))\n",
    "\n",
    "        self.layernorm1 = tf.keras.layers.LayerNormalization(epsilon=1e-6)\n",
    "        self.layernorm2 = tf.keras.layers.LayerNormalization(epsilon=1e-6)\n",
    "        self.layernorm3 = tf.keras.layers.LayerNormalization(epsilon=1e-6)\n",
    "\n",
    "        self.dropout1 = tf.keras.layers.Dropout(rate)\n",
    "        self.dropout2 = tf.keras.layers.Dropout(rate)\n",
    "        self.dropout3 = tf.keras.layers.Dropout(rate)\n",
    "    \n",
    "    \n",
    "    def call(self, x, enc_output, training, \n",
    "           look_ahead_mask, padding_mask):\n",
    "        \"\"\"\n",
    "        x : Input Tensor of the embeddings of the partially translated sentence.\n",
    "        \n",
    "        enc_output : Output Tensor of the Decoder.\n",
    "        \n",
    "        training : Whether the model is training or not so that Dropout is only applied during training.\n",
    "        \n",
    "        look_ahead_mask : Tensor for masking tokens that have not been translated yet.\n",
    "        \n",
    "        padding_mask : Tensor masking padding tokens of the Decoder's input.      \n",
    "        \"\"\"\n",
    "\n",
    "        A1, _  = self.mha1(x, x, x, look_ahead_mask)\n",
    "        A1     = self.dropout1(A1, training=training)\n",
    "        x      = A1 + x\n",
    "        x      = self.layernorm1(x)\n",
    "\n",
    "        A2, _  = self.mha2(enc_output, enc_output, x, padding_mask)\n",
    "        A2     = self.dropout2(A2, training=training)\n",
    "        x      = A2 + x\n",
    "        x      = self.layernorm2(x) \n",
    "\n",
    "        O      = self.ffn(x) \n",
    "        O      = self.dropout3(O, training=training)\n",
    "        x      = O + x\n",
    "        Output = self.layernorm3(x) \n",
    "\n",
    "        return Output"
   ]
  },
  {
   "cell_type": "code",
   "execution_count": 21,
   "metadata": {
    "id": "YWhrS9M5AyRp"
   },
   "outputs": [],
   "source": [
    "class Decoder(tf.keras.layers.Layer):\n",
    "    def __init__(self, num_layers, d_model, num_heads, dff, target_vocab_size,\n",
    "               maximum_position_encoding, rate=0.1):\n",
    "        \"\"\"\n",
    "        num_layers : Number of Decoding layers in the Decoder.\n",
    "        \n",
    "        d_model : Dimensionality of the embedding layer's output.\n",
    "        \n",
    "        num_heads : Number of attention heads in the Multi-Head Attention layers.\n",
    "        \n",
    "        dff : Number of neurons in the first layer of the Feed Forward Network in the Decoding layers.\n",
    "        \n",
    "        target_vocab_size : Size of the vocabulary the embedding layer should train on.\n",
    "        \n",
    "        maximum_position_encoding : Maximum number of tokens in a sequence.\n",
    "        \n",
    "        rate : Dropout rate in the Decoding layers.      \n",
    "        \"\"\"\n",
    "        \n",
    "        super(Decoder, self).__init__()\n",
    "\n",
    "        self.d_model = d_model\n",
    "        self.num_layers = num_layers\n",
    "\n",
    "        self.embedding = tf.keras.layers.Embedding(target_vocab_size, d_model)\n",
    "        self.pos_encoding = positional_encoding(maximum_position_encoding, d_model)\n",
    "\n",
    "        self.dec_layers = [DecoderLayer(d_model, num_heads, dff, rate) \n",
    "                           for _ in range(num_layers)]\n",
    "        self.dropout = tf.keras.layers.Dropout(rate)\n",
    "    \n",
    "    def call(self, x, enc_output, training, \n",
    "           look_ahead_mask, padding_mask):\n",
    "        \"\"\"\n",
    "        x : Input Tensor of the partially translated sentence.\n",
    "        \n",
    "        enc_output : Output Tensor of the Encoder.\n",
    "        \n",
    "        training : Whether the model is training or not so that Dropout is only applied during training.\n",
    "        \n",
    "        look_ahead_mask : Tensor for masking tokens that have not been translated yet.\n",
    "        \n",
    "        padding_mask : Tensor masking padding tokens of the Decoder's input.      \n",
    "        \"\"\"\n",
    "        seq_len = tf.shape(x)[1]\n",
    "        \n",
    "        # Generate Embedding\n",
    "        x = self.embedding(x) \n",
    "\n",
    "        # Add Positional Encoding\n",
    "        x += self.pos_encoding[:, :seq_len, :]\n",
    "\n",
    "        # Apply Dropout\n",
    "        x = self.dropout(x, training=training)\n",
    "\n",
    "        # Apply Decoding Layers\n",
    "        for i in range(self.num_layers):\n",
    "            x = self.dec_layers[i](x, enc_output, training,\n",
    "                                   look_ahead_mask, padding_mask)\n",
    "\n",
    "        return x "
   ]
  },
  {
   "cell_type": "markdown",
   "metadata": {
    "id": "vQGH7DXlA4_H"
   },
   "source": [
    "#### Transformer"
   ]
  },
  {
   "cell_type": "code",
   "execution_count": 22,
   "metadata": {
    "id": "x0xLYTkkA2wE"
   },
   "outputs": [],
   "source": [
    "class Transformer(tf.keras.Model):\n",
    "    def __init__(self, num_layers, d_model, num_heads, dff, input_vocab_size, \n",
    "               target_vocab_size, pe_input, pe_target, rate=0.1):\n",
    "        \"\"\"\n",
    "        num_layers : Number of Encoding/Decoding layers in the Encoder/Decoder.\n",
    "        d_model    : Dimensionality of the embedding layers' output.\n",
    "        num_heads  : Number of attention heads in the Multi-Head Attention layers.\n",
    "        dff        : Number of neurons in the first layer of the Feed Forward Network in the Encoding/Decoding layers.\n",
    "        rate       : Dropout rate in the Encoding/Decoding layers.    \n",
    "        \n",
    "        input_vocab_size  : Size of the vocabulary the Encoder's embedding layer should train on.\n",
    "        target_vocab_size : Size of the vocabulary the Encoder's embedding layer should train on.\n",
    "        \n",
    "        \n",
    "        pe_input  : Maximum number of tokens in the input sequence of the Encoder.\n",
    "        pe_target : Maximum number of tokens in the input sequence of the Decoder.\n",
    "        \"\"\"       \n",
    "        super(Transformer, self).__init__()\n",
    "\n",
    "        self.encoder = Encoder(num_layers, d_model, num_heads, dff, \n",
    "                               input_vocab_size, pe_input, rate)\n",
    "\n",
    "        self.decoder = Decoder(num_layers, d_model, num_heads, dff, \n",
    "                               target_vocab_size, pe_target, rate)\n",
    "\n",
    "        self.final_layer = tf.keras.layers.Dense(target_vocab_size, activation = 'softmax')\n",
    "    \n",
    "    def call(self, encoder_input, decoder_input ,training, enc_padding_mask, \n",
    "           look_ahead_mask, dec_padding_mask):\n",
    "        \"\"\"\n",
    "        encoder_input : Input Tensor of the original sentence to be given to the Encoder.\n",
    "        decoder_input : Input Tensor of the partially translated sentence to be given to the Decoder.\n",
    "        \n",
    "        training : Whether the model is training or not so that Dropout is only applied during training.\n",
    "        \n",
    "        enc_padding_mask : Tensor masking padding tokens of the Encoder's input.\n",
    "        look_ahead_mask  : Tensor for masking tokens that have not been translated yet.\n",
    "        dec_padding_mask : Tensor masking padding tokens of the Decoder's input.      \n",
    "        \"\"\"\n",
    "\n",
    "        # Get Encoder Output\n",
    "        enc_output = self.encoder(encoder_input, training, enc_padding_mask)\n",
    "\n",
    "        # Get Decoder Output\n",
    "        dec_output = self.decoder(decoder_input, enc_output, training, look_ahead_mask, dec_padding_mask)\n",
    "        \n",
    "        # Perform Classification\n",
    "        final_output = self.final_layer(dec_output)\n",
    "\n",
    "        return final_output"
   ]
  },
  {
   "cell_type": "markdown",
   "metadata": {
    "id": "P3BXgVSPlZ1w"
   },
   "source": [
    "#### Fonctions de positionnement"
   ]
  },
  {
   "cell_type": "code",
   "execution_count": 23,
   "metadata": {
    "id": "zKc8kblpuTpA"
   },
   "outputs": [],
   "source": [
    "def positional_encoding(position_max, d_model):\n",
    "    i = np.linspace(0, d_model-1, d_model)\n",
    "    \n",
    "    pos_encoding = np.zeros((position_max, d_model))\n",
    "    \n",
    "    for pos, row in enumerate(pos_encoding):\n",
    "        pos_encoding[pos, ::2] = np.sin(pos/(10000 ** (i[::2]/d_model)))\n",
    "        pos_encoding[pos, 1::2] = np.cos(pos/(10000 ** ((i[1::2]-1)/d_model))) \n",
    "    \n",
    "    return tf.cast(pos_encoding.reshape(1, position_max, d_model), dtype = tf.float32)"
   ]
  },
  {
   "cell_type": "markdown",
   "metadata": {
    "id": "mMgKfy2jiKRV"
   },
   "source": [
    "### b. Entraînement du modèle"
   ]
  },
  {
   "cell_type": "markdown",
   "metadata": {
    "id": "786LUvgoGoCh"
   },
   "source": [
    "#### Paramètres du modèle"
   ]
  },
  {
   "cell_type": "code",
   "execution_count": 24,
   "metadata": {
    "id": "o66yBiopGoCi"
   },
   "outputs": [],
   "source": [
    "NUM_MAILS=100000\n",
    "NUM_WORDS=40000\n",
    "NPRED = NUM_WORDS+2\n",
    "MAX_LENGTH=40\n",
    "NGRAMS = MAX_LENGTH\n",
    "EPOCHS = 1\n",
    "TOP_RECALCUL = True"
   ]
  },
  {
   "cell_type": "markdown",
   "metadata": {
    "id": "Y82eW8iwGoCi"
   },
   "source": [
    "#### Preparation du dataset"
   ]
  },
  {
   "cell_type": "code",
   "execution_count": 25,
   "metadata": {
    "id": "rD5v0ZmKGoCi"
   },
   "outputs": [],
   "source": [
    "# Instanciation du dataset Train\n",
    "df = df_for_transformer(dataset[\"train\"], ngram=NGRAMS, num_examples=NUM_MAILS)\n",
    "\n",
    "# Tokenisation\n",
    "sequences = {}\n",
    "sequences[\"entry\"], tokenizer_transformer = tokenize_df(df, \"entry\", num_words=NUM_WORDS)\n",
    "sequences[\"prediction\"], tokenizer_transformer = tokenize_df(df, \"prediction\", num_words=NUM_WORDS, tokenizer=tokenizer_transformer)\n",
    "\n",
    "# Filtre des longueurs\n",
    "X, Y = [], []\n",
    "for x, y in zip(sequences[\"entry\"], sequences[\"prediction\"]):\n",
    "    if len(x) <= MAX_LENGTH and len(y) <= MAX_LENGTH:\n",
    "        X.append(x)\n",
    "        Y.append(y)\n",
    "sequences[\"entry\"] = X        \n",
    "sequences[\"prediction\"] = Y\n",
    "        \n",
    "# Padding\n",
    "for c in [\"entry\", \"prediction\"]:\n",
    "    sequences[c] = tf.keras.preprocessing.sequence.pad_sequences(sequences[c], padding='post')\n",
    "\n",
    "# Constitution du dataset TENSORFLOW\n",
    "train_dataset = tf.data.Dataset.from_tensor_slices((sequences['entry'], sequences['prediction'])).batch(64)\n",
    "len_dataset = len(sequences['entry'])"
   ]
  },
  {
   "cell_type": "code",
   "execution_count": 26,
   "metadata": {
    "colab": {
     "base_uri": "https://localhost:8080/"
    },
    "executionInfo": {
     "elapsed": 1215,
     "status": "ok",
     "timestamp": 1653046897065,
     "user": {
      "displayName": "Adrien Senecal",
      "userId": "17091121813353622118"
     },
     "user_tz": -120
    },
    "id": "Ta6zLEtLGoCi",
    "outputId": "daa222e3-72f7-4470-ca8b-d9f32d41be8d"
   },
   "outputs": [
    {
     "name": "stdout",
     "output_type": "stream",
     "text": [
      "Longueur maximale entry: 1648981\n",
      "Longueur maximale prediction: 1648981\n",
      "\n",
      "Taille Corpus entry: 1648981\n",
      "Taille Corpus prediction: 1648981\n"
     ]
    }
   ],
   "source": [
    "lengths_fr = []\n",
    "lengths_en = []\n",
    "\n",
    "for x, y in zip(sequences[\"entry\"], sequences[\"prediction\"]):\n",
    "    lengths_fr.append(len(sequences[\"entry\"]))\n",
    "    lengths_en.append(len(sequences[\"prediction\"]))\n",
    "    \n",
    "print(\"Longueur maximale entry:\", max(lengths_fr))\n",
    "print(\"Longueur maximale prediction:\", max(lengths_en))\n",
    "print()\n",
    "print(\"Taille Corpus entry:\", len(sequences[\"entry\"]))\n",
    "print(\"Taille Corpus prediction:\", len(sequences[\"prediction\"]))"
   ]
  },
  {
   "cell_type": "code",
   "execution_count": 27,
   "metadata": {
    "id": "avGEz3gtGoCj"
   },
   "outputs": [],
   "source": [
    "# Instanciation du dataset test\n",
    "df_test = df_for_transformer(dataset[\"test\"], ngram=NGRAMS, num_examples=int(NUM_MAILS/10))\n",
    "\n",
    "# Tokenisation\n",
    "sequences_test, tokenizers_test = {}, {}\n",
    "for c in [\"entry\", \"prediction\"]:\n",
    "    sequences_test[c], tokenizer_transformer = tokenize_df(df_test, c, num_words=NUM_WORDS, tokenizer=tokenizer_transformer)\n",
    "    \n",
    "# Filtre des longueurs\n",
    "X, Y = [], []\n",
    "for x, y in zip(sequences_test[\"entry\"], sequences_test[\"prediction\"]):\n",
    "    if len(x) <= MAX_LENGTH and len(y) <= MAX_LENGTH:\n",
    "        X.append(x)\n",
    "        Y.append(y)\n",
    "sequences_test[\"entry\"] = X        \n",
    "sequences_test[\"prediction\"] = Y\n",
    "        \n",
    "# Padding\n",
    "for c in [\"entry\", \"prediction\"]:\n",
    "    sequences_test[c] = tf.keras.preprocessing.sequence.pad_sequences(sequences_test[c], padding='post')\n",
    "\n",
    "# Constitution du dataset TENSORFLOW\n",
    "test_dataset = tf.data.Dataset.from_tensor_slices((sequences_test['entry'], sequences_test['prediction'])).batch(64)"
   ]
  },
  {
   "cell_type": "code",
   "execution_count": 28,
   "metadata": {
    "colab": {
     "base_uri": "https://localhost:8080/"
    },
    "executionInfo": {
     "elapsed": 367,
     "status": "ok",
     "timestamp": 1653046904851,
     "user": {
      "displayName": "Adrien Senecal",
      "userId": "17091121813353622118"
     },
     "user_tz": -120
    },
    "id": "uQroSEmGGoCj",
    "outputId": "f98e9976-d7b2-4052-d03c-0c9783ff0ff2"
   },
   "outputs": [
    {
     "name": "stdout",
     "output_type": "stream",
     "text": [
      "Longueur maximale entry: 166591\n",
      "Longueur maximale prediction: 166591\n",
      "\n",
      "Taille Corpus entry: 166591\n",
      "Taille Corpus prediction: 166591\n"
     ]
    }
   ],
   "source": [
    "lengths_fr = []\n",
    "lengths_en = []\n",
    "\n",
    "for x, y in zip(sequences_test[\"entry\"], sequences_test[\"prediction\"]):\n",
    "    lengths_fr.append(len(sequences_test[\"entry\"]))\n",
    "    lengths_en.append(len(sequences_test[\"prediction\"]))\n",
    "    \n",
    "print(\"Longueur maximale entry:\", max(lengths_fr))\n",
    "print(\"Longueur maximale prediction:\", max(lengths_en))\n",
    "print()\n",
    "print(\"Taille Corpus entry:\", len(sequences_test[\"entry\"]))\n",
    "print(\"Taille Corpus prediction:\", len(sequences_test[\"prediction\"]))"
   ]
  },
  {
   "cell_type": "code",
   "execution_count": 30,
   "metadata": {
    "id": "k3K-CCBtGoCj"
   },
   "outputs": [],
   "source": [
    "# Save the dataset on drive\n",
    "file = os.path.join(path, \"Transformer\", \"train_dataset\", \"\")\n",
    "tf.data.experimental.save(train_dataset, file, compression=\"GZIP\")\n",
    "file = os.path.join(path, \"Transformer\", \"test_dataset\", \"\")\n",
    "tf.data.experimental.save(test_dataset, file, compression=\"GZIP\")\n",
    "\n",
    "tokenizer_json = tokenizer_transformer.to_json() # Save Tokenizer to json format\n",
    "file = os.path.join(path, \"Transformer\", \"tokenizer_json.gz\")\n",
    "save_object(tokenizer_json, file, zip=True)"
   ]
  },
  {
   "cell_type": "code",
   "execution_count": 31,
   "metadata": {
    "id": "yvLB22gAGoCj"
   },
   "outputs": [],
   "source": [
    "# Load the dataset from drive\n",
    "file = os.path.join(path, \"Transformer\", \"train_dataset\", \"\")\n",
    "train_dataset = tf.data.experimental.load(file, compression=\"GZIP\")\n",
    "file = os.path.join(path, \"Transformer\", \"test_dataset\", \"\")\n",
    "test_dataset = tf.data.experimental.load(file, compression=\"GZIP\")\n",
    "\n",
    "file = os.path.join(path, \"Transformer\", \"tokenizer_json.gz\")\n",
    "tokenizer_json = load_object(file, zip=True)\n",
    "tokenizer_transformer = tf.keras.preprocessing.text.tokenizer_from_json(tokenizer_json)"
   ]
  },
  {
   "cell_type": "markdown",
   "metadata": {
    "id": "BKA3_glGir_b",
    "tags": []
   },
   "source": [
    "#### Initialisation"
   ]
  },
  {
   "cell_type": "code",
   "execution_count": 32,
   "metadata": {
    "id": "CKvXTQafGoCk"
   },
   "outputs": [],
   "source": [
    "num_layers = 1\n",
    "d_model = 128\n",
    "dff = 512\n",
    "num_heads = 8\n",
    "\n",
    "input_vocab_size = tokenizer_transformer.num_words + 2\n",
    "target_vocab_size = tokenizer_transformer.num_words + 2\n",
    "dropout_rate = 0.1\n",
    "\n",
    "\n",
    "transformer = Transformer(num_layers, d_model, num_heads, dff,\n",
    "                          input_vocab_size, target_vocab_size, \n",
    "                          pe_input=input_vocab_size,\n",
    "                          pe_target=target_vocab_size,\n",
    "                          rate=dropout_rate)"
   ]
  },
  {
   "cell_type": "code",
   "execution_count": null,
   "metadata": {
    "id": "3OFzTec8GoCk"
   },
   "outputs": [],
   "source": [
    "# Gros transformer\n",
    "num_layers = 2\n",
    "d_model = 256\n",
    "dff = 512\n",
    "num_heads = 16\n",
    "\n",
    "input_vocab_size = tokenizer_transformer.num_words + 2\n",
    "target_vocab_size = tokenizer_transformer.num_words + 2\n",
    "dropout_rate = 0.1\n",
    "\n",
    "\n",
    "transformer = Transformer(num_layers, d_model, num_heads, dff,\n",
    "                          input_vocab_size, target_vocab_size, \n",
    "                          pe_input=input_vocab_size,\n",
    "                          pe_target=target_vocab_size,\n",
    "                          rate=dropout_rate)"
   ]
  },
  {
   "cell_type": "markdown",
   "metadata": {
    "id": "cMAHWmFiifz3"
   },
   "source": [
    "#### Masques"
   ]
  },
  {
   "cell_type": "code",
   "execution_count": 33,
   "metadata": {
    "id": "reKlEbwlibpv"
   },
   "outputs": [],
   "source": [
    "# Création des masques\n",
    "def create_masks(inp, tar):\n",
    "    # Encoder padding mask\n",
    "    enc_padding_mask = create_padding_mask(inp)\n",
    "\n",
    "    # Used in the 2nd attention block in the decoder.\n",
    "    # This padding mask is used to mask the encoder outputs.\n",
    "    dec_padding_mask = create_padding_mask(inp)\n",
    "\n",
    "    # Used in the 1st attention block in the decoder.\n",
    "    # It is used to pad and mask future tokens in the input received by \n",
    "    # the decoder.\n",
    "    look_ahead_mask = create_look_ahead_mask(tf.shape(tar)[1])\n",
    "    dec_target_padding_mask = create_padding_mask(tar)\n",
    "    combined_mask = tf.maximum(dec_target_padding_mask, look_ahead_mask)\n",
    "\n",
    "    return enc_padding_mask, combined_mask, dec_padding_mask\n",
    "\n",
    "# Création du masque Look Ahead\n",
    "def create_look_ahead_mask(MAX_LENGTH):\n",
    "    mask = 1 - tf.linalg.band_part(tf.ones((MAX_LENGTH, MAX_LENGTH)), -1, 0)\n",
    "    return mask  # (MAX_LENGTH, MAX_LENGTH)\n",
    "\n",
    "# Création du masque de padding\n",
    "def create_padding_mask(seq):\n",
    "    seq = tf.cast(tf.math.equal(seq, 0), tf.float32)\n",
    "    # add extra dimensions to add the padding\n",
    "    # to the attention logits.\n",
    "    return seq[:, tf.newaxis, tf.newaxis, :]  # (batch_size, 1, 1, seq_len)"
   ]
  },
  {
   "cell_type": "markdown",
   "metadata": {
    "id": "hr3bN5mqivM-"
   },
   "source": [
    "#### Fonction de coût"
   ]
  },
  {
   "cell_type": "code",
   "execution_count": 34,
   "metadata": {
    "id": "OROYEJbPipWi"
   },
   "outputs": [],
   "source": [
    "loss_object = tf.keras.losses.SparseCategoricalCrossentropy(reduction='none')\n",
    "\n",
    "def loss_function(real, pred):\n",
    "    valid_tokens = tf.math.logical_not(tf.math.equal(real, 0))\n",
    "    # if real != 0 -> valid_tokens = True This is used to mask padded outputs\n",
    "\n",
    "    \n",
    "    loss_ = loss_object(real, pred)\n",
    "  \n",
    "    valid_tokens = tf.cast(valid_tokens, dtype=loss_.dtype)#cast valid_tokens to the same type as loss_\n",
    "    loss_ = tf.reduce_sum(loss_*valid_tokens)/tf.reduce_sum(valid_tokens)\n",
    "  \n",
    "    return loss_"
   ]
  },
  {
   "cell_type": "markdown",
   "metadata": {
    "id": "eXo4aXmEjDdK"
   },
   "source": [
    "#### Optimiseur"
   ]
  },
  {
   "cell_type": "code",
   "execution_count": 35,
   "metadata": {
    "id": "-kZhrfPjjFZ2"
   },
   "outputs": [],
   "source": [
    "class CustomSchedule(tf.keras.optimizers.schedules.LearningRateSchedule):\n",
    "    def __init__(self, d_model, warmup_steps=4000):\n",
    "        super(CustomSchedule, self).__init__()\n",
    "\n",
    "        self.d_model = d_model\n",
    "        self.d_model = tf.cast(self.d_model, tf.float32)\n",
    "\n",
    "        self.warmup_steps = warmup_steps\n",
    "\n",
    "    def __call__(self, step):\n",
    "        arg1 = tf.math.rsqrt(step)\n",
    "        arg2 = step * (self.warmup_steps ** -1.5)\n",
    "\n",
    "        return tf.math.rsqrt(self.d_model) * tf.math.minimum(arg1, arg2)"
   ]
  },
  {
   "cell_type": "code",
   "execution_count": 36,
   "metadata": {
    "id": "tUDc-0q1jNUn"
   },
   "outputs": [],
   "source": [
    "learning_rate = CustomSchedule(d_model)\n",
    "\n",
    "optimizer = tf.keras.optimizers.Adam(learning_rate, beta_1=0.9, beta_2=0.98, \n",
    "                                     epsilon=1e-9)"
   ]
  },
  {
   "cell_type": "markdown",
   "metadata": {
    "id": "l0jN9-T_jbtW"
   },
   "source": [
    "#### Entraînement"
   ]
  },
  {
   "cell_type": "code",
   "execution_count": 37,
   "metadata": {
    "id": "UfYWWgkMjdkd"
   },
   "outputs": [],
   "source": [
    "# Serviront à l'affichage pendant l'entraînement\n",
    "train_loss = tf.keras.metrics.Mean(name='train_loss')\n",
    "train_accuracy = tf.keras.metrics.SparseCategoricalAccuracy(\n",
    "    name='train_accuracy')\n",
    "\n",
    "train_step_signature = [\n",
    "    tf.TensorSpec(shape=(None, None), dtype=tf.int32),\n",
    "    tf.TensorSpec(shape=(None, None), dtype=tf.int32),\n",
    "]\n",
    "\n",
    "@tf.function(input_signature=train_step_signature)\n",
    "def train_step(inp, tar):\n",
    "    tar_inp = tar[:, :-1]\n",
    "    tar_real = tar[:, 1:]\n",
    "\n",
    "    enc_padding_mask, combined_mask, dec_padding_mask = create_masks(inp, tar_inp)\n",
    "\n",
    "    with tf.GradientTape() as tape:\n",
    "        predictions = transformer(inp, \n",
    "                                  tar_inp,\n",
    "                                  True, \n",
    "                                  enc_padding_mask, \n",
    "                                  combined_mask, \n",
    "                                  dec_padding_mask)\n",
    "        loss = loss_function(tar_real, predictions)\n",
    "\n",
    "    gradients = tape.gradient(loss, transformer.trainable_variables)    \n",
    "    optimizer.apply_gradients(zip(gradients, transformer.trainable_variables))\n",
    "\n",
    "    train_loss(loss)\n",
    "    train_accuracy(tar_real, predictions)"
   ]
  },
  {
   "cell_type": "markdown",
   "metadata": {
    "id": "x_LoBw3SGoCm"
   },
   "source": [
    "#### Validation"
   ]
  },
  {
   "cell_type": "code",
   "execution_count": 38,
   "metadata": {
    "id": "RAnB3pdaGoCm"
   },
   "outputs": [],
   "source": [
    "# Serviront à l'affichage pendant l'entraînement\n",
    "val_loss = tf.keras.metrics.Mean(name='val_loss')\n",
    "val_accuracy = tf.keras.metrics.SparseCategoricalAccuracy(\n",
    "    name='val_accuracy')\n",
    "\n",
    "val_step_signature = [\n",
    "    tf.TensorSpec(shape=(None, None), dtype=tf.int32),\n",
    "    tf.TensorSpec(shape=(None, None), dtype=tf.int32),\n",
    "]\n",
    "\n",
    "@tf.function(input_signature=val_step_signature)\n",
    "def val_step(inp, tar):\n",
    "    tar_inp = tar[:, :-1]\n",
    "    tar_real = tar[:, 1:]\n",
    "\n",
    "    enc_padding_mask, combined_mask, dec_padding_mask = create_masks(inp, tar_inp)\n",
    "\n",
    "    with tf.GradientTape() as tape:\n",
    "        predictions = transformer(inp, \n",
    "                                  tar_inp,\n",
    "                                  False, \n",
    "                                  enc_padding_mask, \n",
    "                                  combined_mask, \n",
    "                                  dec_padding_mask)\n",
    "        loss = loss_function(tar_real, predictions)\n",
    "\n",
    "    gradients = tape.gradient(loss, transformer.trainable_variables)    \n",
    "    optimizer.apply_gradients(zip(gradients, transformer.trainable_variables))\n",
    "\n",
    "    val_loss(loss)\n",
    "    val_accuracy(tar_real, predictions)"
   ]
  },
  {
   "cell_type": "markdown",
   "metadata": {
    "id": "H026S-6cec_d"
   },
   "source": [
    "#### Affichage des paramètres du modèle"
   ]
  },
  {
   "cell_type": "code",
   "execution_count": 39,
   "metadata": {
    "colab": {
     "base_uri": "https://localhost:8080/"
    },
    "executionInfo": {
     "elapsed": 174,
     "status": "ok",
     "timestamp": 1653047156681,
     "user": {
      "displayName": "Adrien Senecal",
      "userId": "17091121813353622118"
     },
     "user_tz": -120
    },
    "id": "0-ac1-AaGoCn",
    "outputId": "53178bce-6613-4691-fb30-295209e12934"
   },
   "outputs": [
    {
     "data": {
      "text/plain": [
       "{'NUM_MAILS': 100000,\n",
       " 'NUM_WORDS': 40000,\n",
       " 'NPRED': 40002,\n",
       " 'MAX_LENGTH': 40,\n",
       " 'NGRAMS': 40,\n",
       " 'EPOCHS': 1,\n",
       " 'num_layers': 1,\n",
       " 'd_model': 128,\n",
       " 'dff': 512,\n",
       " 'num_heads': 8,\n",
       " 'dropout_rate': 0.1}"
      ]
     },
     "execution_count": 39,
     "metadata": {},
     "output_type": "execute_result"
    }
   ],
   "source": [
    "params = {'NUM_MAILS':NUM_MAILS,\n",
    "         'NUM_WORDS':NUM_WORDS,\n",
    "         'NPRED': NPRED,\n",
    "         'MAX_LENGTH':MAX_LENGTH,\n",
    "         'NGRAMS':NGRAMS,\n",
    "         'EPOCHS':EPOCHS,\n",
    "         'num_layers': num_layers,\n",
    "         'd_model':d_model,\n",
    "         'dff':dff,\n",
    "         'num_heads':num_heads,\n",
    "         'dropout_rate':dropout_rate}\n",
    "file = os.path.join(path, \"Transformer\", \"param.obj\")\n",
    "save_object(params, file, zip=False)\n",
    "params"
   ]
  },
  {
   "cell_type": "code",
   "execution_count": 40,
   "metadata": {
    "colab": {
     "base_uri": "https://localhost:8080/",
     "height": 611,
     "referenced_widgets": [
      "3abf2df1c0cf46e89059b644c3ff817e",
      "37cce9cafc694bddbfbdf5450b396358",
      "5bd242f892124cb184973a52a5b978ad",
      "6ebb11cdc4c545518030807a617460fb",
      "66f762faf54441b5a7f356de68d60af3",
      "618f599502b842a3ab00113081f6adf5",
      "633304e31b614ab8a431b4095cd28e03",
      "1df130a08fbd4e84a06bc2ae930c632f",
      "95217b2056374a5c840b29792a58c9b1",
      "7af52b25e1554ffcb74278d74f1fb471",
      "88a296e1cfd6414fb67d24e27f75ad7d",
      "db0328f1cec24fe1b24f1e103057618f",
      "a6ea80dc9f734e21b1a4a2020ef4d5cc",
      "a05093470b234a2ca261b6894cec2669",
      "b370207a5d4240e6966aeab93eb25a6b",
      "b658240c6b0f4610be25a68744206f1e",
      "446f77d89a0b450985f57f671748b8fe",
      "f616f536ed414f229d80cc27d834875b",
      "648806c280f043578c51be19e55265ab",
      "5425e948e36b4d9e91d1dacddf119f61",
      "4e0c2d9bb24949248f7d342f0a8d6fbe",
      "1cdb8db696594d6a9300cb4442aebc35",
      "d58bf176ffd14a9c832dd5cafe798815",
      "ae9cc5161e734e0fb52abd9f07b65908",
      "6ddd50ca62d1445ca1c9d2e39d2b42ae",
      "263fe7591e174310b236be979e167234",
      "4700eaaffbd048369a07ed3c388df6c1",
      "038b05c7163a4d8eb0d75cdc50e568d8",
      "653b06eb98f74943be94aebca1b0e343",
      "07547ed488394a1c8614822620536205",
      "5e442e54dfb14e04a1b68e8d4dee36a9",
      "9ca5530ef1fd4b628b4b97b25202f347",
      "abbfe79bb0814fe78d2ae18d5c870546",
      "07d2fb43296b478f8abe25773a1f63b7",
      "530aa5e2718344fdad95b692f4dbec7a",
      "01c0d87fc4dd47c4a398eb551192be74",
      "16d86cb3ecee45ac87a5b560f0e28b36",
      "96019e51855540e686e50d3d4d1c8dbb",
      "d7a511a7cce6493e978bdefdc25a7167",
      "141df8e5f6e74a14ac32e57e83da948a",
      "bb6ead2a9e63419c8b6e6b2975c29730",
      "db6b151d3f1d464bb98b8bf029539cae",
      "3682315a9a2b4975b71720a56a720913",
      "96bc10b41dea48918b4ff9444c147fb6",
      "ce0acf51cf324458bbd84d3498435529",
      "e58c816bbb3a4bb1bcc4a56438f0a4f6",
      "646d32daac5f4b48b8ab6e79cae59ce5",
      "e5c8b3d7825a4166b22c1d02488954ce",
      "b7800e1c60444f9490a8cd4df40fdc14",
      "b379a7fa65144d818f1e68aa438f0a4b",
      "640db15f940b4f6d9fed35c7692a2244",
      "b8b72be91cbd4ac3a42cae45422b5325",
      "e24f6611a4ed40b087dbd7dc6124e54d",
      "2b585ebe6c674aed84c21f49cf89c611",
      "e1d9f00d0c8d4af9b345af7f162d989e"
     ]
    },
    "executionInfo": {
     "elapsed": 6736981,
     "status": "ok",
     "timestamp": 1653053902689,
     "user": {
      "displayName": "Adrien Senecal",
      "userId": "17091121813353622118"
     },
     "user_tz": -120
    },
    "id": "QsAw1bGBjg9A",
    "outputId": "09d13172-7685-40a2-b69a-f11fb6daacf4"
   },
   "outputs": [
    {
     "data": {
      "application/vnd.jupyter.widget-view+json": {
       "model_id": "e54dcae8c02e4d1bb9ec0da2e6f49324",
       "version_major": 2,
       "version_minor": 0
      },
      "text/plain": [
       "  0%|          | 0/25766 [00:00<?, ?it/s]"
      ]
     },
     "metadata": {},
     "output_type": "display_data"
    },
    {
     "name": "stdout",
     "output_type": "stream",
     "text": [
      "Epoch 1 Batch 10000 Loss 3.8406 Accuracy 0.5255\n",
      "Epoch 1 Batch 20000 Loss 3.7017 Accuracy 0.5357\n",
      "Epoch 1 Loss 3.6987 Accuracy 0.5389 Val_loss 3.6199 Val_accuracy 0.5503\n",
      "Time taken for 1 epoch: 626.732860326767 secs\n",
      "\n"
     ]
    }
   ],
   "source": [
    "loss = []\n",
    "accuracy = []\n",
    "loss_validation=[]\n",
    "accuracy_validation=[]\n",
    "\n",
    "for epoch in range(EPOCHS):\n",
    "    start = time.time()\n",
    "\n",
    "    train_loss.reset_states()\n",
    "    train_accuracy.reset_states()\n",
    "    val_loss.reset_states()\n",
    "    val_accuracy.reset_states()\n",
    "\n",
    "    with tqdm(total = int(len_dataset/64)+1) as pbar:\n",
    "        for (batch, (inp, tar)) in enumerate(train_dataset):\n",
    "            train_step(inp, tar)\n",
    "\n",
    "            if batch>0 and batch % (NUM_MAILS/10) == 0:\n",
    "                print ('Epoch {} Batch {} Loss {:.4f} Accuracy {:.4f}'.format(\n",
    "                  epoch + 1, batch, train_loss.result(), train_accuracy.result()))\n",
    "            pbar.update(1)\n",
    "\n",
    "    for (batch, (inp, tar)) in enumerate(test_dataset):\n",
    "        val_step(inp, tar)\n",
    "    \n",
    "    print ('Epoch {} Loss {:.4f} Accuracy {:.4f} Val_loss {:.4f} Val_accuracy {:.4f}'.format(epoch + 1, \n",
    "                                                train_loss.result(), \n",
    "                                                train_accuracy.result(),\n",
    "                                                val_loss.result(),\n",
    "                                                val_accuracy.result()\n",
    "                                                        ))\n",
    "    loss.append(train_loss.result())\n",
    "    accuracy.append(train_accuracy.result())\n",
    "    loss_validation.append(val_loss.result())\n",
    "    accuracy_validation.append(val_accuracy.result())\n",
    "    \n",
    "    print ('Time taken for 1 epoch: {} secs\\n'.format(time.time() - start))"
   ]
  },
  {
   "cell_type": "code",
   "execution_count": 41,
   "metadata": {
    "id": "dugNVnA2sXfr"
   },
   "outputs": [],
   "source": [
    "# Save the weight\n",
    "pathTmodel = os.path.join(path, \"Transformer\", \"model_transformer\", \"\")\n",
    "transformer.save_weights(pathTmodel)"
   ]
  },
  {
   "cell_type": "code",
   "execution_count": 42,
   "metadata": {
    "id": "TNn4LRL1GoCn"
   },
   "outputs": [],
   "source": [
    "# Load the parameters\n",
    "file = os.path.join(path, \"Transformer\", \"param.obj\")\n",
    "params = load_object(file, zip=False)\n",
    "NUM_MAILS = params['NUM_MAILS']\n",
    "NUM_WORDS = params['NUM_WORDS']\n",
    "NPRED = params['NPRED']\n",
    "MAX_LENGTH = params['MAX_LENGTH']\n",
    "NGRAMS = params['NGRAMS']\n",
    "EPOCHS = params['EPOCHS']\n",
    "num_layers = params['num_layers']\n",
    "d_model = params['d_model']\n",
    "dff = params['dff']\n",
    "num_heads = params['num_heads']\n",
    "dropout_rate = params['dropout_rate']"
   ]
  },
  {
   "cell_type": "code",
   "execution_count": 43,
   "metadata": {
    "id": "kQ52CgTSGoCo"
   },
   "outputs": [],
   "source": [
    "# Load the tokenizer\n",
    "file = os.path.join(path, \"Transformer\", \"tokenizer_json.gz\")\n",
    "tokenizer_json = load_object(file, zip=True)\n",
    "tokenizer_transformer = tf.keras.preprocessing.text.tokenizer_from_json(tokenizer_json)\n",
    "\n",
    "input_vocab_size = tokenizer_transformer.num_words + 2\n",
    "target_vocab_size = tokenizer_transformer.num_words + 2"
   ]
  },
  {
   "cell_type": "code",
   "execution_count": 44,
   "metadata": {
    "colab": {
     "base_uri": "https://localhost:8080/"
    },
    "executionInfo": {
     "elapsed": 5379,
     "status": "ok",
     "timestamp": 1653054306488,
     "user": {
      "displayName": "Adrien Senecal",
      "userId": "17091121813353622118"
     },
     "user_tz": -120
    },
    "id": "K2D6rWfRGoCo",
    "outputId": "7a4a20da-1105-415b-aa93-9d54164cf0ab"
   },
   "outputs": [
    {
     "data": {
      "text/plain": [
       "<tensorflow.python.training.tracking.util.CheckpointLoadStatus at 0x1a5373f1b20>"
      ]
     },
     "execution_count": 44,
     "metadata": {},
     "output_type": "execute_result"
    }
   ],
   "source": [
    "# Transformer creation and load the weights\n",
    "transformer = Transformer(num_layers, d_model, num_heads, dff,\n",
    "                          input_vocab_size, target_vocab_size, \n",
    "                          pe_input=input_vocab_size,\n",
    "                          pe_target=target_vocab_size,\n",
    "                          rate=dropout_rate)\n",
    "pathTmodel = os.path.join(path, \"Transformer\", \"model_transformer\", \"\")\n",
    "transformer.load_weights(pathTmodel)"
   ]
  },
  {
   "cell_type": "code",
   "execution_count": 45,
   "metadata": {
    "colab": {
     "base_uri": "https://localhost:8080/",
     "height": 295
    },
    "executionInfo": {
     "elapsed": 537,
     "status": "ok",
     "timestamp": 1653054314838,
     "user": {
      "displayName": "Adrien Senecal",
      "userId": "17091121813353622118"
     },
     "user_tz": -120
    },
    "id": "yBW2ugkQec_e",
    "outputId": "a04f57b9-f18c-4639-9291-d309f5ede343"
   },
   "outputs": [
    {
     "data": {
      "image/png": "[encoded data removed]",
      "text/plain": [
       "<Figure size 432x288 with 2 Axes>"
      ]
     },
     "metadata": {
      "needs_background": "light"
     },
     "output_type": "display_data"
    }
   ],
   "source": [
    "fig, ax1 = plt.subplots()\n",
    "ax2 = ax1.twinx()\n",
    "\n",
    "plt.title(\"Evolution de la loss et de l'accuracy au fil des Epochs\")\n",
    "x_epochs = range(1, len(loss)+1)\n",
    "lns1 = ax1.plot(x_epochs, loss, 'b', label='Loss')\n",
    "lns2 = ax2.plot(x_epochs, accuracy, 'r', label='Accuracy')\n",
    "\n",
    "lns3 = ax1.plot(x_epochs, loss_validation, 'b--', label='Loss validation')\n",
    "lns4 = ax2.plot(x_epochs, accuracy_validation, 'r--', label='Accuracy validation')\n",
    "\n",
    "lns = lns1+lns2\n",
    "labs = [l.get_label() for l in lns]\n",
    "ax1.legend(lns, labs, loc=7)\n",
    "\n",
    "ax1.set_xlabel('Epoch')\n",
    "ax1.set_ylabel('Loss')\n",
    "ax2.set_ylabel('Accuracy')\n",
    "\n",
    "plt.show();"
   ]
  },
  {
   "cell_type": "markdown",
   "metadata": {
    "id": "Uya236a3jm0u"
   },
   "source": [
    "### c. Prédiction"
   ]
  },
  {
   "cell_type": "code",
   "execution_count": 46,
   "metadata": {
    "id": "LU9yW1yxGoCo"
   },
   "outputs": [],
   "source": [
    "def evaluate(inp_sentence, tokenizer, transformer):\n",
    "    start_token = [tokenizer.num_words]\n",
    "    end_token = [tokenizer.num_words + 1]\n",
    "    \n",
    "    \n",
    "    # Encodage de la phrase, en rajoutant les tokens de debut \n",
    "    # et de fin du vocabulaire\n",
    "    encoder_input = start_token + tokenizer.texts_to_sequences([inp_sentence])[0] + end_token\n",
    "    \n",
    "    # Conversion de la liste en tensor de shape (1, seq_len + 2)\n",
    "    encoder_input = tf.expand_dims(encoder_input, 0)\n",
    "\n",
    "    # initialisation de la prédiction partielle avec le token \n",
    "    # de debut du vocabulaire anglais\n",
    "    decoder_input = start_token\n",
    "    # Conversion de la liste en tensor de shape (1, 1) \n",
    "    # pour pouvoir appliquer le transformer dessus\n",
    "    output = tf.expand_dims(decoder_input, 0)\n",
    "\n",
    "    enc_padding_mask, combined_mask, dec_padding_mask = create_masks(encoder_input, output)\n",
    "\n",
    "    # predictions est la nouvelle prédiction partielle\n",
    "    predictions = transformer(encoder_input,\n",
    "                                output,\n",
    "                                False,\n",
    "                                enc_padding_mask,\n",
    "                                combined_mask,\n",
    "                                dec_padding_mask)\n",
    "\n",
    "    # on récupère les probabilités pour le dernier mot prédit\n",
    "    # puis l'id du mot le plus probable\n",
    "    next_words = predictions[: ,-1:, :]  # (batch_size, 1, vocab_size)\n",
    "    return tf.squeeze(next_words, axis=0).numpy()\n",
    "\n",
    "def predict_next_word_df_transformer(sentence, tokenizer, transformer, n_word=1, startwith='', list_tokens=None, format_list=False):\n",
    "    #Preparation de la liste de mots\n",
    "    if list_tokens == None:\n",
    "        list_tokens = [None]*tokenizer.num_words\n",
    "        for i in range(0,tokenizer.num_words):\n",
    "            list_tokens[i]=tokenizer.sequences_to_texts([[i]])\n",
    "        list_tokens = [item for sublist in list_tokens for item in sublist]\n",
    "        list_tokens.append(\"<START>\")\n",
    "        list_tokens.append(\"<END>\")\n",
    "    \n",
    "    pred = evaluate(sentence, tokenizer, transformer)\n",
    "    result = pd.DataFrame({\"Proba\":pred[0],\"Word\":list_tokens})\n",
    "    #result.drop(result.tail(2).index,inplace=True) #Remove <START> AND <STOP>\n",
    "    result = result[result[\"Word\"].str.startswith(startwith)]\n",
    "    result = result.sort_values(by=\"Proba\", ascending=False).head(n_word)\n",
    "    if format_list:\n",
    "        result = result[\"Word\"].tolist()\n",
    "    return result"
   ]
  },
  {
   "cell_type": "code",
   "execution_count": 47,
   "metadata": {
    "colab": {
     "base_uri": "https://localhost:8080/",
     "height": 224
    },
    "executionInfo": {
     "elapsed": 1552,
     "status": "ok",
     "timestamp": 1653054348493,
     "user": {
      "displayName": "Adrien Senecal",
      "userId": "17091121813353622118"
     },
     "user_tz": -120
    },
    "id": "P6YPFSpIGoCp",
    "outputId": "a66b1243-a4fc-40ac-f5cd-ad46f650299e"
   },
   "outputs": [
    {
     "name": "stdout",
     "output_type": "stream",
     "text": [
      "checkout bloomberg deal bloomberg sent over a confirmation for a deal where enron buys from williams mw np at\n"
     ]
    },
    {
     "data": {
      "text/html": [
       "<div>\n",
       "<style scoped>\n",
       "    .dataframe tbody tr th:only-of-type {\n",
       "        vertical-align: middle;\n",
       "    }\n",
       "\n",
       "    .dataframe tbody tr th {\n",
       "        vertical-align: top;\n",
       "    }\n",
       "\n",
       "    .dataframe thead th {\n",
       "        text-align: right;\n",
       "    }\n",
       "</style>\n",
       "<table border=\"1\" class=\"dataframe\">\n",
       "  <thead>\n",
       "    <tr style=\"text-align: right;\">\n",
       "      <th></th>\n",
       "      <th>Proba</th>\n",
       "      <th>Word</th>\n",
       "    </tr>\n",
       "  </thead>\n",
       "  <tbody>\n",
       "    <tr>\n",
       "      <th>4</th>\n",
       "      <td>0.089246</td>\n",
       "      <td>of</td>\n",
       "    </tr>\n",
       "    <tr>\n",
       "      <th>3</th>\n",
       "      <td>0.070856</td>\n",
       "      <td>and</td>\n",
       "    </tr>\n",
       "    <tr>\n",
       "      <th>2</th>\n",
       "      <td>0.057306</td>\n",
       "      <td>to</td>\n",
       "    </tr>\n",
       "    <tr>\n",
       "      <th>6</th>\n",
       "      <td>0.051379</td>\n",
       "      <td>in</td>\n",
       "    </tr>\n",
       "    <tr>\n",
       "      <th>7</th>\n",
       "      <td>0.036612</td>\n",
       "      <td>for</td>\n",
       "    </tr>\n",
       "  </tbody>\n",
       "</table>\n",
       "</div>"
      ],
      "text/plain": [
       "      Proba Word\n",
       "4  0.089246   of\n",
       "3  0.070856  and\n",
       "2  0.057306   to\n",
       "6  0.051379   in\n",
       "7  0.036612  for"
      ]
     },
     "execution_count": 47,
     "metadata": {},
     "output_type": "execute_result"
    }
   ],
   "source": [
    "sentence = dataset[\"test\"][8][\"text\"]\n",
    "print(sentence)\n",
    "sentence = \"checkout bloomberg deal sent over a confirmation for a deal\"\n",
    "predict_next_word_df_transformer(sentence, tokenizer_transformer, transformer, n_word=5, startwith='', list_tokens=None, format_list=False)"
   ]
  },
  {
   "cell_type": "markdown",
   "metadata": {
    "id": "H5Wt7hKRGoCp"
   },
   "source": [
    "## III. Modèles GPT2"
   ]
  },
  {
   "cell_type": "markdown",
   "metadata": {
    "id": "RHSAhZSAEPh0"
   },
   "source": [
    "Les fit des modèles GPT2 sont trop long pour fonctionner sur Google Colab."
   ]
  },
  {
   "cell_type": "markdown",
   "metadata": {
    "id": "sZ4w2R4RGoCp"
   },
   "source": [
    "### a. GPT2 pretrained"
   ]
  },
  {
   "cell_type": "markdown",
   "metadata": {
    "id": "q2URTzdBGoCp"
   },
   "source": [
    "#### Load the tokenizer and modele"
   ]
  },
  {
   "cell_type": "code",
   "execution_count": null,
   "metadata": {
    "colab": {
     "base_uri": "https://localhost:8080/",
     "height": 423,
     "referenced_widgets": [
      "923cca6536dc4c719b97325597fe0ec2",
      "ac3bc2ede9a44e398c567fcba7e170ae",
      "57eb2f18f3974f0e85a6a1db997ca1a6",
      "029bd02a7519455b85a22284c352598d",
      "2e8f1f70721549ab854d13b5753b6be4",
      "1957e8a0c79e4e8986d4e09aeb4a19b6",
      "c578ff6c237f4f798a5d6973118bb5ae",
      "40abd2a98e8747d3bc8f9015fce17e4d",
      "66048fb766d640d29062ed46cbf9bfdd",
      "02f35982d45c413384284fbdad942934",
      "4ecf42628d7a45ac8b4dff1b50bd62fe",
      "45acd3ee41a04350a9cc9bd6413e0e6f",
      "ff7d74dcd4cb45b4ba7dfed9c96f99b7",
      "2c99577ec6d84fce8a1d8ae2e9f10f5f",
      "4aff4e9193d048e1817990135842f87c",
      "115299e7bbec41569c4bf13480ebccf1",
      "2bdc3b6521c04b2f9feeb8620a84091a",
      "c169acbf670b4a47a9fe660702c5158c",
      "6d465e9e437f4f9c87c1633a129c43ba",
      "2eaa719345cd4f429d7cbeb886c0e74a",
      "d075a1112281404a9fbbafc4772ecef7",
      "feeb8352445b4577b9a62af8a7e947fd",
      "5e168067cb70434b81d486cf417a648b",
      "21cc4d3535b34cda93e11d9d057528c9",
      "1426211850e74f648aa8572ed3833503",
      "bb50c110b53f4839b812018d3646deeb",
      "1d8d1772737849d7958d0c02700e3e17",
      "4d18322db450432abc4f7a122abe318c",
      "66d440bdd7544aff90a387c2516beb34",
      "ef9a76c09121451f92154a4c22724ccc",
      "a033d05fbbc94be0a2d019af722371f1",
      "ee9c4c6d1ae74e49a1e7c406427de58c",
      "2e16681f61d942428dff0acee59a2373",
      "8694af7d19a543899f126c2a0a96060d",
      "ec29aab82733498fad3f2f091df87338",
      "5c26054b07fc446b8532d96d6f7db0ef",
      "e5d25dfd6b34462dbfdd854eee187d57",
      "a81de05f4d2d4c2eb0f09675a2a95388",
      "fb02f17885734c96a8737144afb450b3",
      "728773e31f7647f1a99de1b42fa04f7f",
      "7d8cd1c7859b42b2ae69ffc9b0568129",
      "7af984e7f85346818271d765720c9e56",
      "210d095941d64c48bd0782426397aa48",
      "0ca6ba70b0894f3b9d01822594f6ab90"
     ]
    },
    "executionInfo": {
     "elapsed": 29088,
     "status": "ok",
     "timestamp": 1653054438941,
     "user": {
      "displayName": "Adrien Senecal",
      "userId": "17091121813353622118"
     },
     "user_tz": -120
    },
    "id": "HtTShFjFGoCp",
    "outputId": "a365e39c-ce00-46e4-d0c9-4a4d69bde038"
   },
   "outputs": [],
   "source": [
    "tokenizer_pretrained = GPT2Tokenizer.from_pretrained(\"gpt2\")\n",
    "model_pretrained_nofit = TFGPT2LMHeadModel.from_pretrained(\"gpt2\")\n",
    "model_pretrained_nofit.summary()"
   ]
  },
  {
   "cell_type": "code",
   "execution_count": null,
   "metadata": {
    "colab": {
     "base_uri": "https://localhost:8080/"
    },
    "executionInfo": {
     "elapsed": 1763,
     "status": "ok",
     "timestamp": 1653054444060,
     "user": {
      "displayName": "Adrien Senecal",
      "userId": "17091121813353622118"
     },
     "user_tz": -120
    },
    "id": "VQTifLHbGoCq",
    "outputId": "07f6abbe-7268-44e4-acb7-bcd29a5bc1e0"
   },
   "outputs": [],
   "source": [
    "model_pretrained = TFGPT2LMHeadModel.from_pretrained(\"gpt2\")\n",
    "model_pretrained.layers[0].wte.trainable = False #Word Token Embeddings\n",
    "model_pretrained.summary()"
   ]
  },
  {
   "cell_type": "markdown",
   "metadata": {
    "id": "y2QiY7Z5GoCq"
   },
   "source": [
    "#### Tokenization du dataset"
   ]
  },
  {
   "cell_type": "code",
   "execution_count": null,
   "metadata": {
    "id": "uVIMcdNTGoCq"
   },
   "outputs": [],
   "source": [
    "tokenizer_pretrained.model_max_length = 32\n",
    "tokenizer_pretrained.pad_token = tokenizer_pretrained.eos_token"
   ]
  },
  {
   "cell_type": "code",
   "execution_count": null,
   "metadata": {
    "id": "17bLwRftGoCq"
   },
   "outputs": [],
   "source": [
    "def tokenize_function_pretrained(examples):\n",
    "    return tokenizer_pretrained(examples[\"text\"], padding=True, truncation=True)"
   ]
  },
  {
   "cell_type": "code",
   "execution_count": null,
   "metadata": {
    "colab": {
     "base_uri": "https://localhost:8080/",
     "height": 81,
     "referenced_widgets": [
      "415ac6525a0c4142af3601a1326abb52",
      "0cf11a4cd24d4c5bb470c96e3d1e51b3",
      "5dcf9b518a104f33ba8b98dc0ef95326",
      "a412ba9d5c34496e9f24852d16a1f7ed",
      "3eb19406d65940bfa4e87366179ba6ea",
      "71343075fc1045aaa274c6ad7018fe63",
      "5bd8304e55194d7698eb0ced5928bc2c",
      "ecc77fc218a84c10acc800129aa4c4f9",
      "c24b030b931f4033a8e571dc2b6333c8",
      "72378e3644cf4d53a62c78d58622e13d",
      "864d339f548e41ac9d4c875487ac2579",
      "67f50a86e0484171a520a1485ff05456",
      "a695a6ef4071494d8fe773d08d9b643c",
      "be5f7a5aa3f44ea486aa2f75f1b75bfb",
      "e5dd354096d944f6a5134d9adc72ed12",
      "d6d0b5b6606d41068ab2d73accc3d3db",
      "06ff2eeb2b934b47affb302bbe73f4b0",
      "f92f99c0cf0544a39bdf97d8d351139b",
      "5e9c08c6ab724d899810d1c77c397b4b",
      "461870eefaaa4e2782e7f0b3a29bf136",
      "56fe4be4797946a6bae4749b5919967c",
      "a6fcca71d6a44d9395262b6896a10e8d"
     ]
    },
    "executionInfo": {
     "elapsed": 1558711,
     "status": "ok",
     "timestamp": 1653056013738,
     "user": {
      "displayName": "Adrien Senecal",
      "userId": "17091121813353622118"
     },
     "user_tz": -120
    },
    "id": "IBU4w_TxGoCq",
    "outputId": "a94b5139-e7d4-4950-a6eb-6a8cc5516cb3"
   },
   "outputs": [],
   "source": [
    "tokenized_dataset_pretrained = dataset.map(\n",
    "    tokenize_function_pretrained, batched=True, remove_columns=[\"text\"])"
   ]
  },
  {
   "cell_type": "code",
   "execution_count": null,
   "metadata": {
    "id": "pQkSdQL6GoCr"
   },
   "outputs": [],
   "source": [
    "def duplicate_labels(examples):\n",
    "    examples[\"labels\"] = examples[\"input_ids\"].copy()\n",
    "    return examples"
   ]
  },
  {
   "cell_type": "code",
   "execution_count": null,
   "metadata": {
    "colab": {
     "base_uri": "https://localhost:8080/",
     "height": 81,
     "referenced_widgets": [
      "c0939d4c13e54cd4ae19901b1b3dbc56",
      "10b8e8ca6fb14b0fa87d9d873e05fff1",
      "cf526d906abf402eb852907f40e0dcfb",
      "4ccf8a511c6d4f5f9c338b5ea38d08ac",
      "f91fde42fac4438991a8ebcdd3bc7da0",
      "e3621a6bbdfb41989d726fe84eba1ffa",
      "bc55a25f2e644822b05c9d86406167f1",
      "5e3b40941a774cfa9eba4e5e89964040",
      "3b5d13108b0f4cd5bc51af1e782bd5a7",
      "413578decd834a8aa12904acd55eb714",
      "d1cf3191d02f4ed3bdb371f329019b2c",
      "36615d32758440a69f536ab5651cf6ab",
      "70415952d13740b29e339dde4189bfc3",
      "c50d4115f15248148ed19576cff727cb",
      "3fb7d3e7d2874ae981a4ed9b94ee45ee",
      "5af6265bd68c4dac82da2e4764d176a4",
      "f62be2c8e15140b08b57072851a8f838",
      "1be8d52678b9483081bb81d232f81087",
      "6e2aeb04286d4a6bbb3ab0552851a281",
      "21c1b07766074d7498677384c804d247",
      "1ccc11fa1700472eaccd64d702f6658e",
      "bd8c54b705db46cea877f6c9ebd11ea5"
     ]
    },
    "executionInfo": {
     "elapsed": 274304,
     "status": "ok",
     "timestamp": 1653056288037,
     "user": {
      "displayName": "Adrien Senecal",
      "userId": "17091121813353622118"
     },
     "user_tz": -120
    },
    "id": "8AOAtS6nGoCr",
    "outputId": "470938a1-2840-486a-d730-8c218cf16ae6"
   },
   "outputs": [],
   "source": [
    "final_dataset_pretrained = tokenized_dataset_pretrained.map(\n",
    "    duplicate_labels, batched=True)"
   ]
  },
  {
   "cell_type": "code",
   "execution_count": null,
   "metadata": {
    "id": "2cGTPYvsGoCr"
   },
   "outputs": [],
   "source": [
    "data_collator = DefaultDataCollator(return_tensors=\"tf\")\n",
    "\n",
    "train_set_pretrained = final_dataset_pretrained[\"train\"].to_tf_dataset(\n",
    "    columns=[\"attention_mask\", \"input_ids\", \"labels\"],\n",
    "    shuffle=True,\n",
    "    batch_size=32,\n",
    "    collate_fn=data_collator,\n",
    ")\n",
    "validation_set_pretrained = final_dataset_pretrained[\"test\"].to_tf_dataset(\n",
    "    columns=[\"attention_mask\", \"input_ids\", \"labels\"],\n",
    "    shuffle=False,\n",
    "    batch_size=32,\n",
    "    collate_fn=data_collator,\n",
    ")"
   ]
  },
  {
   "cell_type": "code",
   "execution_count": null,
   "metadata": {
    "colab": {
     "base_uri": "https://localhost:8080/"
    },
    "executionInfo": {
     "elapsed": 9,
     "status": "ok",
     "timestamp": 1653056288705,
     "user": {
      "displayName": "Adrien Senecal",
      "userId": "17091121813353622118"
     },
     "user_tz": -120
    },
    "id": "VQ35GZPdGoCr",
    "outputId": "9dd5b418-90f2-48ae-9366-c46a82852f6a"
   },
   "outputs": [],
   "source": [
    "print(dataset[\"train\"][1])\n",
    "print(final_dataset_pretrained[\"train\"][1])"
   ]
  },
  {
   "cell_type": "markdown",
   "metadata": {
    "id": "gMQvzATLGoCr"
   },
   "source": [
    "#### Fiting du modèle"
   ]
  },
  {
   "cell_type": "code",
   "execution_count": null,
   "metadata": {
    "id": "9UhIvrzAGoCr"
   },
   "outputs": [],
   "source": [
    "learning_rate = 5e-6\n",
    "weight_decay = 0.01\n",
    "optimizer = AdamWeightDecay(learning_rate=learning_rate, weight_decay_rate=weight_decay)"
   ]
  },
  {
   "cell_type": "code",
   "execution_count": null,
   "metadata": {
    "colab": {
     "base_uri": "https://localhost:8080/"
    },
    "executionInfo": {
     "elapsed": 214,
     "status": "ok",
     "timestamp": 1653057045843,
     "user": {
      "displayName": "Adrien Senecal",
      "userId": "17091121813353622118"
     },
     "user_tz": -120
    },
    "id": "6f_t-EUMGoCs",
    "outputId": "63457cee-c585-4134-9fdd-93546ce40b26"
   },
   "outputs": [],
   "source": [
    "model_pretrained.compile(optimizer=optimizer)"
   ]
  },
  {
   "cell_type": "code",
   "execution_count": null,
   "metadata": {
    "colab": {
     "base_uri": "https://localhost:8080/",
     "height": 329
    },
    "executionInfo": {
     "elapsed": 3022358,
     "status": "error",
     "timestamp": 1653060072914,
     "user": {
      "displayName": "Adrien Senecal",
      "userId": "17091121813353622118"
     },
     "user_tz": -120
    },
    "id": "VbHs9dFgGoCs",
    "outputId": "938a3e01-a8b9-4843-b6cd-a293531edfc0"
   },
   "outputs": [],
   "source": [
    "model_pretrained.fit(train_set_pretrained, validation_data=validation_set_pretrained, epochs=1)"
   ]
  },
  {
   "cell_type": "code",
   "execution_count": null,
   "metadata": {},
   "outputs": [],
   "source": [
    "pathGPT2 = os.path.join(path, 'GPT2', 'GPT2_model_pretrained_v1')"
   ]
  },
  {
   "cell_type": "code",
   "execution_count": null,
   "metadata": {
    "id": "mSdQpXx5GoCs"
   },
   "outputs": [],
   "source": [
    "# Model saving\n",
    "model_pretrained.save_pretrained(pathGPT2)"
   ]
  },
  {
   "cell_type": "code",
   "execution_count": null,
   "metadata": {
    "id": "SFb8kAInGoCs",
    "outputId": "abd9d083-1f8a-42de-c3b4-8fd4ae3e5dea"
   },
   "outputs": [],
   "source": [
    "# Model loading\n",
    "model_pretrained = TFAutoModelForCausalLM.from_pretrained(pathGPT2)"
   ]
  },
  {
   "cell_type": "markdown",
   "metadata": {
    "id": "jWhfkIEJGoCt"
   },
   "source": [
    "### b. GPT2 fiting on ENRON dataset"
   ]
  },
  {
   "cell_type": "markdown",
   "metadata": {
    "id": "IxUhZPHjGoCt"
   },
   "source": [
    "#### Création du tokenizer"
   ]
  },
  {
   "cell_type": "code",
   "execution_count": null,
   "metadata": {
    "id": "gy_WgFA5GoCt"
   },
   "outputs": [],
   "source": [
    "tokenizer = Tokenizer(models.BPE())"
   ]
  },
  {
   "cell_type": "code",
   "execution_count": null,
   "metadata": {
    "id": "UJqhX7LdGoCt"
   },
   "outputs": [],
   "source": [
    "tokenizer.pre_tokenizer = pre_tokenizers.ByteLevel(add_prefix_space=False)"
   ]
  },
  {
   "cell_type": "code",
   "execution_count": null,
   "metadata": {
    "id": "ocK5S8RpGoCt"
   },
   "outputs": [],
   "source": [
    "tokenizer.pre_tokenizer.pre_tokenize_str(\"This is an example!\")"
   ]
  },
  {
   "cell_type": "code",
   "execution_count": null,
   "metadata": {
    "id": "ayTKKCK7GoCu"
   },
   "outputs": [],
   "source": [
    "%%time\n",
    "# Train the tokenizer\n",
    "batch_size = 1000\n",
    "trainer = trainers.BpeTrainer(vocab_size=40000, special_tokens=[\"<|endoftext|>\"])\n",
    "tokenizer.train_from_iterator(batch_iterator(dataset, batch_size), trainer=trainer)"
   ]
  },
  {
   "cell_type": "code",
   "execution_count": null,
   "metadata": {
    "id": "gXz1A5elGoCu"
   },
   "outputs": [],
   "source": [
    "tokenizer.post_processor = processors.ByteLevel(trim_offsets=False)\n",
    "tokenizer.decoder = decoders.ByteLevel()"
   ]
  },
  {
   "cell_type": "code",
   "execution_count": null,
   "metadata": {
    "id": "ZRlJEpU5GoCu"
   },
   "outputs": [],
   "source": [
    "tokenizer_GPT2 = GPT2TokenizerFast(tokenizer_object=tokenizer)"
   ]
  },
  {
   "cell_type": "code",
   "execution_count": null,
   "metadata": {
    "id": "gIsrKKWWGoCu"
   },
   "outputs": [],
   "source": [
    "# Save the GPT2 tokenizer\n",
    "file = os.path.join(path, 'GPT2', 'tokenizer40k')\n",
    "tokenizer_GPT2.save_pretrained(file)"
   ]
  },
  {
   "cell_type": "markdown",
   "metadata": {
    "id": "qZ33Mh42GoCu"
   },
   "source": [
    "#### Création du dataset"
   ]
  },
  {
   "cell_type": "code",
   "execution_count": null,
   "metadata": {
    "colab": {
     "base_uri": "https://localhost:8080/",
     "height": 364
    },
    "executionInfo": {
     "elapsed": 825,
     "status": "error",
     "timestamp": 1654697521566,
     "user": {
      "displayName": "Adrien Senecal",
      "userId": "17091121813353622118"
     },
     "user_tz": -120
    },
    "id": "w5Mldni6GoCv",
    "outputId": "f22de285-1c1b-43f6-d986-f6cf38ade90a"
   },
   "outputs": [],
   "source": [
    "# load the GPT2 tokenizer\n",
    "file = os.path.join(path, 'GPT2', 'tokenizer40k')\n",
    "tokenizer_GPT2 = AutoTokenizer.from_pretrained(file)"
   ]
  },
  {
   "cell_type": "code",
   "execution_count": null,
   "metadata": {
    "id": "HCg1QLP0GoCv"
   },
   "outputs": [],
   "source": [
    "tokenizer_GPT2.model_max_length = 32\n",
    "tokenizer_GPT2.pad_token = tokenizer_GPT2.eos_token"
   ]
  },
  {
   "cell_type": "code",
   "execution_count": null,
   "metadata": {
    "id": "g0a_oLFEGoCv"
   },
   "outputs": [],
   "source": [
    "def tokenize_function(examples):\n",
    "    return tokenizer_GPT2(examples[\"text\"], padding=True, truncation=True)"
   ]
  },
  {
   "cell_type": "code",
   "execution_count": null,
   "metadata": {
    "id": "vUFkF47hGoCv"
   },
   "outputs": [],
   "source": [
    "tokenized_dataset = dataset.map(\n",
    "    tokenize_function, batched=True, remove_columns=[\"text\"])"
   ]
  },
  {
   "cell_type": "code",
   "execution_count": null,
   "metadata": {
    "id": "1eO7SETeGoCv"
   },
   "outputs": [],
   "source": [
    "def duplicate_labels(examples):\n",
    "    examples[\"labels\"] = examples[\"input_ids\"].copy()\n",
    "    return examples"
   ]
  },
  {
   "cell_type": "code",
   "execution_count": null,
   "metadata": {
    "id": "J8xSnznUGoCv"
   },
   "outputs": [],
   "source": [
    "final_dataset = tokenized_dataset.map(\n",
    "    duplicate_labels, batched=True)"
   ]
  },
  {
   "cell_type": "code",
   "execution_count": null,
   "metadata": {
    "id": "77pFyhBAGoCw"
   },
   "outputs": [],
   "source": [
    "data_collator = DefaultDataCollator(return_tensors=\"tf\")\n",
    "\n",
    "train_set = final_dataset[\"train\"].to_tf_dataset(\n",
    "    columns=[\"attention_mask\", \"input_ids\", \"labels\"],\n",
    "    shuffle=True,\n",
    "    batch_size=32,\n",
    "    collate_fn=data_collator,\n",
    ")\n",
    "validation_set = final_dataset[\"test\"].to_tf_dataset(\n",
    "    columns=[\"attention_mask\", \"input_ids\", \"labels\"],\n",
    "    shuffle=False,\n",
    "    batch_size=32,\n",
    "    collate_fn=data_collator,\n",
    ")"
   ]
  },
  {
   "cell_type": "code",
   "execution_count": null,
   "metadata": {
    "id": "Q75VzIbiGoCw"
   },
   "outputs": [],
   "source": [
    "print(dataset[\"train\"][0])\n",
    "print(final_dataset[\"train\"][1])"
   ]
  },
  {
   "cell_type": "markdown",
   "metadata": {
    "id": "Pjdwh5GlGoCw"
   },
   "source": [
    "#### Preparation du modèle"
   ]
  },
  {
   "cell_type": "code",
   "execution_count": null,
   "metadata": {
    "id": "dnMqjAQrGoCw"
   },
   "outputs": [],
   "source": [
    "model_checkpoint = \"gpt2\"\n",
    "\n",
    "config = AutoConfig.from_pretrained(model_checkpoint)\n",
    "config.vocab_size = tokenizer_GPT2.vocab_size"
   ]
  },
  {
   "cell_type": "code",
   "execution_count": null,
   "metadata": {
    "id": "7FxzqK-lGoCw"
   },
   "outputs": [],
   "source": [
    "model_GPT2 = TFAutoModelForCausalLM.from_config(config)"
   ]
  },
  {
   "cell_type": "code",
   "execution_count": null,
   "metadata": {
    "id": "imbgONuFGoCw"
   },
   "outputs": [],
   "source": [
    "learning_rate = 2e-5\n",
    "weight_decay = 0.01\n",
    "optimizer = AdamWeightDecay(learning_rate=learning_rate, weight_decay_rate=weight_decay)"
   ]
  },
  {
   "cell_type": "code",
   "execution_count": null,
   "metadata": {
    "id": "LwkgZ_lgGoCx"
   },
   "outputs": [],
   "source": [
    "model_GPT2.compile(optimizer=optimizer)"
   ]
  },
  {
   "cell_type": "code",
   "execution_count": null,
   "metadata": {
    "id": "RGwUIKPOGoCx"
   },
   "outputs": [],
   "source": [
    "params = {\"vocab_size\": tokenizer_GPT2.vocab_size,\n",
    "          \"model_max_length\": tokenizer_GPT2.model_max_length,\n",
    "          \"learning_rate\":learning_rate, \n",
    "          \"weight_decay\":weight_decay,\n",
    "          \"epochs\":0}"
   ]
  },
  {
   "cell_type": "markdown",
   "metadata": {
    "id": "0OW6m57sGoCx"
   },
   "source": [
    "#### Fiting du modèle"
   ]
  },
  {
   "cell_type": "code",
   "execution_count": null,
   "metadata": {
    "id": "PqkGEopoGoCx"
   },
   "outputs": [],
   "source": [
    "# The fitting time is almost 7h per epochs\n",
    "file = os.path.join(path, 'GPT2', 'GPT2_model_40000',\"\")\n",
    "file_param = os.path.join(path, 'GPT2', 'GPT2_model_40000',\"params.obj\")\n",
    "\n",
    "for i in range(1): #Number of epoch total to fit\n",
    "    model_GPT2.fit(train_set, validation_data=validation_set, epochs=1)\n",
    "    params[\"epochs\"] += 1\n",
    "    save_object(params, file_param, zip=False)\n",
    "    model_GPT2.save_pretrained(file)"
   ]
  },
  {
   "cell_type": "code",
   "execution_count": null,
   "metadata": {
    "id": "5hly8rl7GoCx",
    "outputId": "27675f61-a128-4213-afb1-a1d9bd6ee1ad"
   },
   "outputs": [],
   "source": [
    "# Model loading\n",
    "file = os.path.join(path, 'GPT2', 'GPT2_model_40000',\"\")\n",
    "model_GPT2 = TFAutoModelForCausalLM.from_pretrained(file)\n",
    "\n",
    "file_param = os.path.join(path, 'GPT2', 'GPT2_model_40000',\"params.obj\")\n",
    "params = load_object(file_param, zip=False)"
   ]
  },
  {
   "cell_type": "code",
   "execution_count": null,
   "metadata": {
    "id": "B-qGn2g4GoCy",
    "outputId": "a73c454d-0739-427d-8967-c2e283579d6b"
   },
   "outputs": [],
   "source": [
    "model_GPT2.summary()"
   ]
  },
  {
   "cell_type": "markdown",
   "metadata": {
    "id": "t2Vfwt0TGoCy"
   },
   "source": [
    "## IV. Word prediction"
   ]
  },
  {
   "cell_type": "markdown",
   "metadata": {},
   "source": [
    "### Loading different tokenizers and models"
   ]
  },
  {
   "cell_type": "code",
   "execution_count": null,
   "metadata": {},
   "outputs": [],
   "source": [
    "# Load the GPT2 tokenizer pretrained\n",
    "tokenizer_pretrained = GPT2Tokenizer.from_pretrained(\"gpt2\")\n",
    "tokenizer_pretrained.model_max_length = 32\n",
    "tokenizer_pretrained.pad_token = tokenizer_pretrained.eos_token"
   ]
  },
  {
   "cell_type": "code",
   "execution_count": null,
   "metadata": {},
   "outputs": [],
   "source": [
    "# Load the GPT2 model pretrained\n",
    "model_pretrained_nofit = TFGPT2LMHeadModel.from_pretrained(\"gpt2\")"
   ]
  },
  {
   "cell_type": "code",
   "execution_count": null,
   "metadata": {},
   "outputs": [],
   "source": [
    "# Load the GPT2 model pretrained after fitting\n",
    "pathGPT2 = os.path.join(path, 'GPT2', 'GPT2_model_pretrained_v1')\n",
    "model_pretrained = TFAutoModelForCausalLM.from_pretrained(pathGPT2)"
   ]
  },
  {
   "cell_type": "code",
   "execution_count": null,
   "metadata": {},
   "outputs": [],
   "source": [
    "# load the GPT2 tokenizer\n",
    "file = os.path.join(path, 'GPT2', 'tokenizer40k')\n",
    "tokenizer_GPT2 = AutoTokenizer.from_pretrained(file)"
   ]
  },
  {
   "cell_type": "code",
   "execution_count": null,
   "metadata": {},
   "outputs": [],
   "source": [
    "# Load the GPT model\n",
    "file = os.path.join(path, 'GPT2', 'GPT2_model_40000',\"\")\n",
    "model_GPT2 = TFAutoModelForCausalLM.from_pretrained(file)"
   ]
  },
  {
   "cell_type": "code",
   "execution_count": null,
   "metadata": {},
   "outputs": [],
   "source": [
    "# Load the transformer tokenizer\n",
    "file = os.path.join(path, 'Transformer', \"tokenizer_json.gz\")\n",
    "tokenizer_json = load_object(file, zip=True)\n",
    "tokenizer_transformer = tf.keras.preprocessing.text.tokenizer_from_json(tokenizer_json)\n",
    "\n",
    "input_vocab_size = tokenizer_transformer.num_words + 2\n",
    "target_vocab_size = tokenizer_transformer.num_words + 2"
   ]
  },
  {
   "cell_type": "code",
   "execution_count": null,
   "metadata": {},
   "outputs": [],
   "source": [
    "# Load the transformer parameters\n",
    "file = os.path.join(path, 'Transformer', \"param.obj\")\n",
    "params = load_object(file, zip=False)\n",
    "NUM_MAILS = params['NUM_MAILS']\n",
    "NUM_WORDS = params['NUM_WORDS']\n",
    "NPRED = params['NPRED']\n",
    "MAX_LENGTH = params['MAX_LENGTH']\n",
    "NGRAMS = params['NGRAMS']\n",
    "EPOCHS = params['EPOCHS']\n",
    "num_layers = params['num_layers']\n",
    "d_model = params['d_model']\n",
    "dff = params['dff']\n",
    "num_heads = params['num_heads']\n",
    "dropout_rate = params['dropout_rate']"
   ]
  },
  {
   "cell_type": "code",
   "execution_count": null,
   "metadata": {},
   "outputs": [],
   "source": [
    "# Transformer creation and load the weights\n",
    "transformer = Transformer(num_layers, d_model, num_heads, dff,\n",
    "                          input_vocab_size, target_vocab_size, \n",
    "                          pe_input=input_vocab_size,\n",
    "                          pe_target=target_vocab_size,\n",
    "                          rate=dropout_rate)\n",
    "pathTmodel = os.path.join(path,'Transformer', \"model_transformer\", \"\")\n",
    "transformer.load_weights(pathTmodel)"
   ]
  },
  {
   "cell_type": "markdown",
   "metadata": {
    "id": "5Bi5DM5rl68m"
   },
   "source": [
    "### Définition des fonctions de prédiction et de calcul du score"
   ]
  },
  {
   "cell_type": "code",
   "execution_count": null,
   "metadata": {
    "id": "99UxbdpLGoCy",
    "outputId": "c4048507-178f-4dba-8380-c9a07097e214"
   },
   "outputs": [],
   "source": [
    "word =  \" nonexistant\"\n",
    "print(tokenizer_GPT2(word))\n",
    "tokens = tokenizer_GPT2(word)[\"input_ids\"]\n",
    "for i in tokens:\n",
    "    print(i, \":\", tokenizer_GPT2.decode(i))"
   ]
  },
  {
   "cell_type": "markdown",
   "metadata": {
    "id": "7PL92dGSGoCz"
   },
   "source": [
    "Le score se calcule en nombre de lettres économisées si le mot recherché est prédit dans les 3 mots les plus probables sortis par le modèle."
   ]
  },
  {
   "cell_type": "markdown",
   "metadata": {
    "id": "9uulH2AbmL-V"
   },
   "source": [
    "Problème : avec le tokenizer GPT2, certains mots sont transformé en plusieurs tokens. Ici, par exemple, nonexistant est transformé en 4 tokens : none, x, ist et ant. Le modèle, prédit donc le futur token mais il est très difficile de savoir quelle association le tokenizateur à fait : none, x, ist et ant ou non, ex, is, tant, etc? Les mots long et rare seront donc mal prédit!"
   ]
  },
  {
   "cell_type": "code",
   "execution_count": null,
   "metadata": {
    "id": "qgKZ7GCTGoCz"
   },
   "outputs": [],
   "source": [
    "def predict_next_word_df(sentence, tokenizer, model, n_word=1, startwith='', list_tokens=None, format_list=False):\n",
    "    #Preparation de la liste de mots\n",
    "    if list_tokens == None:\n",
    "        list_tokens = [None]*tokenizer.vocab_size\n",
    "        for i in range(0,tokenizer.vocab_size):\n",
    "            list_tokens[i]=tokenizer.decode([i])\n",
    "        \n",
    "    inputs = tokenizer(sentence, return_tensors=\"tf\")\n",
    "    outputs = model(inputs)\n",
    "    predictions = outputs[0]\n",
    "    pred = predictions[0][-1]\n",
    "    result = pd.DataFrame({\"Proba\":pred.numpy(),\"Word\":list_tokens})\n",
    "    result = result[result[\"Word\"].str.startswith(startwith)]\n",
    "    result = result.sort_values(by=\"Proba\", ascending=False).head(n_word)\n",
    "    if format_list:\n",
    "        result = result[\"Word\"].tolist()\n",
    "    return result\n",
    "\n",
    "def score_sentence(sentence, tokenizer, model, n_word=1, verbose=False):\n",
    "    #Preparation de la liste de mots\n",
    "    list_tokens = [None]*tokenizer.vocab_size\n",
    "    for i in range(0,tokenizer.vocab_size):\n",
    "        list_tokens[i]=tokenizer.decode([i])\n",
    "        \n",
    "    sen_split = sentence.split()\n",
    "    context = sen_split[0]\n",
    "    score = 0\n",
    "    letter = 0\n",
    "    for i in range(1, len(sen_split)):\n",
    "        word = \" \"+sen_split[i] #Ajoute un espcace au début du mot pour le tokenizateur\n",
    "        letter += (len(sen_split[i]))\n",
    "        found = False\n",
    "        j = 0\n",
    "        startwith = \"\"\n",
    "        while j < len(word) and found==False:\n",
    "            startwith += word[j]\n",
    "            pred = predict_next_word_df(context, tokenizer, model, n_word, startwith=startwith, list_tokens=list_tokens, format_list=True)\n",
    "            if verbose:\n",
    "                print(\"Context:\", context, \"--Start with:\", startwith, \"--Prediction:\", pred)\n",
    "            if word in pred:\n",
    "                found = True\n",
    "                score += (len(sen_split[i]) - j )\n",
    "            if not pred:\n",
    "                break\n",
    "            j += 1\n",
    "        context += word\n",
    "    return score, letter\n",
    "\n",
    "def score_sentence_transformer(sentence, tokenizer, transformer, n_word=1, verbose=False):\n",
    "    #Preparation de la liste de mots\n",
    "    list_tokens = [None]*tokenizer.num_words\n",
    "    for i in range(0,tokenizer.num_words):\n",
    "        list_tokens[i]=tokenizer.sequences_to_texts([[i]])\n",
    "    list_tokens = [item for sublist in list_tokens for item in sublist]\n",
    "    list_tokens.append(\"<START>\")\n",
    "    list_tokens.append(\"<END>\")\n",
    "        \n",
    "    sen_split = sentence.split()\n",
    "    context = sen_split[0]\n",
    "    score = 0\n",
    "    letter = 0\n",
    "    for i in range(1, len(sen_split)):\n",
    "        word = sen_split[i] #Ajoute un espcace au début du mot pour le tokenizateur\n",
    "        letter += (len(sen_split[i]))\n",
    "        found = False\n",
    "        j = -1\n",
    "        while j < len(word) and found==False:\n",
    "            if j == -1:\n",
    "                startwith = \"\"\n",
    "            else:\n",
    "                startwith += word[j]\n",
    "            pred = predict_next_word_df_transformer(context, tokenizer, transformer, n_word, startwith=startwith, list_tokens=list_tokens, format_list=True)\n",
    "            \n",
    "            if verbose:\n",
    "                print(\"Context:\", context, \"--Start with:\", startwith, \"--Prediction:\", pred)\n",
    "                \n",
    "            if word in pred:\n",
    "                found = True\n",
    "                score += (len(sen_split[i]) - j - 1 ) #-1 car on commence la boucle à -1\n",
    "            if not pred:\n",
    "                break\n",
    "            j += 1\n",
    "        context += \" \" + word\n",
    "    return score, letter"
   ]
  },
  {
   "cell_type": "markdown",
   "metadata": {
    "id": "w9VlrB3ullMr"
   },
   "source": [
    "### Comparaison des 4 modèles pour la prédiction du mot suivant"
   ]
  },
  {
   "cell_type": "markdown",
   "metadata": {
    "id": "y67rQH-Amprh"
   },
   "source": [
    "Pour calculer le score, nous prenons les 50 premiers mails du dataset et appliquons une routine pour prédire le mot suivant, pour chaque mot de cet echantillon de mails."
   ]
  },
  {
   "cell_type": "code",
   "execution_count": null,
   "metadata": {
    "id": "kwtjhHFLGoCz",
    "outputId": "e14fb344-dfb8-43af-83b7-73f17b0a5aa5"
   },
   "outputs": [],
   "source": [
    "sentence = \"i would like to come with you\"\n",
    "n_word = 3\n",
    "print(sentence)\n",
    "print()\n",
    "print(\"model pretrained nofit\")\n",
    "print(score_sentence(sentence, tokenizer_pretrained, model_pretrained_nofit, n_word=n_word, verbose=True))\n",
    "print()\n",
    "print(\"model pretrained fit\")\n",
    "print(score_sentence(sentence, tokenizer_pretrained, model_pretrained, n_word=n_word, verbose=True))\n",
    "print()\n",
    "print(\"model gpt2\")\n",
    "print(score_sentence(sentence, tokenizer_GPT2, model_GPT2, n_word=n_word, verbose=True))\n",
    "print()\n",
    "print(\"model transformer\")\n",
    "print(score_sentence_transformer(sentence, tokenizer_transformer, transformer, n_word=n_word, verbose=True))"
   ]
  },
  {
   "cell_type": "code",
   "execution_count": null,
   "metadata": {
    "id": "38ERcmZAGoC0"
   },
   "outputs": [],
   "source": [
    "def score_data_test(data_test, tokenizer, model, n_validation = 100, n_word_max = 10, verbose=True, transformer=False):\n",
    "    total_word = 0\n",
    "    score_final = []\n",
    "    with tqdm(total = n_word_max*n_validation) as pbar:\n",
    "        for n_word in range(1,n_word_max+1):\n",
    "            score_l = 0\n",
    "            letter_l = 0\n",
    "            for i in range(n_validation):\n",
    "                sen = data_test[i][\"text\"]\n",
    "                if transformer:\n",
    "                    score, letter = score_sentence_transformer(sen, tokenizer=tokenizer, transformer=model, n_word=n_word, verbose=False)\n",
    "                else:\n",
    "                    score, letter = score_sentence(sen, tokenizer=tokenizer, model=model, n_word=n_word, verbose=False)\n",
    "                score_l += score\n",
    "                letter_l += letter\n",
    "                pbar.update(1)\n",
    "            if verbose:\n",
    "                print(\"Score final for\",n_word,\"suggestions :\", score_l/letter_l)\n",
    "            score_final.append(score_l/letter_l)\n",
    "    return score_final"
   ]
  },
  {
   "cell_type": "code",
   "execution_count": null,
   "metadata": {
    "colab": {
     "referenced_widgets": [
      "0e403399d6544dd99e20bee9aca68f56",
      "2ec873d0256b4de28d5fb5b9959422d2"
     ]
    },
    "id": "Zz4aWWmPGoC0",
    "outputId": "a64418b6-23e5-492c-879c-de09b87f9a49"
   },
   "outputs": [],
   "source": [
    "# Assez long : environ 30 min pour vérifier 100 phrases avec 1 model\n",
    "n_validation = 2\n",
    "n_word_max=5\n",
    "data_test = dataset[\"test\"]\n",
    "\n",
    "print(\"Small Transformer\")\n",
    "score_transformer = score_data_test(data_test, tokenizer_transformer, transformer, n_validation = n_validation, n_word_max = n_word_max, verbose=True, transformer=True)\n",
    "print(\"pre-trained no-fit\")\n",
    "score_pretrained_nofit = score_data_test(data_test, tokenizer_pretrained, model_pretrained_nofit, n_validation = n_validation, n_word_max = n_word_max, verbose=True)\n",
    "print(\"pre-trained fit\")\n",
    "score_pretrained = score_data_test(data_test, tokenizer_pretrained, model_pretrained, n_validation = n_validation, n_word_max = n_word_max, verbose=True)\n",
    "print(\"fitted GPT2 40k\")\n",
    "score_fit_40k = score_data_test(data_test, tokenizer_GPT2, model_GPT2, n_validation = n_validation, n_word_max = n_word_max, verbose=True)"
   ]
  },
  {
   "cell_type": "code",
   "execution_count": null,
   "metadata": {
    "id": "b_zZYvLXGoC1"
   },
   "outputs": [],
   "source": [
    "# Save the score to file\n",
    "score_list = [score_transformer, score_pretrained_nofit, score_pretrained, score_fit, score_fit_40k]\n",
    "file = os.path.join(path,'score_list.gz')\n",
    "save_object(score_list, file, zip=True)"
   ]
  },
  {
   "cell_type": "code",
   "execution_count": null,
   "metadata": {
    "id": "Vo80Kgv4GoC1"
   },
   "outputs": [],
   "source": [
    "# Load the score from file\n",
    "file = os.path.join(path,'score_list.gz')\n",
    "score_list = load_object(file, zip=True)\n",
    "score_transformer = score_list[0]\n",
    "score_pretrained_nofit = score_list[1]\n",
    "score_pretrained = score_list[2]\n",
    "score_fit = score_list[3]\n",
    "score_fit_40k = score_list[4]"
   ]
  },
  {
   "cell_type": "markdown",
   "metadata": {
    "id": "m-i7VJ5bnA4s"
   },
   "source": [
    "### Résultats"
   ]
  },
  {
   "cell_type": "markdown",
   "metadata": {
    "id": "W4JeLl5rnIH9"
   },
   "source": [
    "La courbe ci-dessous présente le score de chaque modèle testé, pour des prédictions de 1 à 5 mots. Nous pouvons constater que le mot juste est souvent prédit directement lorsque les modèles proposent 3 mots. De plus, il semblerait que le meilleurs modèle soit GPT2 avec un tokenizer à 40k mots."
   ]
  },
  {
   "cell_type": "code",
   "execution_count": null,
   "metadata": {
    "id": "vfsLw-ZmGoC1",
    "outputId": "9aa404c4-761e-4ae0-ea1f-285f652e70ba"
   },
   "outputs": [],
   "source": [
    "plt.figure(figsize=(15,10))\n",
    "plt.plot(range(1,n_word_max+1), score_transformer, c='dimgray', label=\"Model: Transformer\")\n",
    "plt.plot(range(1,n_word_max+1), score_pretrained_nofit, c='c', label=\"Model: GPT2 pre-trained no-fit\")\n",
    "plt.plot(range(1,n_word_max+1), score_pretrained, c='m', label=\"Model: GPT2 pre-trained fitted\")\n",
    "plt.plot(range(1,n_word_max+1), score_fit, c='r', label=\"Model: fitted GPT2 Tokenizateur 10k\")\n",
    "plt.plot(range(1,n_word_max+1), score_fit_40k, c='darkviolet', label=\"Model: fitted GPT2 Tokenizateur 40k\")\n",
    "plt.ylabel('Prediction efficiency')\n",
    "plt.xlabel('n_words')\n",
    "\n",
    "ax = plt.gca()\n",
    "ax.set_xlim([1, n_word_max])\n",
    "ax.set_ylim([0.35, 0.85])\n",
    "ax.legend()\n",
    "plt.show()"
   ]
  },
  {
   "cell_type": "markdown",
   "metadata": {
    "id": "YjTvlFxEGoC2"
   },
   "source": [
    "Rappel : le score moyen de lettre économisé était de 47% avec l'approche par occurence sans prise en compte du contexte."
   ]
  }
 ],
 "metadata": {
  "accelerator": "GPU",
  "colab": {
   "collapsed_sections": [],
   "name": "20220520 AS - 4-Transformers.ipynb",
   "provenance": [
    {
     "file_id": "1h64dLqdF0xq8FV00HhTmgr3MExOjU_dN",
     "timestamp": 1647934313756
    },
    {
     "file_id": "11a1oPyBhYXP5P465mLZA35jW5pqwnt6Z",
     "timestamp": 1646984412790
    },
    {
     "file_id": "1J-Az1UcJRfaMLnd9tv0qbzk9OoN5R5fo",
     "timestamp": 1646375046296
    },
    {
     "file_id": "1FycaMpXgU_dAKcoqIkcfKtz4NqnyoGJG",
     "timestamp": 1645967449672
    }
   ],
   "toc_visible": true
  },
  "kernelspec": {
   "display_name": "Python 3 (ipykernel)",
   "language": "python",
   "name": "python3"
  },
  "language_info": {
   "codemirror_mode": {
    "name": "ipython",
    "version": 3
   },
   "file_extension": ".py",
   "mimetype": "text/x-python",
   "name": "python",
   "nbconvert_exporter": "python",
   "pygments_lexer": "ipython3",
   "version": "3.8.12"
  },
  "widgets": {
   "application/vnd.jupyter.widget-state+json": {
    "01c0d87fc4dd47c4a398eb551192be74": {
     "model_module": "@jupyter-widgets/controls",
     "model_module_version": "1.5.0",
     "model_name": "FloatProgressModel",
     "state": {
      "_dom_classes": [],
      "_model_module": "@jupyter-widgets/controls",
      "_model_module_version": "1.5.0",
      "_model_name": "FloatProgressModel",
      "_view_count": null,
      "_view_module": "@jupyter-widgets/controls",
      "_view_module_version": "1.5.0",
      "_view_name": "ProgressView",
      "bar_style": "success",
      "description": "",
      "description_tooltip": null,
      "layout": "IPY_MODEL_bb6ead2a9e63419c8b6e6b2975c29730",
      "max": 25766,
      "min": 0,
      "orientation": "horizontal",
      "style": "IPY_MODEL_db6b151d3f1d464bb98b8bf029539cae",
      "value": 25766
     }
    },
    "029bd02a7519455b85a22284c352598d": {
     "model_module": "@jupyter-widgets/controls",
     "model_module_version": "1.5.0",
     "model_name": "HTMLModel",
     "state": {
      "_dom_classes": [],
      "_model_module": "@jupyter-widgets/controls",
      "_model_module_version": "1.5.0",
      "_model_name": "HTMLModel",
      "_view_count": null,
      "_view_module": "@jupyter-widgets/controls",
      "_view_module_version": "1.5.0",
      "_view_name": "HTMLView",
      "description": "",
      "description_tooltip": null,
      "layout": "IPY_MODEL_02f35982d45c413384284fbdad942934",
      "placeholder": "​",
      "style": "IPY_MODEL_4ecf42628d7a45ac8b4dff1b50bd62fe",
      "value": " 0.99M/0.99M [00:00&lt;00:00, 4.15MB/s]"
     }
    },
    "02f35982d45c413384284fbdad942934": {
     "model_module": "@jupyter-widgets/base",
     "model_module_version": "1.2.0",
     "model_name": "LayoutModel",
     "state": {
      "_model_module": "@jupyter-widgets/base",
      "_model_module_version": "1.2.0",
      "_model_name": "LayoutModel",
      "_view_count": null,
      "_view_module": "@jupyter-widgets/base",
      "_view_module_version": "1.2.0",
      "_view_name": "LayoutView",
      "align_content": null,
      "align_items": null,
      "align_self": null,
      "border": null,
      "bottom": null,
      "display": null,
      "flex": null,
      "flex_flow": null,
      "grid_area": null,
      "grid_auto_columns": null,
      "grid_auto_flow": null,
      "grid_auto_rows": null,
      "grid_column": null,
      "grid_gap": null,
      "grid_row": null,
      "grid_template_areas": null,
      "grid_template_columns": null,
      "grid_template_rows": null,
      "height": null,
      "justify_content": null,
      "justify_items": null,
      "left": null,
      "margin": null,
      "max_height": null,
      "max_width": null,
      "min_height": null,
      "min_width": null,
      "object_fit": null,
      "object_position": null,
      "order": null,
      "overflow": null,
      "overflow_x": null,
      "overflow_y": null,
      "padding": null,
      "right": null,
      "top": null,
      "visibility": null,
      "width": null
     }
    },
    "038b05c7163a4d8eb0d75cdc50e568d8": {
     "model_module": "@jupyter-widgets/base",
     "model_module_version": "1.2.0",
     "model_name": "LayoutModel",
     "state": {
      "_model_module": "@jupyter-widgets/base",
      "_model_module_version": "1.2.0",
      "_model_name": "LayoutModel",
      "_view_count": null,
      "_view_module": "@jupyter-widgets/base",
      "_view_module_version": "1.2.0",
      "_view_name": "LayoutView",
      "align_content": null,
      "align_items": null,
      "align_self": null,
      "border": null,
      "bottom": null,
      "display": null,
      "flex": null,
      "flex_flow": null,
      "grid_area": null,
      "grid_auto_columns": null,
      "grid_auto_flow": null,
      "grid_auto_rows": null,
      "grid_column": null,
      "grid_gap": null,
      "grid_row": null,
      "grid_template_areas": null,
      "grid_template_columns": null,
      "grid_template_rows": null,
      "height": null,
      "justify_content": null,
      "justify_items": null,
      "left": null,
      "margin": null,
      "max_height": null,
      "max_width": null,
      "min_height": null,
      "min_width": null,
      "object_fit": null,
      "object_position": null,
      "order": null,
      "overflow": null,
      "overflow_x": null,
      "overflow_y": null,
      "padding": null,
      "right": null,
      "top": null,
      "visibility": null,
      "width": null
     }
    },
    "06ff2eeb2b934b47affb302bbe73f4b0": {
     "model_module": "@jupyter-widgets/base",
     "model_module_version": "1.2.0",
     "model_name": "LayoutModel",
     "state": {
      "_model_module": "@jupyter-widgets/base",
      "_model_module_version": "1.2.0",
      "_model_name": "LayoutModel",
      "_view_count": null,
      "_view_module": "@jupyter-widgets/base",
      "_view_module_version": "1.2.0",
      "_view_name": "LayoutView",
      "align_content": null,
      "align_items": null,
      "align_self": null,
      "border": null,
      "bottom": null,
      "display": null,
      "flex": null,
      "flex_flow": null,
      "grid_area": null,
      "grid_auto_columns": null,
      "grid_auto_flow": null,
      "grid_auto_rows": null,
      "grid_column": null,
      "grid_gap": null,
      "grid_row": null,
      "grid_template_areas": null,
      "grid_template_columns": null,
      "grid_template_rows": null,
      "height": null,
      "justify_content": null,
      "justify_items": null,
      "left": null,
      "margin": null,
      "max_height": null,
      "max_width": null,
      "min_height": null,
      "min_width": null,
      "object_fit": null,
      "object_position": null,
      "order": null,
      "overflow": null,
      "overflow_x": null,
      "overflow_y": null,
      "padding": null,
      "right": null,
      "top": null,
      "visibility": null,
      "width": null
     }
    },
    "07547ed488394a1c8614822620536205": {
     "model_module": "@jupyter-widgets/base",
     "model_module_version": "1.2.0",
     "model_name": "LayoutModel",
     "state": {
      "_model_module": "@jupyter-widgets/base",
      "_model_module_version": "1.2.0",
      "_model_name": "LayoutModel",
      "_view_count": null,
      "_view_module": "@jupyter-widgets/base",
      "_view_module_version": "1.2.0",
      "_view_name": "LayoutView",
      "align_content": null,
      "align_items": null,
      "align_self": null,
      "border": null,
      "bottom": null,
      "display": null,
      "flex": null,
      "flex_flow": null,
      "grid_area": null,
      "grid_auto_columns": null,
      "grid_auto_flow": null,
      "grid_auto_rows": null,
      "grid_column": null,
      "grid_gap": null,
      "grid_row": null,
      "grid_template_areas": null,
      "grid_template_columns": null,
      "grid_template_rows": null,
      "height": null,
      "justify_content": null,
      "justify_items": null,
      "left": null,
      "margin": null,
      "max_height": null,
      "max_width": null,
      "min_height": null,
      "min_width": null,
      "object_fit": null,
      "object_position": null,
      "order": null,
      "overflow": null,
      "overflow_x": null,
      "overflow_y": null,
      "padding": null,
      "right": null,
      "top": null,
      "visibility": null,
      "width": null
     }
    },
    "07d2fb43296b478f8abe25773a1f63b7": {
     "model_module": "@jupyter-widgets/controls",
     "model_module_version": "1.5.0",
     "model_name": "HBoxModel",
     "state": {
      "_dom_classes": [],
      "_model_module": "@jupyter-widgets/controls",
      "_model_module_version": "1.5.0",
      "_model_name": "HBoxModel",
      "_view_count": null,
      "_view_module": "@jupyter-widgets/controls",
      "_view_module_version": "1.5.0",
      "_view_name": "HBoxView",
      "box_style": "",
      "children": [
       "IPY_MODEL_530aa5e2718344fdad95b692f4dbec7a",
       "IPY_MODEL_01c0d87fc4dd47c4a398eb551192be74",
       "IPY_MODEL_16d86cb3ecee45ac87a5b560f0e28b36"
      ],
      "layout": "IPY_MODEL_96019e51855540e686e50d3d4d1c8dbb"
     }
    },
    "0ca6ba70b0894f3b9d01822594f6ab90": {
     "model_module": "@jupyter-widgets/controls",
     "model_module_version": "1.5.0",
     "model_name": "DescriptionStyleModel",
     "state": {
      "_model_module": "@jupyter-widgets/controls",
      "_model_module_version": "1.5.0",
      "_model_name": "DescriptionStyleModel",
      "_view_count": null,
      "_view_module": "@jupyter-widgets/base",
      "_view_module_version": "1.2.0",
      "_view_name": "StyleView",
      "description_width": ""
     }
    },
    "0cf11a4cd24d4c5bb470c96e3d1e51b3": {
     "model_module": "@jupyter-widgets/controls",
     "model_module_version": "1.5.0",
     "model_name": "HTMLModel",
     "state": {
      "_dom_classes": [],
      "_model_module": "@jupyter-widgets/controls",
      "_model_module_version": "1.5.0",
      "_model_name": "HTMLModel",
      "_view_count": null,
      "_view_module": "@jupyter-widgets/controls",
      "_view_module_version": "1.5.0",
      "_view_name": "HTMLView",
      "description": "",
      "description_tooltip": null,
      "layout": "IPY_MODEL_71343075fc1045aaa274c6ad7018fe63",
      "placeholder": "​",
      "style": "IPY_MODEL_5bd8304e55194d7698eb0ced5928bc2c",
      "value": "100%"
     }
    },
    "10b8e8ca6fb14b0fa87d9d873e05fff1": {
     "model_module": "@jupyter-widgets/controls",
     "model_module_version": "1.5.0",
     "model_name": "HTMLModel",
     "state": {
      "_dom_classes": [],
      "_model_module": "@jupyter-widgets/controls",
      "_model_module_version": "1.5.0",
      "_model_name": "HTMLModel",
      "_view_count": null,
      "_view_module": "@jupyter-widgets/controls",
      "_view_module_version": "1.5.0",
      "_view_name": "HTMLView",
      "description": "",
      "description_tooltip": null,
      "layout": "IPY_MODEL_e3621a6bbdfb41989d726fe84eba1ffa",
      "placeholder": "​",
      "style": "IPY_MODEL_bc55a25f2e644822b05c9d86406167f1",
      "value": "100%"
     }
    },
    "115299e7bbec41569c4bf13480ebccf1": {
     "model_module": "@jupyter-widgets/base",
     "model_module_version": "1.2.0",
     "model_name": "LayoutModel",
     "state": {
      "_model_module": "@jupyter-widgets/base",
      "_model_module_version": "1.2.0",
      "_model_name": "LayoutModel",
      "_view_count": null,
      "_view_module": "@jupyter-widgets/base",
      "_view_module_version": "1.2.0",
      "_view_name": "LayoutView",
      "align_content": null,
      "align_items": null,
      "align_self": null,
      "border": null,
      "bottom": null,
      "display": null,
      "flex": null,
      "flex_flow": null,
      "grid_area": null,
      "grid_auto_columns": null,
      "grid_auto_flow": null,
      "grid_auto_rows": null,
      "grid_column": null,
      "grid_gap": null,
      "grid_row": null,
      "grid_template_areas": null,
      "grid_template_columns": null,
      "grid_template_rows": null,
      "height": null,
      "justify_content": null,
      "justify_items": null,
      "left": null,
      "margin": null,
      "max_height": null,
      "max_width": null,
      "min_height": null,
      "min_width": null,
      "object_fit": null,
      "object_position": null,
      "order": null,
      "overflow": null,
      "overflow_x": null,
      "overflow_y": null,
      "padding": null,
      "right": null,
      "top": null,
      "visibility": null,
      "width": null
     }
    },
    "141df8e5f6e74a14ac32e57e83da948a": {
     "model_module": "@jupyter-widgets/controls",
     "model_module_version": "1.5.0",
     "model_name": "DescriptionStyleModel",
     "state": {
      "_model_module": "@jupyter-widgets/controls",
      "_model_module_version": "1.5.0",
      "_model_name": "DescriptionStyleModel",
      "_view_count": null,
      "_view_module": "@jupyter-widgets/base",
      "_view_module_version": "1.2.0",
      "_view_name": "StyleView",
      "description_width": ""
     }
    },
    "1426211850e74f648aa8572ed3833503": {
     "model_module": "@jupyter-widgets/controls",
     "model_module_version": "1.5.0",
     "model_name": "FloatProgressModel",
     "state": {
      "_dom_classes": [],
      "_model_module": "@jupyter-widgets/controls",
      "_model_module_version": "1.5.0",
      "_model_name": "FloatProgressModel",
      "_view_count": null,
      "_view_module": "@jupyter-widgets/controls",
      "_view_module_version": "1.5.0",
      "_view_name": "ProgressView",
      "bar_style": "success",
      "description": "",
      "description_tooltip": null,
      "layout": "IPY_MODEL_ef9a76c09121451f92154a4c22724ccc",
      "max": 665,
      "min": 0,
      "orientation": "horizontal",
      "style": "IPY_MODEL_a033d05fbbc94be0a2d019af722371f1",
      "value": 665
     }
    },
    "16d86cb3ecee45ac87a5b560f0e28b36": {
     "model_module": "@jupyter-widgets/controls",
     "model_module_version": "1.5.0",
     "model_name": "HTMLModel",
     "state": {
      "_dom_classes": [],
      "_model_module": "@jupyter-widgets/controls",
      "_model_module_version": "1.5.0",
      "_model_name": "HTMLModel",
      "_view_count": null,
      "_view_module": "@jupyter-widgets/controls",
      "_view_module_version": "1.5.0",
      "_view_name": "HTMLView",
      "description": "",
      "description_tooltip": null,
      "layout": "IPY_MODEL_3682315a9a2b4975b71720a56a720913",
      "placeholder": "​",
      "style": "IPY_MODEL_96bc10b41dea48918b4ff9444c147fb6",
      "value": " 25766/25766 [20:25&lt;00:00, 20.00it/s]"
     }
    },
    "1957e8a0c79e4e8986d4e09aeb4a19b6": {
     "model_module": "@jupyter-widgets/base",
     "model_module_version": "1.2.0",
     "model_name": "LayoutModel",
     "state": {
      "_model_module": "@jupyter-widgets/base",
      "_model_module_version": "1.2.0",
      "_model_name": "LayoutModel",
      "_view_count": null,
      "_view_module": "@jupyter-widgets/base",
      "_view_module_version": "1.2.0",
      "_view_name": "LayoutView",
      "align_content": null,
      "align_items": null,
      "align_self": null,
      "border": null,
      "bottom": null,
      "display": null,
      "flex": null,
      "flex_flow": null,
      "grid_area": null,
      "grid_auto_columns": null,
      "grid_auto_flow": null,
      "grid_auto_rows": null,
      "grid_column": null,
      "grid_gap": null,
      "grid_row": null,
      "grid_template_areas": null,
      "grid_template_columns": null,
      "grid_template_rows": null,
      "height": null,
      "justify_content": null,
      "justify_items": null,
      "left": null,
      "margin": null,
      "max_height": null,
      "max_width": null,
      "min_height": null,
      "min_width": null,
      "object_fit": null,
      "object_position": null,
      "order": null,
      "overflow": null,
      "overflow_x": null,
      "overflow_y": null,
      "padding": null,
      "right": null,
      "top": null,
      "visibility": null,
      "width": null
     }
    },
    "1be8d52678b9483081bb81d232f81087": {
     "model_module": "@jupyter-widgets/controls",
     "model_module_version": "1.5.0",
     "model_name": "DescriptionStyleModel",
     "state": {
      "_model_module": "@jupyter-widgets/controls",
      "_model_module_version": "1.5.0",
      "_model_name": "DescriptionStyleModel",
      "_view_count": null,
      "_view_module": "@jupyter-widgets/base",
      "_view_module_version": "1.2.0",
      "_view_name": "StyleView",
      "description_width": ""
     }
    },
    "1ccc11fa1700472eaccd64d702f6658e": {
     "model_module": "@jupyter-widgets/base",
     "model_module_version": "1.2.0",
     "model_name": "LayoutModel",
     "state": {
      "_model_module": "@jupyter-widgets/base",
      "_model_module_version": "1.2.0",
      "_model_name": "LayoutModel",
      "_view_count": null,
      "_view_module": "@jupyter-widgets/base",
      "_view_module_version": "1.2.0",
      "_view_name": "LayoutView",
      "align_content": null,
      "align_items": null,
      "align_self": null,
      "border": null,
      "bottom": null,
      "display": null,
      "flex": null,
      "flex_flow": null,
      "grid_area": null,
      "grid_auto_columns": null,
      "grid_auto_flow": null,
      "grid_auto_rows": null,
      "grid_column": null,
      "grid_gap": null,
      "grid_row": null,
      "grid_template_areas": null,
      "grid_template_columns": null,
      "grid_template_rows": null,
      "height": null,
      "justify_content": null,
      "justify_items": null,
      "left": null,
      "margin": null,
      "max_height": null,
      "max_width": null,
      "min_height": null,
      "min_width": null,
      "object_fit": null,
      "object_position": null,
      "order": null,
      "overflow": null,
      "overflow_x": null,
      "overflow_y": null,
      "padding": null,
      "right": null,
      "top": null,
      "visibility": null,
      "width": null
     }
    },
    "1cdb8db696594d6a9300cb4442aebc35": {
     "model_module": "@jupyter-widgets/controls",
     "model_module_version": "1.5.0",
     "model_name": "DescriptionStyleModel",
     "state": {
      "_model_module": "@jupyter-widgets/controls",
      "_model_module_version": "1.5.0",
      "_model_name": "DescriptionStyleModel",
      "_view_count": null,
      "_view_module": "@jupyter-widgets/base",
      "_view_module_version": "1.2.0",
      "_view_name": "StyleView",
      "description_width": ""
     }
    },
    "1d8d1772737849d7958d0c02700e3e17": {
     "model_module": "@jupyter-widgets/base",
     "model_module_version": "1.2.0",
     "model_name": "LayoutModel",
     "state": {
      "_model_module": "@jupyter-widgets/base",
      "_model_module_version": "1.2.0",
      "_model_name": "LayoutModel",
      "_view_count": null,
      "_view_module": "@jupyter-widgets/base",
      "_view_module_version": "1.2.0",
      "_view_name": "LayoutView",
      "align_content": null,
      "align_items": null,
      "align_self": null,
      "border": null,
      "bottom": null,
      "display": null,
      "flex": null,
      "flex_flow": null,
      "grid_area": null,
      "grid_auto_columns": null,
      "grid_auto_flow": null,
      "grid_auto_rows": null,
      "grid_column": null,
      "grid_gap": null,
      "grid_row": null,
      "grid_template_areas": null,
      "grid_template_columns": null,
      "grid_template_rows": null,
      "height": null,
      "justify_content": null,
      "justify_items": null,
      "left": null,
      "margin": null,
      "max_height": null,
      "max_width": null,
      "min_height": null,
      "min_width": null,
      "object_fit": null,
      "object_position": null,
      "order": null,
      "overflow": null,
      "overflow_x": null,
      "overflow_y": null,
      "padding": null,
      "right": null,
      "top": null,
      "visibility": null,
      "width": null
     }
    },
    "1df130a08fbd4e84a06bc2ae930c632f": {
     "model_module": "@jupyter-widgets/base",
     "model_module_version": "1.2.0",
     "model_name": "LayoutModel",
     "state": {
      "_model_module": "@jupyter-widgets/base",
      "_model_module_version": "1.2.0",
      "_model_name": "LayoutModel",
      "_view_count": null,
      "_view_module": "@jupyter-widgets/base",
      "_view_module_version": "1.2.0",
      "_view_name": "LayoutView",
      "align_content": null,
      "align_items": null,
      "align_self": null,
      "border": null,
      "bottom": null,
      "display": null,
      "flex": null,
      "flex_flow": null,
      "grid_area": null,
      "grid_auto_columns": null,
      "grid_auto_flow": null,
      "grid_auto_rows": null,
      "grid_column": null,
      "grid_gap": null,
      "grid_row": null,
      "grid_template_areas": null,
      "grid_template_columns": null,
      "grid_template_rows": null,
      "height": null,
      "justify_content": null,
      "justify_items": null,
      "left": null,
      "margin": null,
      "max_height": null,
      "max_width": null,
      "min_height": null,
      "min_width": null,
      "object_fit": null,
      "object_position": null,
      "order": null,
      "overflow": null,
      "overflow_x": null,
      "overflow_y": null,
      "padding": null,
      "right": null,
      "top": null,
      "visibility": null,
      "width": null
     }
    },
    "200024d72b7a4620ae9c9a2a411152e6": {
     "model_module": "@jupyter-widgets/controls",
     "model_module_version": "1.5.0",
     "model_name": "ProgressStyleModel",
     "state": {
      "_model_module": "@jupyter-widgets/controls",
      "_model_module_version": "1.5.0",
      "_model_name": "ProgressStyleModel",
      "_view_count": null,
      "_view_module": "@jupyter-widgets/base",
      "_view_module_version": "1.2.0",
      "_view_name": "StyleView",
      "bar_color": null,
      "description_width": ""
     }
    },
    "210d095941d64c48bd0782426397aa48": {
     "model_module": "@jupyter-widgets/base",
     "model_module_version": "1.2.0",
     "model_name": "LayoutModel",
     "state": {
      "_model_module": "@jupyter-widgets/base",
      "_model_module_version": "1.2.0",
      "_model_name": "LayoutModel",
      "_view_count": null,
      "_view_module": "@jupyter-widgets/base",
      "_view_module_version": "1.2.0",
      "_view_name": "LayoutView",
      "align_content": null,
      "align_items": null,
      "align_self": null,
      "border": null,
      "bottom": null,
      "display": null,
      "flex": null,
      "flex_flow": null,
      "grid_area": null,
      "grid_auto_columns": null,
      "grid_auto_flow": null,
      "grid_auto_rows": null,
      "grid_column": null,
      "grid_gap": null,
      "grid_row": null,
      "grid_template_areas": null,
      "grid_template_columns": null,
      "grid_template_rows": null,
      "height": null,
      "justify_content": null,
      "justify_items": null,
      "left": null,
      "margin": null,
      "max_height": null,
      "max_width": null,
      "min_height": null,
      "min_width": null,
      "object_fit": null,
      "object_position": null,
      "order": null,
      "overflow": null,
      "overflow_x": null,
      "overflow_y": null,
      "padding": null,
      "right": null,
      "top": null,
      "visibility": null,
      "width": null
     }
    },
    "21c1b07766074d7498677384c804d247": {
     "model_module": "@jupyter-widgets/controls",
     "model_module_version": "1.5.0",
     "model_name": "ProgressStyleModel",
     "state": {
      "_model_module": "@jupyter-widgets/controls",
      "_model_module_version": "1.5.0",
      "_model_name": "ProgressStyleModel",
      "_view_count": null,
      "_view_module": "@jupyter-widgets/base",
      "_view_module_version": "1.2.0",
      "_view_name": "StyleView",
      "bar_color": null,
      "description_width": ""
     }
    },
    "21cc4d3535b34cda93e11d9d057528c9": {
     "model_module": "@jupyter-widgets/controls",
     "model_module_version": "1.5.0",
     "model_name": "HTMLModel",
     "state": {
      "_dom_classes": [],
      "_model_module": "@jupyter-widgets/controls",
      "_model_module_version": "1.5.0",
      "_model_name": "HTMLModel",
      "_view_count": null,
      "_view_module": "@jupyter-widgets/controls",
      "_view_module_version": "1.5.0",
      "_view_name": "HTMLView",
      "description": "",
      "description_tooltip": null,
      "layout": "IPY_MODEL_4d18322db450432abc4f7a122abe318c",
      "placeholder": "​",
      "style": "IPY_MODEL_66d440bdd7544aff90a387c2516beb34",
      "value": "Downloading: 100%"
     }
    },
    "263fe7591e174310b236be979e167234": {
     "model_module": "@jupyter-widgets/controls",
     "model_module_version": "1.5.0",
     "model_name": "HTMLModel",
     "state": {
      "_dom_classes": [],
      "_model_module": "@jupyter-widgets/controls",
      "_model_module_version": "1.5.0",
      "_model_name": "HTMLModel",
      "_view_count": null,
      "_view_module": "@jupyter-widgets/controls",
      "_view_module_version": "1.5.0",
      "_view_name": "HTMLView",
      "description": "",
      "description_tooltip": null,
      "layout": "IPY_MODEL_9ca5530ef1fd4b628b4b97b25202f347",
      "placeholder": "​",
      "style": "IPY_MODEL_abbfe79bb0814fe78d2ae18d5c870546",
      "value": " 25766/25766 [20:24&lt;00:00, 20.85it/s]"
     }
    },
    "2736568a5dd14802af7fffa1ff080766": {
     "model_module": "@jupyter-widgets/controls",
     "model_module_version": "1.5.0",
     "model_name": "DescriptionStyleModel",
     "state": {
      "_model_module": "@jupyter-widgets/controls",
      "_model_module_version": "1.5.0",
      "_model_name": "DescriptionStyleModel",
      "_view_count": null,
      "_view_module": "@jupyter-widgets/base",
      "_view_module_version": "1.2.0",
      "_view_name": "StyleView",
      "description_width": ""
     }
    },
    "2a4322d3aa37453d9abbdc7c69b85e0a": {
     "model_module": "@jupyter-widgets/controls",
     "model_module_version": "1.5.0",
     "model_name": "HTMLModel",
     "state": {
      "_dom_classes": [],
      "_model_module": "@jupyter-widgets/controls",
      "_model_module_version": "1.5.0",
      "_model_name": "HTMLModel",
      "_view_count": null,
      "_view_module": "@jupyter-widgets/controls",
      "_view_module_version": "1.5.0",
      "_view_name": "HTMLView",
      "description": "",
      "description_tooltip": null,
      "layout": "IPY_MODEL_e27341f5b62f4a1b9f02b80e3e8683f8",
      "placeholder": "​",
      "style": "IPY_MODEL_2736568a5dd14802af7fffa1ff080766",
      "value": " 517400/517400 [05:39&lt;00:00, 2286.06it/s]"
     }
    },
    "2b585ebe6c674aed84c21f49cf89c611": {
     "model_module": "@jupyter-widgets/base",
     "model_module_version": "1.2.0",
     "model_name": "LayoutModel",
     "state": {
      "_model_module": "@jupyter-widgets/base",
      "_model_module_version": "1.2.0",
      "_model_name": "LayoutModel",
      "_view_count": null,
      "_view_module": "@jupyter-widgets/base",
      "_view_module_version": "1.2.0",
      "_view_name": "LayoutView",
      "align_content": null,
      "align_items": null,
      "align_self": null,
      "border": null,
      "bottom": null,
      "display": null,
      "flex": null,
      "flex_flow": null,
      "grid_area": null,
      "grid_auto_columns": null,
      "grid_auto_flow": null,
      "grid_auto_rows": null,
      "grid_column": null,
      "grid_gap": null,
      "grid_row": null,
      "grid_template_areas": null,
      "grid_template_columns": null,
      "grid_template_rows": null,
      "height": null,
      "justify_content": null,
      "justify_items": null,
      "left": null,
      "margin": null,
      "max_height": null,
      "max_width": null,
      "min_height": null,
      "min_width": null,
      "object_fit": null,
      "object_position": null,
      "order": null,
      "overflow": null,
      "overflow_x": null,
      "overflow_y": null,
      "padding": null,
      "right": null,
      "top": null,
      "visibility": null,
      "width": null
     }
    },
    "2bdc3b6521c04b2f9feeb8620a84091a": {
     "model_module": "@jupyter-widgets/base",
     "model_module_version": "1.2.0",
     "model_name": "LayoutModel",
     "state": {
      "_model_module": "@jupyter-widgets/base",
      "_model_module_version": "1.2.0",
      "_model_name": "LayoutModel",
      "_view_count": null,
      "_view_module": "@jupyter-widgets/base",
      "_view_module_version": "1.2.0",
      "_view_name": "LayoutView",
      "align_content": null,
      "align_items": null,
      "align_self": null,
      "border": null,
      "bottom": null,
      "display": null,
      "flex": null,
      "flex_flow": null,
      "grid_area": null,
      "grid_auto_columns": null,
      "grid_auto_flow": null,
      "grid_auto_rows": null,
      "grid_column": null,
      "grid_gap": null,
      "grid_row": null,
      "grid_template_areas": null,
      "grid_template_columns": null,
      "grid_template_rows": null,
      "height": null,
      "justify_content": null,
      "justify_items": null,
      "left": null,
      "margin": null,
      "max_height": null,
      "max_width": null,
      "min_height": null,
      "min_width": null,
      "object_fit": null,
      "object_position": null,
      "order": null,
      "overflow": null,
      "overflow_x": null,
      "overflow_y": null,
      "padding": null,
      "right": null,
      "top": null,
      "visibility": null,
      "width": null
     }
    },
    "2c99577ec6d84fce8a1d8ae2e9f10f5f": {
     "model_module": "@jupyter-widgets/controls",
     "model_module_version": "1.5.0",
     "model_name": "FloatProgressModel",
     "state": {
      "_dom_classes": [],
      "_model_module": "@jupyter-widgets/controls",
      "_model_module_version": "1.5.0",
      "_model_name": "FloatProgressModel",
      "_view_count": null,
      "_view_module": "@jupyter-widgets/controls",
      "_view_module_version": "1.5.0",
      "_view_name": "ProgressView",
      "bar_style": "success",
      "description": "",
      "description_tooltip": null,
      "layout": "IPY_MODEL_6d465e9e437f4f9c87c1633a129c43ba",
      "max": 456318,
      "min": 0,
      "orientation": "horizontal",
      "style": "IPY_MODEL_2eaa719345cd4f429d7cbeb886c0e74a",
      "value": 456318
     }
    },
    "2e16681f61d942428dff0acee59a2373": {
     "model_module": "@jupyter-widgets/controls",
     "model_module_version": "1.5.0",
     "model_name": "DescriptionStyleModel",
     "state": {
      "_model_module": "@jupyter-widgets/controls",
      "_model_module_version": "1.5.0",
      "_model_name": "DescriptionStyleModel",
      "_view_count": null,
      "_view_module": "@jupyter-widgets/base",
      "_view_module_version": "1.2.0",
      "_view_name": "StyleView",
      "description_width": ""
     }
    },
    "2e8f1f70721549ab854d13b5753b6be4": {
     "model_module": "@jupyter-widgets/base",
     "model_module_version": "1.2.0",
     "model_name": "LayoutModel",
     "state": {
      "_model_module": "@jupyter-widgets/base",
      "_model_module_version": "1.2.0",
      "_model_name": "LayoutModel",
      "_view_count": null,
      "_view_module": "@jupyter-widgets/base",
      "_view_module_version": "1.2.0",
      "_view_name": "LayoutView",
      "align_content": null,
      "align_items": null,
      "align_self": null,
      "border": null,
      "bottom": null,
      "display": null,
      "flex": null,
      "flex_flow": null,
      "grid_area": null,
      "grid_auto_columns": null,
      "grid_auto_flow": null,
      "grid_auto_rows": null,
      "grid_column": null,
      "grid_gap": null,
      "grid_row": null,
      "grid_template_areas": null,
      "grid_template_columns": null,
      "grid_template_rows": null,
      "height": null,
      "justify_content": null,
      "justify_items": null,
      "left": null,
      "margin": null,
      "max_height": null,
      "max_width": null,
      "min_height": null,
      "min_width": null,
      "object_fit": null,
      "object_position": null,
      "order": null,
      "overflow": null,
      "overflow_x": null,
      "overflow_y": null,
      "padding": null,
      "right": null,
      "top": null,
      "visibility": null,
      "width": null
     }
    },
    "2eaa719345cd4f429d7cbeb886c0e74a": {
     "model_module": "@jupyter-widgets/controls",
     "model_module_version": "1.5.0",
     "model_name": "ProgressStyleModel",
     "state": {
      "_model_module": "@jupyter-widgets/controls",
      "_model_module_version": "1.5.0",
      "_model_name": "ProgressStyleModel",
      "_view_count": null,
      "_view_module": "@jupyter-widgets/base",
      "_view_module_version": "1.2.0",
      "_view_name": "StyleView",
      "bar_color": null,
      "description_width": ""
     }
    },
    "345874c5361b41d68b62ea0ec27ad82a": {
     "model_module": "@jupyter-widgets/base",
     "model_module_version": "1.2.0",
     "model_name": "LayoutModel",
     "state": {
      "_model_module": "@jupyter-widgets/base",
      "_model_module_version": "1.2.0",
      "_model_name": "LayoutModel",
      "_view_count": null,
      "_view_module": "@jupyter-widgets/base",
      "_view_module_version": "1.2.0",
      "_view_name": "LayoutView",
      "align_content": null,
      "align_items": null,
      "align_self": null,
      "border": null,
      "bottom": null,
      "display": null,
      "flex": null,
      "flex_flow": null,
      "grid_area": null,
      "grid_auto_columns": null,
      "grid_auto_flow": null,
      "grid_auto_rows": null,
      "grid_column": null,
      "grid_gap": null,
      "grid_row": null,
      "grid_template_areas": null,
      "grid_template_columns": null,
      "grid_template_rows": null,
      "height": null,
      "justify_content": null,
      "justify_items": null,
      "left": null,
      "margin": null,
      "max_height": null,
      "max_width": null,
      "min_height": null,
      "min_width": null,
      "object_fit": null,
      "object_position": null,
      "order": null,
      "overflow": null,
      "overflow_x": null,
      "overflow_y": null,
      "padding": null,
      "right": null,
      "top": null,
      "visibility": null,
      "width": null
     }
    },
    "36615d32758440a69f536ab5651cf6ab": {
     "model_module": "@jupyter-widgets/controls",
     "model_module_version": "1.5.0",
     "model_name": "HBoxModel",
     "state": {
      "_dom_classes": [],
      "_model_module": "@jupyter-widgets/controls",
      "_model_module_version": "1.5.0",
      "_model_name": "HBoxModel",
      "_view_count": null,
      "_view_module": "@jupyter-widgets/controls",
      "_view_module_version": "1.5.0",
      "_view_name": "HBoxView",
      "box_style": "",
      "children": [
       "IPY_MODEL_70415952d13740b29e339dde4189bfc3",
       "IPY_MODEL_c50d4115f15248148ed19576cff727cb",
       "IPY_MODEL_3fb7d3e7d2874ae981a4ed9b94ee45ee"
      ],
      "layout": "IPY_MODEL_5af6265bd68c4dac82da2e4764d176a4"
     }
    },
    "3682315a9a2b4975b71720a56a720913": {
     "model_module": "@jupyter-widgets/base",
     "model_module_version": "1.2.0",
     "model_name": "LayoutModel",
     "state": {
      "_model_module": "@jupyter-widgets/base",
      "_model_module_version": "1.2.0",
      "_model_name": "LayoutModel",
      "_view_count": null,
      "_view_module": "@jupyter-widgets/base",
      "_view_module_version": "1.2.0",
      "_view_name": "LayoutView",
      "align_content": null,
      "align_items": null,
      "align_self": null,
      "border": null,
      "bottom": null,
      "display": null,
      "flex": null,
      "flex_flow": null,
      "grid_area": null,
      "grid_auto_columns": null,
      "grid_auto_flow": null,
      "grid_auto_rows": null,
      "grid_column": null,
      "grid_gap": null,
      "grid_row": null,
      "grid_template_areas": null,
      "grid_template_columns": null,
      "grid_template_rows": null,
      "height": null,
      "justify_content": null,
      "justify_items": null,
      "left": null,
      "margin": null,
      "max_height": null,
      "max_width": null,
      "min_height": null,
      "min_width": null,
      "object_fit": null,
      "object_position": null,
      "order": null,
      "overflow": null,
      "overflow_x": null,
      "overflow_y": null,
      "padding": null,
      "right": null,
      "top": null,
      "visibility": null,
      "width": null
     }
    },
    "37cce9cafc694bddbfbdf5450b396358": {
     "model_module": "@jupyter-widgets/controls",
     "model_module_version": "1.5.0",
     "model_name": "HTMLModel",
     "state": {
      "_dom_classes": [],
      "_model_module": "@jupyter-widgets/controls",
      "_model_module_version": "1.5.0",
      "_model_name": "HTMLModel",
      "_view_count": null,
      "_view_module": "@jupyter-widgets/controls",
      "_view_module_version": "1.5.0",
      "_view_name": "HTMLView",
      "description": "",
      "description_tooltip": null,
      "layout": "IPY_MODEL_618f599502b842a3ab00113081f6adf5",
      "placeholder": "​",
      "style": "IPY_MODEL_633304e31b614ab8a431b4095cd28e03",
      "value": "100%"
     }
    },
    "3abf2df1c0cf46e89059b644c3ff817e": {
     "model_module": "@jupyter-widgets/controls",
     "model_module_version": "1.5.0",
     "model_name": "HBoxModel",
     "state": {
      "_dom_classes": [],
      "_model_module": "@jupyter-widgets/controls",
      "_model_module_version": "1.5.0",
      "_model_name": "HBoxModel",
      "_view_count": null,
      "_view_module": "@jupyter-widgets/controls",
      "_view_module_version": "1.5.0",
      "_view_name": "HBoxView",
      "box_style": "",
      "children": [
       "IPY_MODEL_37cce9cafc694bddbfbdf5450b396358",
       "IPY_MODEL_5bd242f892124cb184973a52a5b978ad",
       "IPY_MODEL_6ebb11cdc4c545518030807a617460fb"
      ],
      "layout": "IPY_MODEL_66f762faf54441b5a7f356de68d60af3"
     }
    },
    "3b5d13108b0f4cd5bc51af1e782bd5a7": {
     "model_module": "@jupyter-widgets/controls",
     "model_module_version": "1.5.0",
     "model_name": "ProgressStyleModel",
     "state": {
      "_model_module": "@jupyter-widgets/controls",
      "_model_module_version": "1.5.0",
      "_model_name": "ProgressStyleModel",
      "_view_count": null,
      "_view_module": "@jupyter-widgets/base",
      "_view_module_version": "1.2.0",
      "_view_name": "StyleView",
      "bar_color": null,
      "description_width": ""
     }
    },
    "3ccbbf671c9e49e181538b85348de94c": {
     "model_module": "@jupyter-widgets/controls",
     "model_module_version": "1.5.0",
     "model_name": "HTMLModel",
     "state": {
      "_dom_classes": [],
      "_model_module": "@jupyter-widgets/controls",
      "_model_module_version": "1.5.0",
      "_model_name": "HTMLModel",
      "_view_count": null,
      "_view_module": "@jupyter-widgets/controls",
      "_view_module_version": "1.5.0",
      "_view_name": "HTMLView",
      "description": "",
      "description_tooltip": null,
      "layout": "IPY_MODEL_f4b4a7e2363c4d88b92092e248f43d6d",
      "placeholder": "​",
      "style": "IPY_MODEL_bba6df7f19014d488c75c59e8bfe65a8",
      "value": "100%"
     }
    },
    "3eb19406d65940bfa4e87366179ba6ea": {
     "model_module": "@jupyter-widgets/base",
     "model_module_version": "1.2.0",
     "model_name": "LayoutModel",
     "state": {
      "_model_module": "@jupyter-widgets/base",
      "_model_module_version": "1.2.0",
      "_model_name": "LayoutModel",
      "_view_count": null,
      "_view_module": "@jupyter-widgets/base",
      "_view_module_version": "1.2.0",
      "_view_name": "LayoutView",
      "align_content": null,
      "align_items": null,
      "align_self": null,
      "border": null,
      "bottom": null,
      "display": null,
      "flex": null,
      "flex_flow": null,
      "grid_area": null,
      "grid_auto_columns": null,
      "grid_auto_flow": null,
      "grid_auto_rows": null,
      "grid_column": null,
      "grid_gap": null,
      "grid_row": null,
      "grid_template_areas": null,
      "grid_template_columns": null,
      "grid_template_rows": null,
      "height": null,
      "justify_content": null,
      "justify_items": null,
      "left": null,
      "margin": null,
      "max_height": null,
      "max_width": null,
      "min_height": null,
      "min_width": null,
      "object_fit": null,
      "object_position": null,
      "order": null,
      "overflow": null,
      "overflow_x": null,
      "overflow_y": null,
      "padding": null,
      "right": null,
      "top": null,
      "visibility": null,
      "width": null
     }
    },
    "3fb7d3e7d2874ae981a4ed9b94ee45ee": {
     "model_module": "@jupyter-widgets/controls",
     "model_module_version": "1.5.0",
     "model_name": "HTMLModel",
     "state": {
      "_dom_classes": [],
      "_model_module": "@jupyter-widgets/controls",
      "_model_module_version": "1.5.0",
      "_model_name": "HTMLModel",
      "_view_count": null,
      "_view_module": "@jupyter-widgets/controls",
      "_view_module_version": "1.5.0",
      "_view_name": "HTMLView",
      "description": "",
      "description_tooltip": null,
      "layout": "IPY_MODEL_1ccc11fa1700472eaccd64d702f6658e",
      "placeholder": "​",
      "style": "IPY_MODEL_bd8c54b705db46cea877f6c9ebd11ea5",
      "value": " 576/576 [00:27&lt;00:00, 22.87ba/s]"
     }
    },
    "40abd2a98e8747d3bc8f9015fce17e4d": {
     "model_module": "@jupyter-widgets/base",
     "model_module_version": "1.2.0",
     "model_name": "LayoutModel",
     "state": {
      "_model_module": "@jupyter-widgets/base",
      "_model_module_version": "1.2.0",
      "_model_name": "LayoutModel",
      "_view_count": null,
      "_view_module": "@jupyter-widgets/base",
      "_view_module_version": "1.2.0",
      "_view_name": "LayoutView",
      "align_content": null,
      "align_items": null,
      "align_self": null,
      "border": null,
      "bottom": null,
      "display": null,
      "flex": null,
      "flex_flow": null,
      "grid_area": null,
      "grid_auto_columns": null,
      "grid_auto_flow": null,
      "grid_auto_rows": null,
      "grid_column": null,
      "grid_gap": null,
      "grid_row": null,
      "grid_template_areas": null,
      "grid_template_columns": null,
      "grid_template_rows": null,
      "height": null,
      "justify_content": null,
      "justify_items": null,
      "left": null,
      "margin": null,
      "max_height": null,
      "max_width": null,
      "min_height": null,
      "min_width": null,
      "object_fit": null,
      "object_position": null,
      "order": null,
      "overflow": null,
      "overflow_x": null,
      "overflow_y": null,
      "padding": null,
      "right": null,
      "top": null,
      "visibility": null,
      "width": null
     }
    },
    "413578decd834a8aa12904acd55eb714": {
     "model_module": "@jupyter-widgets/base",
     "model_module_version": "1.2.0",
     "model_name": "LayoutModel",
     "state": {
      "_model_module": "@jupyter-widgets/base",
      "_model_module_version": "1.2.0",
      "_model_name": "LayoutModel",
      "_view_count": null,
      "_view_module": "@jupyter-widgets/base",
      "_view_module_version": "1.2.0",
      "_view_name": "LayoutView",
      "align_content": null,
      "align_items": null,
      "align_self": null,
      "border": null,
      "bottom": null,
      "display": null,
      "flex": null,
      "flex_flow": null,
      "grid_area": null,
      "grid_auto_columns": null,
      "grid_auto_flow": null,
      "grid_auto_rows": null,
      "grid_column": null,
      "grid_gap": null,
      "grid_row": null,
      "grid_template_areas": null,
      "grid_template_columns": null,
      "grid_template_rows": null,
      "height": null,
      "justify_content": null,
      "justify_items": null,
      "left": null,
      "margin": null,
      "max_height": null,
      "max_width": null,
      "min_height": null,
      "min_width": null,
      "object_fit": null,
      "object_position": null,
      "order": null,
      "overflow": null,
      "overflow_x": null,
      "overflow_y": null,
      "padding": null,
      "right": null,
      "top": null,
      "visibility": null,
      "width": null
     }
    },
    "415ac6525a0c4142af3601a1326abb52": {
     "model_module": "@jupyter-widgets/controls",
     "model_module_version": "1.5.0",
     "model_name": "HBoxModel",
     "state": {
      "_dom_classes": [],
      "_model_module": "@jupyter-widgets/controls",
      "_model_module_version": "1.5.0",
      "_model_name": "HBoxModel",
      "_view_count": null,
      "_view_module": "@jupyter-widgets/controls",
      "_view_module_version": "1.5.0",
      "_view_name": "HBoxView",
      "box_style": "",
      "children": [
       "IPY_MODEL_0cf11a4cd24d4c5bb470c96e3d1e51b3",
       "IPY_MODEL_5dcf9b518a104f33ba8b98dc0ef95326",
       "IPY_MODEL_a412ba9d5c34496e9f24852d16a1f7ed"
      ],
      "layout": "IPY_MODEL_3eb19406d65940bfa4e87366179ba6ea"
     }
    },
    "446f77d89a0b450985f57f671748b8fe": {
     "model_module": "@jupyter-widgets/base",
     "model_module_version": "1.2.0",
     "model_name": "LayoutModel",
     "state": {
      "_model_module": "@jupyter-widgets/base",
      "_model_module_version": "1.2.0",
      "_model_name": "LayoutModel",
      "_view_count": null,
      "_view_module": "@jupyter-widgets/base",
      "_view_module_version": "1.2.0",
      "_view_name": "LayoutView",
      "align_content": null,
      "align_items": null,
      "align_self": null,
      "border": null,
      "bottom": null,
      "display": null,
      "flex": null,
      "flex_flow": null,
      "grid_area": null,
      "grid_auto_columns": null,
      "grid_auto_flow": null,
      "grid_auto_rows": null,
      "grid_column": null,
      "grid_gap": null,
      "grid_row": null,
      "grid_template_areas": null,
      "grid_template_columns": null,
      "grid_template_rows": null,
      "height": null,
      "justify_content": null,
      "justify_items": null,
      "left": null,
      "margin": null,
      "max_height": null,
      "max_width": null,
      "min_height": null,
      "min_width": null,
      "object_fit": null,
      "object_position": null,
      "order": null,
      "overflow": null,
      "overflow_x": null,
      "overflow_y": null,
      "padding": null,
      "right": null,
      "top": null,
      "visibility": null,
      "width": null
     }
    },
    "45acd3ee41a04350a9cc9bd6413e0e6f": {
     "model_module": "@jupyter-widgets/controls",
     "model_module_version": "1.5.0",
     "model_name": "HBoxModel",
     "state": {
      "_dom_classes": [],
      "_model_module": "@jupyter-widgets/controls",
      "_model_module_version": "1.5.0",
      "_model_name": "HBoxModel",
      "_view_count": null,
      "_view_module": "@jupyter-widgets/controls",
      "_view_module_version": "1.5.0",
      "_view_name": "HBoxView",
      "box_style": "",
      "children": [
       "IPY_MODEL_ff7d74dcd4cb45b4ba7dfed9c96f99b7",
       "IPY_MODEL_2c99577ec6d84fce8a1d8ae2e9f10f5f",
       "IPY_MODEL_4aff4e9193d048e1817990135842f87c"
      ],
      "layout": "IPY_MODEL_115299e7bbec41569c4bf13480ebccf1"
     }
    },
    "461870eefaaa4e2782e7f0b3a29bf136": {
     "model_module": "@jupyter-widgets/controls",
     "model_module_version": "1.5.0",
     "model_name": "ProgressStyleModel",
     "state": {
      "_model_module": "@jupyter-widgets/controls",
      "_model_module_version": "1.5.0",
      "_model_name": "ProgressStyleModel",
      "_view_count": null,
      "_view_module": "@jupyter-widgets/base",
      "_view_module_version": "1.2.0",
      "_view_name": "StyleView",
      "bar_color": null,
      "description_width": ""
     }
    },
    "4700eaaffbd048369a07ed3c388df6c1": {
     "model_module": "@jupyter-widgets/base",
     "model_module_version": "1.2.0",
     "model_name": "LayoutModel",
     "state": {
      "_model_module": "@jupyter-widgets/base",
      "_model_module_version": "1.2.0",
      "_model_name": "LayoutModel",
      "_view_count": null,
      "_view_module": "@jupyter-widgets/base",
      "_view_module_version": "1.2.0",
      "_view_name": "LayoutView",
      "align_content": null,
      "align_items": null,
      "align_self": null,
      "border": null,
      "bottom": null,
      "display": null,
      "flex": null,
      "flex_flow": null,
      "grid_area": null,
      "grid_auto_columns": null,
      "grid_auto_flow": null,
      "grid_auto_rows": null,
      "grid_column": null,
      "grid_gap": null,
      "grid_row": null,
      "grid_template_areas": null,
      "grid_template_columns": null,
      "grid_template_rows": null,
      "height": null,
      "justify_content": null,
      "justify_items": null,
      "left": null,
      "margin": null,
      "max_height": null,
      "max_width": null,
      "min_height": null,
      "min_width": null,
      "object_fit": null,
      "object_position": null,
      "order": null,
      "overflow": null,
      "overflow_x": null,
      "overflow_y": null,
      "padding": null,
      "right": null,
      "top": null,
      "visibility": null,
      "width": null
     }
    },
    "4aff4e9193d048e1817990135842f87c": {
     "model_module": "@jupyter-widgets/controls",
     "model_module_version": "1.5.0",
     "model_name": "HTMLModel",
     "state": {
      "_dom_classes": [],
      "_model_module": "@jupyter-widgets/controls",
      "_model_module_version": "1.5.0",
      "_model_name": "HTMLModel",
      "_view_count": null,
      "_view_module": "@jupyter-widgets/controls",
      "_view_module_version": "1.5.0",
      "_view_name": "HTMLView",
      "description": "",
      "description_tooltip": null,
      "layout": "IPY_MODEL_d075a1112281404a9fbbafc4772ecef7",
      "placeholder": "​",
      "style": "IPY_MODEL_feeb8352445b4577b9a62af8a7e947fd",
      "value": " 446k/446k [00:00&lt;00:00, 728kB/s]"
     }
    },
    "4ccf8a511c6d4f5f9c338b5ea38d08ac": {
     "model_module": "@jupyter-widgets/controls",
     "model_module_version": "1.5.0",
     "model_name": "HTMLModel",
     "state": {
      "_dom_classes": [],
      "_model_module": "@jupyter-widgets/controls",
      "_model_module_version": "1.5.0",
      "_model_name": "HTMLModel",
      "_view_count": null,
      "_view_module": "@jupyter-widgets/controls",
      "_view_module_version": "1.5.0",
      "_view_name": "HTMLView",
      "description": "",
      "description_tooltip": null,
      "layout": "IPY_MODEL_413578decd834a8aa12904acd55eb714",
      "placeholder": "​",
      "style": "IPY_MODEL_d1cf3191d02f4ed3bdb371f329019b2c",
      "value": " 5182/5182 [04:00&lt;00:00, 21.77ba/s]"
     }
    },
    "4d18322db450432abc4f7a122abe318c": {
     "model_module": "@jupyter-widgets/base",
     "model_module_version": "1.2.0",
     "model_name": "LayoutModel",
     "state": {
      "_model_module": "@jupyter-widgets/base",
      "_model_module_version": "1.2.0",
      "_model_name": "LayoutModel",
      "_view_count": null,
      "_view_module": "@jupyter-widgets/base",
      "_view_module_version": "1.2.0",
      "_view_name": "LayoutView",
      "align_content": null,
      "align_items": null,
      "align_self": null,
      "border": null,
      "bottom": null,
      "display": null,
      "flex": null,
      "flex_flow": null,
      "grid_area": null,
      "grid_auto_columns": null,
      "grid_auto_flow": null,
      "grid_auto_rows": null,
      "grid_column": null,
      "grid_gap": null,
      "grid_row": null,
      "grid_template_areas": null,
      "grid_template_columns": null,
      "grid_template_rows": null,
      "height": null,
      "justify_content": null,
      "justify_items": null,
      "left": null,
      "margin": null,
      "max_height": null,
      "max_width": null,
      "min_height": null,
      "min_width": null,
      "object_fit": null,
      "object_position": null,
      "order": null,
      "overflow": null,
      "overflow_x": null,
      "overflow_y": null,
      "padding": null,
      "right": null,
      "top": null,
      "visibility": null,
      "width": null
     }
    },
    "4e0c2d9bb24949248f7d342f0a8d6fbe": {
     "model_module": "@jupyter-widgets/base",
     "model_module_version": "1.2.0",
     "model_name": "LayoutModel",
     "state": {
      "_model_module": "@jupyter-widgets/base",
      "_model_module_version": "1.2.0",
      "_model_name": "LayoutModel",
      "_view_count": null,
      "_view_module": "@jupyter-widgets/base",
      "_view_module_version": "1.2.0",
      "_view_name": "LayoutView",
      "align_content": null,
      "align_items": null,
      "align_self": null,
      "border": null,
      "bottom": null,
      "display": null,
      "flex": null,
      "flex_flow": null,
      "grid_area": null,
      "grid_auto_columns": null,
      "grid_auto_flow": null,
      "grid_auto_rows": null,
      "grid_column": null,
      "grid_gap": null,
      "grid_row": null,
      "grid_template_areas": null,
      "grid_template_columns": null,
      "grid_template_rows": null,
      "height": null,
      "justify_content": null,
      "justify_items": null,
      "left": null,
      "margin": null,
      "max_height": null,
      "max_width": null,
      "min_height": null,
      "min_width": null,
      "object_fit": null,
      "object_position": null,
      "order": null,
      "overflow": null,
      "overflow_x": null,
      "overflow_y": null,
      "padding": null,
      "right": null,
      "top": null,
      "visibility": null,
      "width": null
     }
    },
    "4ecf42628d7a45ac8b4dff1b50bd62fe": {
     "model_module": "@jupyter-widgets/controls",
     "model_module_version": "1.5.0",
     "model_name": "DescriptionStyleModel",
     "state": {
      "_model_module": "@jupyter-widgets/controls",
      "_model_module_version": "1.5.0",
      "_model_name": "DescriptionStyleModel",
      "_view_count": null,
      "_view_module": "@jupyter-widgets/base",
      "_view_module_version": "1.2.0",
      "_view_name": "StyleView",
      "description_width": ""
     }
    },
    "4ff48b7b32184f1385d108d975126b3c": {
     "model_module": "@jupyter-widgets/controls",
     "model_module_version": "1.5.0",
     "model_name": "FloatProgressModel",
     "state": {
      "_dom_classes": [],
      "_model_module": "@jupyter-widgets/controls",
      "_model_module_version": "1.5.0",
      "_model_name": "FloatProgressModel",
      "_view_count": null,
      "_view_module": "@jupyter-widgets/controls",
      "_view_module_version": "1.5.0",
      "_view_name": "ProgressView",
      "bar_style": "success",
      "description": "",
      "description_tooltip": null,
      "layout": "IPY_MODEL_345874c5361b41d68b62ea0ec27ad82a",
      "max": 517400,
      "min": 0,
      "orientation": "horizontal",
      "style": "IPY_MODEL_200024d72b7a4620ae9c9a2a411152e6",
      "value": 517400
     }
    },
    "530aa5e2718344fdad95b692f4dbec7a": {
     "model_module": "@jupyter-widgets/controls",
     "model_module_version": "1.5.0",
     "model_name": "HTMLModel",
     "state": {
      "_dom_classes": [],
      "_model_module": "@jupyter-widgets/controls",
      "_model_module_version": "1.5.0",
      "_model_name": "HTMLModel",
      "_view_count": null,
      "_view_module": "@jupyter-widgets/controls",
      "_view_module_version": "1.5.0",
      "_view_name": "HTMLView",
      "description": "",
      "description_tooltip": null,
      "layout": "IPY_MODEL_d7a511a7cce6493e978bdefdc25a7167",
      "placeholder": "​",
      "style": "IPY_MODEL_141df8e5f6e74a14ac32e57e83da948a",
      "value": "100%"
     }
    },
    "5425e948e36b4d9e91d1dacddf119f61": {
     "model_module": "@jupyter-widgets/controls",
     "model_module_version": "1.5.0",
     "model_name": "ProgressStyleModel",
     "state": {
      "_model_module": "@jupyter-widgets/controls",
      "_model_module_version": "1.5.0",
      "_model_name": "ProgressStyleModel",
      "_view_count": null,
      "_view_module": "@jupyter-widgets/base",
      "_view_module_version": "1.2.0",
      "_view_name": "StyleView",
      "bar_color": null,
      "description_width": ""
     }
    },
    "56fe4be4797946a6bae4749b5919967c": {
     "model_module": "@jupyter-widgets/base",
     "model_module_version": "1.2.0",
     "model_name": "LayoutModel",
     "state": {
      "_model_module": "@jupyter-widgets/base",
      "_model_module_version": "1.2.0",
      "_model_name": "LayoutModel",
      "_view_count": null,
      "_view_module": "@jupyter-widgets/base",
      "_view_module_version": "1.2.0",
      "_view_name": "LayoutView",
      "align_content": null,
      "align_items": null,
      "align_self": null,
      "border": null,
      "bottom": null,
      "display": null,
      "flex": null,
      "flex_flow": null,
      "grid_area": null,
      "grid_auto_columns": null,
      "grid_auto_flow": null,
      "grid_auto_rows": null,
      "grid_column": null,
      "grid_gap": null,
      "grid_row": null,
      "grid_template_areas": null,
      "grid_template_columns": null,
      "grid_template_rows": null,
      "height": null,
      "justify_content": null,
      "justify_items": null,
      "left": null,
      "margin": null,
      "max_height": null,
      "max_width": null,
      "min_height": null,
      "min_width": null,
      "object_fit": null,
      "object_position": null,
      "order": null,
      "overflow": null,
      "overflow_x": null,
      "overflow_y": null,
      "padding": null,
      "right": null,
      "top": null,
      "visibility": null,
      "width": null
     }
    },
    "57eb2f18f3974f0e85a6a1db997ca1a6": {
     "model_module": "@jupyter-widgets/controls",
     "model_module_version": "1.5.0",
     "model_name": "FloatProgressModel",
     "state": {
      "_dom_classes": [],
      "_model_module": "@jupyter-widgets/controls",
      "_model_module_version": "1.5.0",
      "_model_name": "FloatProgressModel",
      "_view_count": null,
      "_view_module": "@jupyter-widgets/controls",
      "_view_module_version": "1.5.0",
      "_view_name": "ProgressView",
      "bar_style": "success",
      "description": "",
      "description_tooltip": null,
      "layout": "IPY_MODEL_40abd2a98e8747d3bc8f9015fce17e4d",
      "max": 1042301,
      "min": 0,
      "orientation": "horizontal",
      "style": "IPY_MODEL_66048fb766d640d29062ed46cbf9bfdd",
      "value": 1042301
     }
    },
    "5af6265bd68c4dac82da2e4764d176a4": {
     "model_module": "@jupyter-widgets/base",
     "model_module_version": "1.2.0",
     "model_name": "LayoutModel",
     "state": {
      "_model_module": "@jupyter-widgets/base",
      "_model_module_version": "1.2.0",
      "_model_name": "LayoutModel",
      "_view_count": null,
      "_view_module": "@jupyter-widgets/base",
      "_view_module_version": "1.2.0",
      "_view_name": "LayoutView",
      "align_content": null,
      "align_items": null,
      "align_self": null,
      "border": null,
      "bottom": null,
      "display": null,
      "flex": null,
      "flex_flow": null,
      "grid_area": null,
      "grid_auto_columns": null,
      "grid_auto_flow": null,
      "grid_auto_rows": null,
      "grid_column": null,
      "grid_gap": null,
      "grid_row": null,
      "grid_template_areas": null,
      "grid_template_columns": null,
      "grid_template_rows": null,
      "height": null,
      "justify_content": null,
      "justify_items": null,
      "left": null,
      "margin": null,
      "max_height": null,
      "max_width": null,
      "min_height": null,
      "min_width": null,
      "object_fit": null,
      "object_position": null,
      "order": null,
      "overflow": null,
      "overflow_x": null,
      "overflow_y": null,
      "padding": null,
      "right": null,
      "top": null,
      "visibility": null,
      "width": null
     }
    },
    "5bd242f892124cb184973a52a5b978ad": {
     "model_module": "@jupyter-widgets/controls",
     "model_module_version": "1.5.0",
     "model_name": "FloatProgressModel",
     "state": {
      "_dom_classes": [],
      "_model_module": "@jupyter-widgets/controls",
      "_model_module_version": "1.5.0",
      "_model_name": "FloatProgressModel",
      "_view_count": null,
      "_view_module": "@jupyter-widgets/controls",
      "_view_module_version": "1.5.0",
      "_view_name": "ProgressView",
      "bar_style": "success",
      "description": "",
      "description_tooltip": null,
      "layout": "IPY_MODEL_1df130a08fbd4e84a06bc2ae930c632f",
      "max": 25766,
      "min": 0,
      "orientation": "horizontal",
      "style": "IPY_MODEL_95217b2056374a5c840b29792a58c9b1",
      "value": 25766
     }
    },
    "5bd8304e55194d7698eb0ced5928bc2c": {
     "model_module": "@jupyter-widgets/controls",
     "model_module_version": "1.5.0",
     "model_name": "DescriptionStyleModel",
     "state": {
      "_model_module": "@jupyter-widgets/controls",
      "_model_module_version": "1.5.0",
      "_model_name": "DescriptionStyleModel",
      "_view_count": null,
      "_view_module": "@jupyter-widgets/base",
      "_view_module_version": "1.2.0",
      "_view_name": "StyleView",
      "description_width": ""
     }
    },
    "5c26054b07fc446b8532d96d6f7db0ef": {
     "model_module": "@jupyter-widgets/controls",
     "model_module_version": "1.5.0",
     "model_name": "FloatProgressModel",
     "state": {
      "_dom_classes": [],
      "_model_module": "@jupyter-widgets/controls",
      "_model_module_version": "1.5.0",
      "_model_name": "FloatProgressModel",
      "_view_count": null,
      "_view_module": "@jupyter-widgets/controls",
      "_view_module_version": "1.5.0",
      "_view_name": "ProgressView",
      "bar_style": "success",
      "description": "",
      "description_tooltip": null,
      "layout": "IPY_MODEL_7d8cd1c7859b42b2ae69ffc9b0568129",
      "max": 497933648,
      "min": 0,
      "orientation": "horizontal",
      "style": "IPY_MODEL_7af984e7f85346818271d765720c9e56",
      "value": 497933648
     }
    },
    "5dcf9b518a104f33ba8b98dc0ef95326": {
     "model_module": "@jupyter-widgets/controls",
     "model_module_version": "1.5.0",
     "model_name": "FloatProgressModel",
     "state": {
      "_dom_classes": [],
      "_model_module": "@jupyter-widgets/controls",
      "_model_module_version": "1.5.0",
      "_model_name": "FloatProgressModel",
      "_view_count": null,
      "_view_module": "@jupyter-widgets/controls",
      "_view_module_version": "1.5.0",
      "_view_name": "ProgressView",
      "bar_style": "success",
      "description": "",
      "description_tooltip": null,
      "layout": "IPY_MODEL_ecc77fc218a84c10acc800129aa4c4f9",
      "max": 5182,
      "min": 0,
      "orientation": "horizontal",
      "style": "IPY_MODEL_c24b030b931f4033a8e571dc2b6333c8",
      "value": 5182
     }
    },
    "5e168067cb70434b81d486cf417a648b": {
     "model_module": "@jupyter-widgets/controls",
     "model_module_version": "1.5.0",
     "model_name": "HBoxModel",
     "state": {
      "_dom_classes": [],
      "_model_module": "@jupyter-widgets/controls",
      "_model_module_version": "1.5.0",
      "_model_name": "HBoxModel",
      "_view_count": null,
      "_view_module": "@jupyter-widgets/controls",
      "_view_module_version": "1.5.0",
      "_view_name": "HBoxView",
      "box_style": "",
      "children": [
       "IPY_MODEL_21cc4d3535b34cda93e11d9d057528c9",
       "IPY_MODEL_1426211850e74f648aa8572ed3833503",
       "IPY_MODEL_bb50c110b53f4839b812018d3646deeb"
      ],
      "layout": "IPY_MODEL_1d8d1772737849d7958d0c02700e3e17"
     }
    },
    "5e3b40941a774cfa9eba4e5e89964040": {
     "model_module": "@jupyter-widgets/base",
     "model_module_version": "1.2.0",
     "model_name": "LayoutModel",
     "state": {
      "_model_module": "@jupyter-widgets/base",
      "_model_module_version": "1.2.0",
      "_model_name": "LayoutModel",
      "_view_count": null,
      "_view_module": "@jupyter-widgets/base",
      "_view_module_version": "1.2.0",
      "_view_name": "LayoutView",
      "align_content": null,
      "align_items": null,
      "align_self": null,
      "border": null,
      "bottom": null,
      "display": null,
      "flex": null,
      "flex_flow": null,
      "grid_area": null,
      "grid_auto_columns": null,
      "grid_auto_flow": null,
      "grid_auto_rows": null,
      "grid_column": null,
      "grid_gap": null,
      "grid_row": null,
      "grid_template_areas": null,
      "grid_template_columns": null,
      "grid_template_rows": null,
      "height": null,
      "justify_content": null,
      "justify_items": null,
      "left": null,
      "margin": null,
      "max_height": null,
      "max_width": null,
      "min_height": null,
      "min_width": null,
      "object_fit": null,
      "object_position": null,
      "order": null,
      "overflow": null,
      "overflow_x": null,
      "overflow_y": null,
      "padding": null,
      "right": null,
      "top": null,
      "visibility": null,
      "width": null
     }
    },
    "5e442e54dfb14e04a1b68e8d4dee36a9": {
     "model_module": "@jupyter-widgets/controls",
     "model_module_version": "1.5.0",
     "model_name": "ProgressStyleModel",
     "state": {
      "_model_module": "@jupyter-widgets/controls",
      "_model_module_version": "1.5.0",
      "_model_name": "ProgressStyleModel",
      "_view_count": null,
      "_view_module": "@jupyter-widgets/base",
      "_view_module_version": "1.2.0",
      "_view_name": "StyleView",
      "bar_color": null,
      "description_width": ""
     }
    },
    "5e9c08c6ab724d899810d1c77c397b4b": {
     "model_module": "@jupyter-widgets/base",
     "model_module_version": "1.2.0",
     "model_name": "LayoutModel",
     "state": {
      "_model_module": "@jupyter-widgets/base",
      "_model_module_version": "1.2.0",
      "_model_name": "LayoutModel",
      "_view_count": null,
      "_view_module": "@jupyter-widgets/base",
      "_view_module_version": "1.2.0",
      "_view_name": "LayoutView",
      "align_content": null,
      "align_items": null,
      "align_self": null,
      "border": null,
      "bottom": null,
      "display": null,
      "flex": null,
      "flex_flow": null,
      "grid_area": null,
      "grid_auto_columns": null,
      "grid_auto_flow": null,
      "grid_auto_rows": null,
      "grid_column": null,
      "grid_gap": null,
      "grid_row": null,
      "grid_template_areas": null,
      "grid_template_columns": null,
      "grid_template_rows": null,
      "height": null,
      "justify_content": null,
      "justify_items": null,
      "left": null,
      "margin": null,
      "max_height": null,
      "max_width": null,
      "min_height": null,
      "min_width": null,
      "object_fit": null,
      "object_position": null,
      "order": null,
      "overflow": null,
      "overflow_x": null,
      "overflow_y": null,
      "padding": null,
      "right": null,
      "top": null,
      "visibility": null,
      "width": null
     }
    },
    "618f599502b842a3ab00113081f6adf5": {
     "model_module": "@jupyter-widgets/base",
     "model_module_version": "1.2.0",
     "model_name": "LayoutModel",
     "state": {
      "_model_module": "@jupyter-widgets/base",
      "_model_module_version": "1.2.0",
      "_model_name": "LayoutModel",
      "_view_count": null,
      "_view_module": "@jupyter-widgets/base",
      "_view_module_version": "1.2.0",
      "_view_name": "LayoutView",
      "align_content": null,
      "align_items": null,
      "align_self": null,
      "border": null,
      "bottom": null,
      "display": null,
      "flex": null,
      "flex_flow": null,
      "grid_area": null,
      "grid_auto_columns": null,
      "grid_auto_flow": null,
      "grid_auto_rows": null,
      "grid_column": null,
      "grid_gap": null,
      "grid_row": null,
      "grid_template_areas": null,
      "grid_template_columns": null,
      "grid_template_rows": null,
      "height": null,
      "justify_content": null,
      "justify_items": null,
      "left": null,
      "margin": null,
      "max_height": null,
      "max_width": null,
      "min_height": null,
      "min_width": null,
      "object_fit": null,
      "object_position": null,
      "order": null,
      "overflow": null,
      "overflow_x": null,
      "overflow_y": null,
      "padding": null,
      "right": null,
      "top": null,
      "visibility": null,
      "width": null
     }
    },
    "633304e31b614ab8a431b4095cd28e03": {
     "model_module": "@jupyter-widgets/controls",
     "model_module_version": "1.5.0",
     "model_name": "DescriptionStyleModel",
     "state": {
      "_model_module": "@jupyter-widgets/controls",
      "_model_module_version": "1.5.0",
      "_model_name": "DescriptionStyleModel",
      "_view_count": null,
      "_view_module": "@jupyter-widgets/base",
      "_view_module_version": "1.2.0",
      "_view_name": "StyleView",
      "description_width": ""
     }
    },
    "640db15f940b4f6d9fed35c7692a2244": {
     "model_module": "@jupyter-widgets/controls",
     "model_module_version": "1.5.0",
     "model_name": "DescriptionStyleModel",
     "state": {
      "_model_module": "@jupyter-widgets/controls",
      "_model_module_version": "1.5.0",
      "_model_name": "DescriptionStyleModel",
      "_view_count": null,
      "_view_module": "@jupyter-widgets/base",
      "_view_module_version": "1.2.0",
      "_view_name": "StyleView",
      "description_width": ""
     }
    },
    "646d32daac5f4b48b8ab6e79cae59ce5": {
     "model_module": "@jupyter-widgets/controls",
     "model_module_version": "1.5.0",
     "model_name": "FloatProgressModel",
     "state": {
      "_dom_classes": [],
      "_model_module": "@jupyter-widgets/controls",
      "_model_module_version": "1.5.0",
      "_model_name": "FloatProgressModel",
      "_view_count": null,
      "_view_module": "@jupyter-widgets/controls",
      "_view_module_version": "1.5.0",
      "_view_name": "ProgressView",
      "bar_style": "success",
      "description": "",
      "description_tooltip": null,
      "layout": "IPY_MODEL_b8b72be91cbd4ac3a42cae45422b5325",
      "max": 25766,
      "min": 0,
      "orientation": "horizontal",
      "style": "IPY_MODEL_e24f6611a4ed40b087dbd7dc6124e54d",
      "value": 25766
     }
    },
    "648806c280f043578c51be19e55265ab": {
     "model_module": "@jupyter-widgets/base",
     "model_module_version": "1.2.0",
     "model_name": "LayoutModel",
     "state": {
      "_model_module": "@jupyter-widgets/base",
      "_model_module_version": "1.2.0",
      "_model_name": "LayoutModel",
      "_view_count": null,
      "_view_module": "@jupyter-widgets/base",
      "_view_module_version": "1.2.0",
      "_view_name": "LayoutView",
      "align_content": null,
      "align_items": null,
      "align_self": null,
      "border": null,
      "bottom": null,
      "display": null,
      "flex": null,
      "flex_flow": null,
      "grid_area": null,
      "grid_auto_columns": null,
      "grid_auto_flow": null,
      "grid_auto_rows": null,
      "grid_column": null,
      "grid_gap": null,
      "grid_row": null,
      "grid_template_areas": null,
      "grid_template_columns": null,
      "grid_template_rows": null,
      "height": null,
      "justify_content": null,
      "justify_items": null,
      "left": null,
      "margin": null,
      "max_height": null,
      "max_width": null,
      "min_height": null,
      "min_width": null,
      "object_fit": null,
      "object_position": null,
      "order": null,
      "overflow": null,
      "overflow_x": null,
      "overflow_y": null,
      "padding": null,
      "right": null,
      "top": null,
      "visibility": null,
      "width": null
     }
    },
    "653b06eb98f74943be94aebca1b0e343": {
     "model_module": "@jupyter-widgets/controls",
     "model_module_version": "1.5.0",
     "model_name": "DescriptionStyleModel",
     "state": {
      "_model_module": "@jupyter-widgets/controls",
      "_model_module_version": "1.5.0",
      "_model_name": "DescriptionStyleModel",
      "_view_count": null,
      "_view_module": "@jupyter-widgets/base",
      "_view_module_version": "1.2.0",
      "_view_name": "StyleView",
      "description_width": ""
     }
    },
    "66048fb766d640d29062ed46cbf9bfdd": {
     "model_module": "@jupyter-widgets/controls",
     "model_module_version": "1.5.0",
     "model_name": "ProgressStyleModel",
     "state": {
      "_model_module": "@jupyter-widgets/controls",
      "_model_module_version": "1.5.0",
      "_model_name": "ProgressStyleModel",
      "_view_count": null,
      "_view_module": "@jupyter-widgets/base",
      "_view_module_version": "1.2.0",
      "_view_name": "StyleView",
      "bar_color": null,
      "description_width": ""
     }
    },
    "66d440bdd7544aff90a387c2516beb34": {
     "model_module": "@jupyter-widgets/controls",
     "model_module_version": "1.5.0",
     "model_name": "DescriptionStyleModel",
     "state": {
      "_model_module": "@jupyter-widgets/controls",
      "_model_module_version": "1.5.0",
      "_model_name": "DescriptionStyleModel",
      "_view_count": null,
      "_view_module": "@jupyter-widgets/base",
      "_view_module_version": "1.2.0",
      "_view_name": "StyleView",
      "description_width": ""
     }
    },
    "66f762faf54441b5a7f356de68d60af3": {
     "model_module": "@jupyter-widgets/base",
     "model_module_version": "1.2.0",
     "model_name": "LayoutModel",
     "state": {
      "_model_module": "@jupyter-widgets/base",
      "_model_module_version": "1.2.0",
      "_model_name": "LayoutModel",
      "_view_count": null,
      "_view_module": "@jupyter-widgets/base",
      "_view_module_version": "1.2.0",
      "_view_name": "LayoutView",
      "align_content": null,
      "align_items": null,
      "align_self": null,
      "border": null,
      "bottom": null,
      "display": null,
      "flex": null,
      "flex_flow": null,
      "grid_area": null,
      "grid_auto_columns": null,
      "grid_auto_flow": null,
      "grid_auto_rows": null,
      "grid_column": null,
      "grid_gap": null,
      "grid_row": null,
      "grid_template_areas": null,
      "grid_template_columns": null,
      "grid_template_rows": null,
      "height": null,
      "justify_content": null,
      "justify_items": null,
      "left": null,
      "margin": null,
      "max_height": null,
      "max_width": null,
      "min_height": null,
      "min_width": null,
      "object_fit": null,
      "object_position": null,
      "order": null,
      "overflow": null,
      "overflow_x": null,
      "overflow_y": null,
      "padding": null,
      "right": null,
      "top": null,
      "visibility": null,
      "width": null
     }
    },
    "67f50a86e0484171a520a1485ff05456": {
     "model_module": "@jupyter-widgets/controls",
     "model_module_version": "1.5.0",
     "model_name": "HBoxModel",
     "state": {
      "_dom_classes": [],
      "_model_module": "@jupyter-widgets/controls",
      "_model_module_version": "1.5.0",
      "_model_name": "HBoxModel",
      "_view_count": null,
      "_view_module": "@jupyter-widgets/controls",
      "_view_module_version": "1.5.0",
      "_view_name": "HBoxView",
      "box_style": "",
      "children": [
       "IPY_MODEL_a695a6ef4071494d8fe773d08d9b643c",
       "IPY_MODEL_be5f7a5aa3f44ea486aa2f75f1b75bfb",
       "IPY_MODEL_e5dd354096d944f6a5134d9adc72ed12"
      ],
      "layout": "IPY_MODEL_d6d0b5b6606d41068ab2d73accc3d3db"
     }
    },
    "6d465e9e437f4f9c87c1633a129c43ba": {
     "model_module": "@jupyter-widgets/base",
     "model_module_version": "1.2.0",
     "model_name": "LayoutModel",
     "state": {
      "_model_module": "@jupyter-widgets/base",
      "_model_module_version": "1.2.0",
      "_model_name": "LayoutModel",
      "_view_count": null,
      "_view_module": "@jupyter-widgets/base",
      "_view_module_version": "1.2.0",
      "_view_name": "LayoutView",
      "align_content": null,
      "align_items": null,
      "align_self": null,
      "border": null,
      "bottom": null,
      "display": null,
      "flex": null,
      "flex_flow": null,
      "grid_area": null,
      "grid_auto_columns": null,
      "grid_auto_flow": null,
      "grid_auto_rows": null,
      "grid_column": null,
      "grid_gap": null,
      "grid_row": null,
      "grid_template_areas": null,
      "grid_template_columns": null,
      "grid_template_rows": null,
      "height": null,
      "justify_content": null,
      "justify_items": null,
      "left": null,
      "margin": null,
      "max_height": null,
      "max_width": null,
      "min_height": null,
      "min_width": null,
      "object_fit": null,
      "object_position": null,
      "order": null,
      "overflow": null,
      "overflow_x": null,
      "overflow_y": null,
      "padding": null,
      "right": null,
      "top": null,
      "visibility": null,
      "width": null
     }
    },
    "6ddd50ca62d1445ca1c9d2e39d2b42ae": {
     "model_module": "@jupyter-widgets/controls",
     "model_module_version": "1.5.0",
     "model_name": "FloatProgressModel",
     "state": {
      "_dom_classes": [],
      "_model_module": "@jupyter-widgets/controls",
      "_model_module_version": "1.5.0",
      "_model_name": "FloatProgressModel",
      "_view_count": null,
      "_view_module": "@jupyter-widgets/controls",
      "_view_module_version": "1.5.0",
      "_view_name": "ProgressView",
      "bar_style": "success",
      "description": "",
      "description_tooltip": null,
      "layout": "IPY_MODEL_07547ed488394a1c8614822620536205",
      "max": 25766,
      "min": 0,
      "orientation": "horizontal",
      "style": "IPY_MODEL_5e442e54dfb14e04a1b68e8d4dee36a9",
      "value": 25766
     }
    },
    "6e2aeb04286d4a6bbb3ab0552851a281": {
     "model_module": "@jupyter-widgets/base",
     "model_module_version": "1.2.0",
     "model_name": "LayoutModel",
     "state": {
      "_model_module": "@jupyter-widgets/base",
      "_model_module_version": "1.2.0",
      "_model_name": "LayoutModel",
      "_view_count": null,
      "_view_module": "@jupyter-widgets/base",
      "_view_module_version": "1.2.0",
      "_view_name": "LayoutView",
      "align_content": null,
      "align_items": null,
      "align_self": null,
      "border": null,
      "bottom": null,
      "display": null,
      "flex": null,
      "flex_flow": null,
      "grid_area": null,
      "grid_auto_columns": null,
      "grid_auto_flow": null,
      "grid_auto_rows": null,
      "grid_column": null,
      "grid_gap": null,
      "grid_row": null,
      "grid_template_areas": null,
      "grid_template_columns": null,
      "grid_template_rows": null,
      "height": null,
      "justify_content": null,
      "justify_items": null,
      "left": null,
      "margin": null,
      "max_height": null,
      "max_width": null,
      "min_height": null,
      "min_width": null,
      "object_fit": null,
      "object_position": null,
      "order": null,
      "overflow": null,
      "overflow_x": null,
      "overflow_y": null,
      "padding": null,
      "right": null,
      "top": null,
      "visibility": null,
      "width": null
     }
    },
    "6ebb11cdc4c545518030807a617460fb": {
     "model_module": "@jupyter-widgets/controls",
     "model_module_version": "1.5.0",
     "model_name": "HTMLModel",
     "state": {
      "_dom_classes": [],
      "_model_module": "@jupyter-widgets/controls",
      "_model_module_version": "1.5.0",
      "_model_name": "HTMLModel",
      "_view_count": null,
      "_view_module": "@jupyter-widgets/controls",
      "_view_module_version": "1.5.0",
      "_view_name": "HTMLView",
      "description": "",
      "description_tooltip": null,
      "layout": "IPY_MODEL_7af52b25e1554ffcb74278d74f1fb471",
      "placeholder": "​",
      "style": "IPY_MODEL_88a296e1cfd6414fb67d24e27f75ad7d",
      "value": " 25766/25766 [20:34&lt;00:00, 21.08it/s]"
     }
    },
    "70415952d13740b29e339dde4189bfc3": {
     "model_module": "@jupyter-widgets/controls",
     "model_module_version": "1.5.0",
     "model_name": "HTMLModel",
     "state": {
      "_dom_classes": [],
      "_model_module": "@jupyter-widgets/controls",
      "_model_module_version": "1.5.0",
      "_model_name": "HTMLModel",
      "_view_count": null,
      "_view_module": "@jupyter-widgets/controls",
      "_view_module_version": "1.5.0",
      "_view_name": "HTMLView",
      "description": "",
      "description_tooltip": null,
      "layout": "IPY_MODEL_f62be2c8e15140b08b57072851a8f838",
      "placeholder": "​",
      "style": "IPY_MODEL_1be8d52678b9483081bb81d232f81087",
      "value": "100%"
     }
    },
    "71343075fc1045aaa274c6ad7018fe63": {
     "model_module": "@jupyter-widgets/base",
     "model_module_version": "1.2.0",
     "model_name": "LayoutModel",
     "state": {
      "_model_module": "@jupyter-widgets/base",
      "_model_module_version": "1.2.0",
      "_model_name": "LayoutModel",
      "_view_count": null,
      "_view_module": "@jupyter-widgets/base",
      "_view_module_version": "1.2.0",
      "_view_name": "LayoutView",
      "align_content": null,
      "align_items": null,
      "align_self": null,
      "border": null,
      "bottom": null,
      "display": null,
      "flex": null,
      "flex_flow": null,
      "grid_area": null,
      "grid_auto_columns": null,
      "grid_auto_flow": null,
      "grid_auto_rows": null,
      "grid_column": null,
      "grid_gap": null,
      "grid_row": null,
      "grid_template_areas": null,
      "grid_template_columns": null,
      "grid_template_rows": null,
      "height": null,
      "justify_content": null,
      "justify_items": null,
      "left": null,
      "margin": null,
      "max_height": null,
      "max_width": null,
      "min_height": null,
      "min_width": null,
      "object_fit": null,
      "object_position": null,
      "order": null,
      "overflow": null,
      "overflow_x": null,
      "overflow_y": null,
      "padding": null,
      "right": null,
      "top": null,
      "visibility": null,
      "width": null
     }
    },
    "72378e3644cf4d53a62c78d58622e13d": {
     "model_module": "@jupyter-widgets/base",
     "model_module_version": "1.2.0",
     "model_name": "LayoutModel",
     "state": {
      "_model_module": "@jupyter-widgets/base",
      "_model_module_version": "1.2.0",
      "_model_name": "LayoutModel",
      "_view_count": null,
      "_view_module": "@jupyter-widgets/base",
      "_view_module_version": "1.2.0",
      "_view_name": "LayoutView",
      "align_content": null,
      "align_items": null,
      "align_self": null,
      "border": null,
      "bottom": null,
      "display": null,
      "flex": null,
      "flex_flow": null,
      "grid_area": null,
      "grid_auto_columns": null,
      "grid_auto_flow": null,
      "grid_auto_rows": null,
      "grid_column": null,
      "grid_gap": null,
      "grid_row": null,
      "grid_template_areas": null,
      "grid_template_columns": null,
      "grid_template_rows": null,
      "height": null,
      "justify_content": null,
      "justify_items": null,
      "left": null,
      "margin": null,
      "max_height": null,
      "max_width": null,
      "min_height": null,
      "min_width": null,
      "object_fit": null,
      "object_position": null,
      "order": null,
      "overflow": null,
      "overflow_x": null,
      "overflow_y": null,
      "padding": null,
      "right": null,
      "top": null,
      "visibility": null,
      "width": null
     }
    },
    "728773e31f7647f1a99de1b42fa04f7f": {
     "model_module": "@jupyter-widgets/controls",
     "model_module_version": "1.5.0",
     "model_name": "DescriptionStyleModel",
     "state": {
      "_model_module": "@jupyter-widgets/controls",
      "_model_module_version": "1.5.0",
      "_model_name": "DescriptionStyleModel",
      "_view_count": null,
      "_view_module": "@jupyter-widgets/base",
      "_view_module_version": "1.2.0",
      "_view_name": "StyleView",
      "description_width": ""
     }
    },
    "77a799e312c34ab59eb27d0f90315ea7": {
     "model_module": "@jupyter-widgets/base",
     "model_module_version": "1.2.0",
     "model_name": "LayoutModel",
     "state": {
      "_model_module": "@jupyter-widgets/base",
      "_model_module_version": "1.2.0",
      "_model_name": "LayoutModel",
      "_view_count": null,
      "_view_module": "@jupyter-widgets/base",
      "_view_module_version": "1.2.0",
      "_view_name": "LayoutView",
      "align_content": null,
      "align_items": null,
      "align_self": null,
      "border": null,
      "bottom": null,
      "display": null,
      "flex": null,
      "flex_flow": null,
      "grid_area": null,
      "grid_auto_columns": null,
      "grid_auto_flow": null,
      "grid_auto_rows": null,
      "grid_column": null,
      "grid_gap": null,
      "grid_row": null,
      "grid_template_areas": null,
      "grid_template_columns": null,
      "grid_template_rows": null,
      "height": null,
      "justify_content": null,
      "justify_items": null,
      "left": null,
      "margin": null,
      "max_height": null,
      "max_width": null,
      "min_height": null,
      "min_width": null,
      "object_fit": null,
      "object_position": null,
      "order": null,
      "overflow": null,
      "overflow_x": null,
      "overflow_y": null,
      "padding": null,
      "right": null,
      "top": null,
      "visibility": null,
      "width": null
     }
    },
    "7af52b25e1554ffcb74278d74f1fb471": {
     "model_module": "@jupyter-widgets/base",
     "model_module_version": "1.2.0",
     "model_name": "LayoutModel",
     "state": {
      "_model_module": "@jupyter-widgets/base",
      "_model_module_version": "1.2.0",
      "_model_name": "LayoutModel",
      "_view_count": null,
      "_view_module": "@jupyter-widgets/base",
      "_view_module_version": "1.2.0",
      "_view_name": "LayoutView",
      "align_content": null,
      "align_items": null,
      "align_self": null,
      "border": null,
      "bottom": null,
      "display": null,
      "flex": null,
      "flex_flow": null,
      "grid_area": null,
      "grid_auto_columns": null,
      "grid_auto_flow": null,
      "grid_auto_rows": null,
      "grid_column": null,
      "grid_gap": null,
      "grid_row": null,
      "grid_template_areas": null,
      "grid_template_columns": null,
      "grid_template_rows": null,
      "height": null,
      "justify_content": null,
      "justify_items": null,
      "left": null,
      "margin": null,
      "max_height": null,
      "max_width": null,
      "min_height": null,
      "min_width": null,
      "object_fit": null,
      "object_position": null,
      "order": null,
      "overflow": null,
      "overflow_x": null,
      "overflow_y": null,
      "padding": null,
      "right": null,
      "top": null,
      "visibility": null,
      "width": null
     }
    },
    "7af984e7f85346818271d765720c9e56": {
     "model_module": "@jupyter-widgets/controls",
     "model_module_version": "1.5.0",
     "model_name": "ProgressStyleModel",
     "state": {
      "_model_module": "@jupyter-widgets/controls",
      "_model_module_version": "1.5.0",
      "_model_name": "ProgressStyleModel",
      "_view_count": null,
      "_view_module": "@jupyter-widgets/base",
      "_view_module_version": "1.2.0",
      "_view_name": "StyleView",
      "bar_color": null,
      "description_width": ""
     }
    },
    "7d8cd1c7859b42b2ae69ffc9b0568129": {
     "model_module": "@jupyter-widgets/base",
     "model_module_version": "1.2.0",
     "model_name": "LayoutModel",
     "state": {
      "_model_module": "@jupyter-widgets/base",
      "_model_module_version": "1.2.0",
      "_model_name": "LayoutModel",
      "_view_count": null,
      "_view_module": "@jupyter-widgets/base",
      "_view_module_version": "1.2.0",
      "_view_name": "LayoutView",
      "align_content": null,
      "align_items": null,
      "align_self": null,
      "border": null,
      "bottom": null,
      "display": null,
      "flex": null,
      "flex_flow": null,
      "grid_area": null,
      "grid_auto_columns": null,
      "grid_auto_flow": null,
      "grid_auto_rows": null,
      "grid_column": null,
      "grid_gap": null,
      "grid_row": null,
      "grid_template_areas": null,
      "grid_template_columns": null,
      "grid_template_rows": null,
      "height": null,
      "justify_content": null,
      "justify_items": null,
      "left": null,
      "margin": null,
      "max_height": null,
      "max_width": null,
      "min_height": null,
      "min_width": null,
      "object_fit": null,
      "object_position": null,
      "order": null,
      "overflow": null,
      "overflow_x": null,
      "overflow_y": null,
      "padding": null,
      "right": null,
      "top": null,
      "visibility": null,
      "width": null
     }
    },
    "864d339f548e41ac9d4c875487ac2579": {
     "model_module": "@jupyter-widgets/controls",
     "model_module_version": "1.5.0",
     "model_name": "DescriptionStyleModel",
     "state": {
      "_model_module": "@jupyter-widgets/controls",
      "_model_module_version": "1.5.0",
      "_model_name": "DescriptionStyleModel",
      "_view_count": null,
      "_view_module": "@jupyter-widgets/base",
      "_view_module_version": "1.2.0",
      "_view_name": "StyleView",
      "description_width": ""
     }
    },
    "8694af7d19a543899f126c2a0a96060d": {
     "model_module": "@jupyter-widgets/controls",
     "model_module_version": "1.5.0",
     "model_name": "HBoxModel",
     "state": {
      "_dom_classes": [],
      "_model_module": "@jupyter-widgets/controls",
      "_model_module_version": "1.5.0",
      "_model_name": "HBoxModel",
      "_view_count": null,
      "_view_module": "@jupyter-widgets/controls",
      "_view_module_version": "1.5.0",
      "_view_name": "HBoxView",
      "box_style": "",
      "children": [
       "IPY_MODEL_ec29aab82733498fad3f2f091df87338",
       "IPY_MODEL_5c26054b07fc446b8532d96d6f7db0ef",
       "IPY_MODEL_e5d25dfd6b34462dbfdd854eee187d57"
      ],
      "layout": "IPY_MODEL_a81de05f4d2d4c2eb0f09675a2a95388"
     }
    },
    "88a296e1cfd6414fb67d24e27f75ad7d": {
     "model_module": "@jupyter-widgets/controls",
     "model_module_version": "1.5.0",
     "model_name": "DescriptionStyleModel",
     "state": {
      "_model_module": "@jupyter-widgets/controls",
      "_model_module_version": "1.5.0",
      "_model_name": "DescriptionStyleModel",
      "_view_count": null,
      "_view_module": "@jupyter-widgets/base",
      "_view_module_version": "1.2.0",
      "_view_name": "StyleView",
      "description_width": ""
     }
    },
    "923cca6536dc4c719b97325597fe0ec2": {
     "model_module": "@jupyter-widgets/controls",
     "model_module_version": "1.5.0",
     "model_name": "HBoxModel",
     "state": {
      "_dom_classes": [],
      "_model_module": "@jupyter-widgets/controls",
      "_model_module_version": "1.5.0",
      "_model_name": "HBoxModel",
      "_view_count": null,
      "_view_module": "@jupyter-widgets/controls",
      "_view_module_version": "1.5.0",
      "_view_name": "HBoxView",
      "box_style": "",
      "children": [
       "IPY_MODEL_ac3bc2ede9a44e398c567fcba7e170ae",
       "IPY_MODEL_57eb2f18f3974f0e85a6a1db997ca1a6",
       "IPY_MODEL_029bd02a7519455b85a22284c352598d"
      ],
      "layout": "IPY_MODEL_2e8f1f70721549ab854d13b5753b6be4"
     }
    },
    "95217b2056374a5c840b29792a58c9b1": {
     "model_module": "@jupyter-widgets/controls",
     "model_module_version": "1.5.0",
     "model_name": "ProgressStyleModel",
     "state": {
      "_model_module": "@jupyter-widgets/controls",
      "_model_module_version": "1.5.0",
      "_model_name": "ProgressStyleModel",
      "_view_count": null,
      "_view_module": "@jupyter-widgets/base",
      "_view_module_version": "1.2.0",
      "_view_name": "StyleView",
      "bar_color": null,
      "description_width": ""
     }
    },
    "96019e51855540e686e50d3d4d1c8dbb": {
     "model_module": "@jupyter-widgets/base",
     "model_module_version": "1.2.0",
     "model_name": "LayoutModel",
     "state": {
      "_model_module": "@jupyter-widgets/base",
      "_model_module_version": "1.2.0",
      "_model_name": "LayoutModel",
      "_view_count": null,
      "_view_module": "@jupyter-widgets/base",
      "_view_module_version": "1.2.0",
      "_view_name": "LayoutView",
      "align_content": null,
      "align_items": null,
      "align_self": null,
      "border": null,
      "bottom": null,
      "display": null,
      "flex": null,
      "flex_flow": null,
      "grid_area": null,
      "grid_auto_columns": null,
      "grid_auto_flow": null,
      "grid_auto_rows": null,
      "grid_column": null,
      "grid_gap": null,
      "grid_row": null,
      "grid_template_areas": null,
      "grid_template_columns": null,
      "grid_template_rows": null,
      "height": null,
      "justify_content": null,
      "justify_items": null,
      "left": null,
      "margin": null,
      "max_height": null,
      "max_width": null,
      "min_height": null,
      "min_width": null,
      "object_fit": null,
      "object_position": null,
      "order": null,
      "overflow": null,
      "overflow_x": null,
      "overflow_y": null,
      "padding": null,
      "right": null,
      "top": null,
      "visibility": null,
      "width": null
     }
    },
    "96bc10b41dea48918b4ff9444c147fb6": {
     "model_module": "@jupyter-widgets/controls",
     "model_module_version": "1.5.0",
     "model_name": "DescriptionStyleModel",
     "state": {
      "_model_module": "@jupyter-widgets/controls",
      "_model_module_version": "1.5.0",
      "_model_name": "DescriptionStyleModel",
      "_view_count": null,
      "_view_module": "@jupyter-widgets/base",
      "_view_module_version": "1.2.0",
      "_view_name": "StyleView",
      "description_width": ""
     }
    },
    "9ca5530ef1fd4b628b4b97b25202f347": {
     "model_module": "@jupyter-widgets/base",
     "model_module_version": "1.2.0",
     "model_name": "LayoutModel",
     "state": {
      "_model_module": "@jupyter-widgets/base",
      "_model_module_version": "1.2.0",
      "_model_name": "LayoutModel",
      "_view_count": null,
      "_view_module": "@jupyter-widgets/base",
      "_view_module_version": "1.2.0",
      "_view_name": "LayoutView",
      "align_content": null,
      "align_items": null,
      "align_self": null,
      "border": null,
      "bottom": null,
      "display": null,
      "flex": null,
      "flex_flow": null,
      "grid_area": null,
      "grid_auto_columns": null,
      "grid_auto_flow": null,
      "grid_auto_rows": null,
      "grid_column": null,
      "grid_gap": null,
      "grid_row": null,
      "grid_template_areas": null,
      "grid_template_columns": null,
      "grid_template_rows": null,
      "height": null,
      "justify_content": null,
      "justify_items": null,
      "left": null,
      "margin": null,
      "max_height": null,
      "max_width": null,
      "min_height": null,
      "min_width": null,
      "object_fit": null,
      "object_position": null,
      "order": null,
      "overflow": null,
      "overflow_x": null,
      "overflow_y": null,
      "padding": null,
      "right": null,
      "top": null,
      "visibility": null,
      "width": null
     }
    },
    "a033d05fbbc94be0a2d019af722371f1": {
     "model_module": "@jupyter-widgets/controls",
     "model_module_version": "1.5.0",
     "model_name": "ProgressStyleModel",
     "state": {
      "_model_module": "@jupyter-widgets/controls",
      "_model_module_version": "1.5.0",
      "_model_name": "ProgressStyleModel",
      "_view_count": null,
      "_view_module": "@jupyter-widgets/base",
      "_view_module_version": "1.2.0",
      "_view_name": "StyleView",
      "bar_color": null,
      "description_width": ""
     }
    },
    "a05093470b234a2ca261b6894cec2669": {
     "model_module": "@jupyter-widgets/controls",
     "model_module_version": "1.5.0",
     "model_name": "FloatProgressModel",
     "state": {
      "_dom_classes": [],
      "_model_module": "@jupyter-widgets/controls",
      "_model_module_version": "1.5.0",
      "_model_name": "FloatProgressModel",
      "_view_count": null,
      "_view_module": "@jupyter-widgets/controls",
      "_view_module_version": "1.5.0",
      "_view_name": "ProgressView",
      "bar_style": "success",
      "description": "",
      "description_tooltip": null,
      "layout": "IPY_MODEL_648806c280f043578c51be19e55265ab",
      "max": 25766,
      "min": 0,
      "orientation": "horizontal",
      "style": "IPY_MODEL_5425e948e36b4d9e91d1dacddf119f61",
      "value": 25766
     }
    },
    "a412ba9d5c34496e9f24852d16a1f7ed": {
     "model_module": "@jupyter-widgets/controls",
     "model_module_version": "1.5.0",
     "model_name": "HTMLModel",
     "state": {
      "_dom_classes": [],
      "_model_module": "@jupyter-widgets/controls",
      "_model_module_version": "1.5.0",
      "_model_name": "HTMLModel",
      "_view_count": null,
      "_view_module": "@jupyter-widgets/controls",
      "_view_module_version": "1.5.0",
      "_view_name": "HTMLView",
      "description": "",
      "description_tooltip": null,
      "layout": "IPY_MODEL_72378e3644cf4d53a62c78d58622e13d",
      "placeholder": "​",
      "style": "IPY_MODEL_864d339f548e41ac9d4c875487ac2579",
      "value": " 5182/5182 [23:19&lt;00:00,  3.93ba/s]"
     }
    },
    "a695a6ef4071494d8fe773d08d9b643c": {
     "model_module": "@jupyter-widgets/controls",
     "model_module_version": "1.5.0",
     "model_name": "HTMLModel",
     "state": {
      "_dom_classes": [],
      "_model_module": "@jupyter-widgets/controls",
      "_model_module_version": "1.5.0",
      "_model_name": "HTMLModel",
      "_view_count": null,
      "_view_module": "@jupyter-widgets/controls",
      "_view_module_version": "1.5.0",
      "_view_name": "HTMLView",
      "description": "",
      "description_tooltip": null,
      "layout": "IPY_MODEL_06ff2eeb2b934b47affb302bbe73f4b0",
      "placeholder": "​",
      "style": "IPY_MODEL_f92f99c0cf0544a39bdf97d8d351139b",
      "value": "100%"
     }
    },
    "a6ea80dc9f734e21b1a4a2020ef4d5cc": {
     "model_module": "@jupyter-widgets/controls",
     "model_module_version": "1.5.0",
     "model_name": "HTMLModel",
     "state": {
      "_dom_classes": [],
      "_model_module": "@jupyter-widgets/controls",
      "_model_module_version": "1.5.0",
      "_model_name": "HTMLModel",
      "_view_count": null,
      "_view_module": "@jupyter-widgets/controls",
      "_view_module_version": "1.5.0",
      "_view_name": "HTMLView",
      "description": "",
      "description_tooltip": null,
      "layout": "IPY_MODEL_446f77d89a0b450985f57f671748b8fe",
      "placeholder": "​",
      "style": "IPY_MODEL_f616f536ed414f229d80cc27d834875b",
      "value": "100%"
     }
    },
    "a6fcca71d6a44d9395262b6896a10e8d": {
     "model_module": "@jupyter-widgets/controls",
     "model_module_version": "1.5.0",
     "model_name": "DescriptionStyleModel",
     "state": {
      "_model_module": "@jupyter-widgets/controls",
      "_model_module_version": "1.5.0",
      "_model_name": "DescriptionStyleModel",
      "_view_count": null,
      "_view_module": "@jupyter-widgets/base",
      "_view_module_version": "1.2.0",
      "_view_name": "StyleView",
      "description_width": ""
     }
    },
    "a81de05f4d2d4c2eb0f09675a2a95388": {
     "model_module": "@jupyter-widgets/base",
     "model_module_version": "1.2.0",
     "model_name": "LayoutModel",
     "state": {
      "_model_module": "@jupyter-widgets/base",
      "_model_module_version": "1.2.0",
      "_model_name": "LayoutModel",
      "_view_count": null,
      "_view_module": "@jupyter-widgets/base",
      "_view_module_version": "1.2.0",
      "_view_name": "LayoutView",
      "align_content": null,
      "align_items": null,
      "align_self": null,
      "border": null,
      "bottom": null,
      "display": null,
      "flex": null,
      "flex_flow": null,
      "grid_area": null,
      "grid_auto_columns": null,
      "grid_auto_flow": null,
      "grid_auto_rows": null,
      "grid_column": null,
      "grid_gap": null,
      "grid_row": null,
      "grid_template_areas": null,
      "grid_template_columns": null,
      "grid_template_rows": null,
      "height": null,
      "justify_content": null,
      "justify_items": null,
      "left": null,
      "margin": null,
      "max_height": null,
      "max_width": null,
      "min_height": null,
      "min_width": null,
      "object_fit": null,
      "object_position": null,
      "order": null,
      "overflow": null,
      "overflow_x": null,
      "overflow_y": null,
      "padding": null,
      "right": null,
      "top": null,
      "visibility": null,
      "width": null
     }
    },
    "abbfe79bb0814fe78d2ae18d5c870546": {
     "model_module": "@jupyter-widgets/controls",
     "model_module_version": "1.5.0",
     "model_name": "DescriptionStyleModel",
     "state": {
      "_model_module": "@jupyter-widgets/controls",
      "_model_module_version": "1.5.0",
      "_model_name": "DescriptionStyleModel",
      "_view_count": null,
      "_view_module": "@jupyter-widgets/base",
      "_view_module_version": "1.2.0",
      "_view_name": "StyleView",
      "description_width": ""
     }
    },
    "ac3bc2ede9a44e398c567fcba7e170ae": {
     "model_module": "@jupyter-widgets/controls",
     "model_module_version": "1.5.0",
     "model_name": "HTMLModel",
     "state": {
      "_dom_classes": [],
      "_model_module": "@jupyter-widgets/controls",
      "_model_module_version": "1.5.0",
      "_model_name": "HTMLModel",
      "_view_count": null,
      "_view_module": "@jupyter-widgets/controls",
      "_view_module_version": "1.5.0",
      "_view_name": "HTMLView",
      "description": "",
      "description_tooltip": null,
      "layout": "IPY_MODEL_1957e8a0c79e4e8986d4e09aeb4a19b6",
      "placeholder": "​",
      "style": "IPY_MODEL_c578ff6c237f4f798a5d6973118bb5ae",
      "value": "Downloading: 100%"
     }
    },
    "ae9cc5161e734e0fb52abd9f07b65908": {
     "model_module": "@jupyter-widgets/controls",
     "model_module_version": "1.5.0",
     "model_name": "HTMLModel",
     "state": {
      "_dom_classes": [],
      "_model_module": "@jupyter-widgets/controls",
      "_model_module_version": "1.5.0",
      "_model_name": "HTMLModel",
      "_view_count": null,
      "_view_module": "@jupyter-widgets/controls",
      "_view_module_version": "1.5.0",
      "_view_name": "HTMLView",
      "description": "",
      "description_tooltip": null,
      "layout": "IPY_MODEL_038b05c7163a4d8eb0d75cdc50e568d8",
      "placeholder": "​",
      "style": "IPY_MODEL_653b06eb98f74943be94aebca1b0e343",
      "value": "100%"
     }
    },
    "b370207a5d4240e6966aeab93eb25a6b": {
     "model_module": "@jupyter-widgets/controls",
     "model_module_version": "1.5.0",
     "model_name": "HTMLModel",
     "state": {
      "_dom_classes": [],
      "_model_module": "@jupyter-widgets/controls",
      "_model_module_version": "1.5.0",
      "_model_name": "HTMLModel",
      "_view_count": null,
      "_view_module": "@jupyter-widgets/controls",
      "_view_module_version": "1.5.0",
      "_view_name": "HTMLView",
      "description": "",
      "description_tooltip": null,
      "layout": "IPY_MODEL_4e0c2d9bb24949248f7d342f0a8d6fbe",
      "placeholder": "​",
      "style": "IPY_MODEL_1cdb8db696594d6a9300cb4442aebc35",
      "value": " 25766/25766 [20:20&lt;00:00, 20.90it/s]"
     }
    },
    "b379a7fa65144d818f1e68aa438f0a4b": {
     "model_module": "@jupyter-widgets/base",
     "model_module_version": "1.2.0",
     "model_name": "LayoutModel",
     "state": {
      "_model_module": "@jupyter-widgets/base",
      "_model_module_version": "1.2.0",
      "_model_name": "LayoutModel",
      "_view_count": null,
      "_view_module": "@jupyter-widgets/base",
      "_view_module_version": "1.2.0",
      "_view_name": "LayoutView",
      "align_content": null,
      "align_items": null,
      "align_self": null,
      "border": null,
      "bottom": null,
      "display": null,
      "flex": null,
      "flex_flow": null,
      "grid_area": null,
      "grid_auto_columns": null,
      "grid_auto_flow": null,
      "grid_auto_rows": null,
      "grid_column": null,
      "grid_gap": null,
      "grid_row": null,
      "grid_template_areas": null,
      "grid_template_columns": null,
      "grid_template_rows": null,
      "height": null,
      "justify_content": null,
      "justify_items": null,
      "left": null,
      "margin": null,
      "max_height": null,
      "max_width": null,
      "min_height": null,
      "min_width": null,
      "object_fit": null,
      "object_position": null,
      "order": null,
      "overflow": null,
      "overflow_x": null,
      "overflow_y": null,
      "padding": null,
      "right": null,
      "top": null,
      "visibility": null,
      "width": null
     }
    },
    "b658240c6b0f4610be25a68744206f1e": {
     "model_module": "@jupyter-widgets/base",
     "model_module_version": "1.2.0",
     "model_name": "LayoutModel",
     "state": {
      "_model_module": "@jupyter-widgets/base",
      "_model_module_version": "1.2.0",
      "_model_name": "LayoutModel",
      "_view_count": null,
      "_view_module": "@jupyter-widgets/base",
      "_view_module_version": "1.2.0",
      "_view_name": "LayoutView",
      "align_content": null,
      "align_items": null,
      "align_self": null,
      "border": null,
      "bottom": null,
      "display": null,
      "flex": null,
      "flex_flow": null,
      "grid_area": null,
      "grid_auto_columns": null,
      "grid_auto_flow": null,
      "grid_auto_rows": null,
      "grid_column": null,
      "grid_gap": null,
      "grid_row": null,
      "grid_template_areas": null,
      "grid_template_columns": null,
      "grid_template_rows": null,
      "height": null,
      "justify_content": null,
      "justify_items": null,
      "left": null,
      "margin": null,
      "max_height": null,
      "max_width": null,
      "min_height": null,
      "min_width": null,
      "object_fit": null,
      "object_position": null,
      "order": null,
      "overflow": null,
      "overflow_x": null,
      "overflow_y": null,
      "padding": null,
      "right": null,
      "top": null,
      "visibility": null,
      "width": null
     }
    },
    "b7800e1c60444f9490a8cd4df40fdc14": {
     "model_module": "@jupyter-widgets/base",
     "model_module_version": "1.2.0",
     "model_name": "LayoutModel",
     "state": {
      "_model_module": "@jupyter-widgets/base",
      "_model_module_version": "1.2.0",
      "_model_name": "LayoutModel",
      "_view_count": null,
      "_view_module": "@jupyter-widgets/base",
      "_view_module_version": "1.2.0",
      "_view_name": "LayoutView",
      "align_content": null,
      "align_items": null,
      "align_self": null,
      "border": null,
      "bottom": null,
      "display": null,
      "flex": null,
      "flex_flow": null,
      "grid_area": null,
      "grid_auto_columns": null,
      "grid_auto_flow": null,
      "grid_auto_rows": null,
      "grid_column": null,
      "grid_gap": null,
      "grid_row": null,
      "grid_template_areas": null,
      "grid_template_columns": null,
      "grid_template_rows": null,
      "height": null,
      "justify_content": null,
      "justify_items": null,
      "left": null,
      "margin": null,
      "max_height": null,
      "max_width": null,
      "min_height": null,
      "min_width": null,
      "object_fit": null,
      "object_position": null,
      "order": null,
      "overflow": null,
      "overflow_x": null,
      "overflow_y": null,
      "padding": null,
      "right": null,
      "top": null,
      "visibility": null,
      "width": null
     }
    },
    "b8b72be91cbd4ac3a42cae45422b5325": {
     "model_module": "@jupyter-widgets/base",
     "model_module_version": "1.2.0",
     "model_name": "LayoutModel",
     "state": {
      "_model_module": "@jupyter-widgets/base",
      "_model_module_version": "1.2.0",
      "_model_name": "LayoutModel",
      "_view_count": null,
      "_view_module": "@jupyter-widgets/base",
      "_view_module_version": "1.2.0",
      "_view_name": "LayoutView",
      "align_content": null,
      "align_items": null,
      "align_self": null,
      "border": null,
      "bottom": null,
      "display": null,
      "flex": null,
      "flex_flow": null,
      "grid_area": null,
      "grid_auto_columns": null,
      "grid_auto_flow": null,
      "grid_auto_rows": null,
      "grid_column": null,
      "grid_gap": null,
      "grid_row": null,
      "grid_template_areas": null,
      "grid_template_columns": null,
      "grid_template_rows": null,
      "height": null,
      "justify_content": null,
      "justify_items": null,
      "left": null,
      "margin": null,
      "max_height": null,
      "max_width": null,
      "min_height": null,
      "min_width": null,
      "object_fit": null,
      "object_position": null,
      "order": null,
      "overflow": null,
      "overflow_x": null,
      "overflow_y": null,
      "padding": null,
      "right": null,
      "top": null,
      "visibility": null,
      "width": null
     }
    },
    "bb50c110b53f4839b812018d3646deeb": {
     "model_module": "@jupyter-widgets/controls",
     "model_module_version": "1.5.0",
     "model_name": "HTMLModel",
     "state": {
      "_dom_classes": [],
      "_model_module": "@jupyter-widgets/controls",
      "_model_module_version": "1.5.0",
      "_model_name": "HTMLModel",
      "_view_count": null,
      "_view_module": "@jupyter-widgets/controls",
      "_view_module_version": "1.5.0",
      "_view_name": "HTMLView",
      "description": "",
      "description_tooltip": null,
      "layout": "IPY_MODEL_ee9c4c6d1ae74e49a1e7c406427de58c",
      "placeholder": "​",
      "style": "IPY_MODEL_2e16681f61d942428dff0acee59a2373",
      "value": " 665/665 [00:00&lt;00:00, 16.7kB/s]"
     }
    },
    "bb6ead2a9e63419c8b6e6b2975c29730": {
     "model_module": "@jupyter-widgets/base",
     "model_module_version": "1.2.0",
     "model_name": "LayoutModel",
     "state": {
      "_model_module": "@jupyter-widgets/base",
      "_model_module_version": "1.2.0",
      "_model_name": "LayoutModel",
      "_view_count": null,
      "_view_module": "@jupyter-widgets/base",
      "_view_module_version": "1.2.0",
      "_view_name": "LayoutView",
      "align_content": null,
      "align_items": null,
      "align_self": null,
      "border": null,
      "bottom": null,
      "display": null,
      "flex": null,
      "flex_flow": null,
      "grid_area": null,
      "grid_auto_columns": null,
      "grid_auto_flow": null,
      "grid_auto_rows": null,
      "grid_column": null,
      "grid_gap": null,
      "grid_row": null,
      "grid_template_areas": null,
      "grid_template_columns": null,
      "grid_template_rows": null,
      "height": null,
      "justify_content": null,
      "justify_items": null,
      "left": null,
      "margin": null,
      "max_height": null,
      "max_width": null,
      "min_height": null,
      "min_width": null,
      "object_fit": null,
      "object_position": null,
      "order": null,
      "overflow": null,
      "overflow_x": null,
      "overflow_y": null,
      "padding": null,
      "right": null,
      "top": null,
      "visibility": null,
      "width": null
     }
    },
    "bba6df7f19014d488c75c59e8bfe65a8": {
     "model_module": "@jupyter-widgets/controls",
     "model_module_version": "1.5.0",
     "model_name": "DescriptionStyleModel",
     "state": {
      "_model_module": "@jupyter-widgets/controls",
      "_model_module_version": "1.5.0",
      "_model_name": "DescriptionStyleModel",
      "_view_count": null,
      "_view_module": "@jupyter-widgets/base",
      "_view_module_version": "1.2.0",
      "_view_name": "StyleView",
      "description_width": ""
     }
    },
    "bc55a25f2e644822b05c9d86406167f1": {
     "model_module": "@jupyter-widgets/controls",
     "model_module_version": "1.5.0",
     "model_name": "DescriptionStyleModel",
     "state": {
      "_model_module": "@jupyter-widgets/controls",
      "_model_module_version": "1.5.0",
      "_model_name": "DescriptionStyleModel",
      "_view_count": null,
      "_view_module": "@jupyter-widgets/base",
      "_view_module_version": "1.2.0",
      "_view_name": "StyleView",
      "description_width": ""
     }
    },
    "bd8c54b705db46cea877f6c9ebd11ea5": {
     "model_module": "@jupyter-widgets/controls",
     "model_module_version": "1.5.0",
     "model_name": "DescriptionStyleModel",
     "state": {
      "_model_module": "@jupyter-widgets/controls",
      "_model_module_version": "1.5.0",
      "_model_name": "DescriptionStyleModel",
      "_view_count": null,
      "_view_module": "@jupyter-widgets/base",
      "_view_module_version": "1.2.0",
      "_view_name": "StyleView",
      "description_width": ""
     }
    },
    "be5f7a5aa3f44ea486aa2f75f1b75bfb": {
     "model_module": "@jupyter-widgets/controls",
     "model_module_version": "1.5.0",
     "model_name": "FloatProgressModel",
     "state": {
      "_dom_classes": [],
      "_model_module": "@jupyter-widgets/controls",
      "_model_module_version": "1.5.0",
      "_model_name": "FloatProgressModel",
      "_view_count": null,
      "_view_module": "@jupyter-widgets/controls",
      "_view_module_version": "1.5.0",
      "_view_name": "ProgressView",
      "bar_style": "success",
      "description": "",
      "description_tooltip": null,
      "layout": "IPY_MODEL_5e9c08c6ab724d899810d1c77c397b4b",
      "max": 576,
      "min": 0,
      "orientation": "horizontal",
      "style": "IPY_MODEL_461870eefaaa4e2782e7f0b3a29bf136",
      "value": 576
     }
    },
    "c0939d4c13e54cd4ae19901b1b3dbc56": {
     "model_module": "@jupyter-widgets/controls",
     "model_module_version": "1.5.0",
     "model_name": "HBoxModel",
     "state": {
      "_dom_classes": [],
      "_model_module": "@jupyter-widgets/controls",
      "_model_module_version": "1.5.0",
      "_model_name": "HBoxModel",
      "_view_count": null,
      "_view_module": "@jupyter-widgets/controls",
      "_view_module_version": "1.5.0",
      "_view_name": "HBoxView",
      "box_style": "",
      "children": [
       "IPY_MODEL_10b8e8ca6fb14b0fa87d9d873e05fff1",
       "IPY_MODEL_cf526d906abf402eb852907f40e0dcfb",
       "IPY_MODEL_4ccf8a511c6d4f5f9c338b5ea38d08ac"
      ],
      "layout": "IPY_MODEL_f91fde42fac4438991a8ebcdd3bc7da0"
     }
    },
    "c169acbf670b4a47a9fe660702c5158c": {
     "model_module": "@jupyter-widgets/controls",
     "model_module_version": "1.5.0",
     "model_name": "DescriptionStyleModel",
     "state": {
      "_model_module": "@jupyter-widgets/controls",
      "_model_module_version": "1.5.0",
      "_model_name": "DescriptionStyleModel",
      "_view_count": null,
      "_view_module": "@jupyter-widgets/base",
      "_view_module_version": "1.2.0",
      "_view_name": "StyleView",
      "description_width": ""
     }
    },
    "c24b030b931f4033a8e571dc2b6333c8": {
     "model_module": "@jupyter-widgets/controls",
     "model_module_version": "1.5.0",
     "model_name": "ProgressStyleModel",
     "state": {
      "_model_module": "@jupyter-widgets/controls",
      "_model_module_version": "1.5.0",
      "_model_name": "ProgressStyleModel",
      "_view_count": null,
      "_view_module": "@jupyter-widgets/base",
      "_view_module_version": "1.2.0",
      "_view_name": "StyleView",
      "bar_color": null,
      "description_width": ""
     }
    },
    "c50d4115f15248148ed19576cff727cb": {
     "model_module": "@jupyter-widgets/controls",
     "model_module_version": "1.5.0",
     "model_name": "FloatProgressModel",
     "state": {
      "_dom_classes": [],
      "_model_module": "@jupyter-widgets/controls",
      "_model_module_version": "1.5.0",
      "_model_name": "FloatProgressModel",
      "_view_count": null,
      "_view_module": "@jupyter-widgets/controls",
      "_view_module_version": "1.5.0",
      "_view_name": "ProgressView",
      "bar_style": "success",
      "description": "",
      "description_tooltip": null,
      "layout": "IPY_MODEL_6e2aeb04286d4a6bbb3ab0552851a281",
      "max": 576,
      "min": 0,
      "orientation": "horizontal",
      "style": "IPY_MODEL_21c1b07766074d7498677384c804d247",
      "value": 576
     }
    },
    "c578ff6c237f4f798a5d6973118bb5ae": {
     "model_module": "@jupyter-widgets/controls",
     "model_module_version": "1.5.0",
     "model_name": "DescriptionStyleModel",
     "state": {
      "_model_module": "@jupyter-widgets/controls",
      "_model_module_version": "1.5.0",
      "_model_name": "DescriptionStyleModel",
      "_view_count": null,
      "_view_module": "@jupyter-widgets/base",
      "_view_module_version": "1.2.0",
      "_view_name": "StyleView",
      "description_width": ""
     }
    },
    "ce0acf51cf324458bbd84d3498435529": {
     "model_module": "@jupyter-widgets/controls",
     "model_module_version": "1.5.0",
     "model_name": "HBoxModel",
     "state": {
      "_dom_classes": [],
      "_model_module": "@jupyter-widgets/controls",
      "_model_module_version": "1.5.0",
      "_model_name": "HBoxModel",
      "_view_count": null,
      "_view_module": "@jupyter-widgets/controls",
      "_view_module_version": "1.5.0",
      "_view_name": "HBoxView",
      "box_style": "",
      "children": [
       "IPY_MODEL_e58c816bbb3a4bb1bcc4a56438f0a4f6",
       "IPY_MODEL_646d32daac5f4b48b8ab6e79cae59ce5",
       "IPY_MODEL_e5c8b3d7825a4166b22c1d02488954ce"
      ],
      "layout": "IPY_MODEL_b7800e1c60444f9490a8cd4df40fdc14"
     }
    },
    "cf526d906abf402eb852907f40e0dcfb": {
     "model_module": "@jupyter-widgets/controls",
     "model_module_version": "1.5.0",
     "model_name": "FloatProgressModel",
     "state": {
      "_dom_classes": [],
      "_model_module": "@jupyter-widgets/controls",
      "_model_module_version": "1.5.0",
      "_model_name": "FloatProgressModel",
      "_view_count": null,
      "_view_module": "@jupyter-widgets/controls",
      "_view_module_version": "1.5.0",
      "_view_name": "ProgressView",
      "bar_style": "success",
      "description": "",
      "description_tooltip": null,
      "layout": "IPY_MODEL_5e3b40941a774cfa9eba4e5e89964040",
      "max": 5182,
      "min": 0,
      "orientation": "horizontal",
      "style": "IPY_MODEL_3b5d13108b0f4cd5bc51af1e782bd5a7",
      "value": 5182
     }
    },
    "d075a1112281404a9fbbafc4772ecef7": {
     "model_module": "@jupyter-widgets/base",
     "model_module_version": "1.2.0",
     "model_name": "LayoutModel",
     "state": {
      "_model_module": "@jupyter-widgets/base",
      "_model_module_version": "1.2.0",
      "_model_name": "LayoutModel",
      "_view_count": null,
      "_view_module": "@jupyter-widgets/base",
      "_view_module_version": "1.2.0",
      "_view_name": "LayoutView",
      "align_content": null,
      "align_items": null,
      "align_self": null,
      "border": null,
      "bottom": null,
      "display": null,
      "flex": null,
      "flex_flow": null,
      "grid_area": null,
      "grid_auto_columns": null,
      "grid_auto_flow": null,
      "grid_auto_rows": null,
      "grid_column": null,
      "grid_gap": null,
      "grid_row": null,
      "grid_template_areas": null,
      "grid_template_columns": null,
      "grid_template_rows": null,
      "height": null,
      "justify_content": null,
      "justify_items": null,
      "left": null,
      "margin": null,
      "max_height": null,
      "max_width": null,
      "min_height": null,
      "min_width": null,
      "object_fit": null,
      "object_position": null,
      "order": null,
      "overflow": null,
      "overflow_x": null,
      "overflow_y": null,
      "padding": null,
      "right": null,
      "top": null,
      "visibility": null,
      "width": null
     }
    },
    "d1cf3191d02f4ed3bdb371f329019b2c": {
     "model_module": "@jupyter-widgets/controls",
     "model_module_version": "1.5.0",
     "model_name": "DescriptionStyleModel",
     "state": {
      "_model_module": "@jupyter-widgets/controls",
      "_model_module_version": "1.5.0",
      "_model_name": "DescriptionStyleModel",
      "_view_count": null,
      "_view_module": "@jupyter-widgets/base",
      "_view_module_version": "1.2.0",
      "_view_name": "StyleView",
      "description_width": ""
     }
    },
    "d58bf176ffd14a9c832dd5cafe798815": {
     "model_module": "@jupyter-widgets/controls",
     "model_module_version": "1.5.0",
     "model_name": "HBoxModel",
     "state": {
      "_dom_classes": [],
      "_model_module": "@jupyter-widgets/controls",
      "_model_module_version": "1.5.0",
      "_model_name": "HBoxModel",
      "_view_count": null,
      "_view_module": "@jupyter-widgets/controls",
      "_view_module_version": "1.5.0",
      "_view_name": "HBoxView",
      "box_style": "",
      "children": [
       "IPY_MODEL_ae9cc5161e734e0fb52abd9f07b65908",
       "IPY_MODEL_6ddd50ca62d1445ca1c9d2e39d2b42ae",
       "IPY_MODEL_263fe7591e174310b236be979e167234"
      ],
      "layout": "IPY_MODEL_4700eaaffbd048369a07ed3c388df6c1"
     }
    },
    "d6d0b5b6606d41068ab2d73accc3d3db": {
     "model_module": "@jupyter-widgets/base",
     "model_module_version": "1.2.0",
     "model_name": "LayoutModel",
     "state": {
      "_model_module": "@jupyter-widgets/base",
      "_model_module_version": "1.2.0",
      "_model_name": "LayoutModel",
      "_view_count": null,
      "_view_module": "@jupyter-widgets/base",
      "_view_module_version": "1.2.0",
      "_view_name": "LayoutView",
      "align_content": null,
      "align_items": null,
      "align_self": null,
      "border": null,
      "bottom": null,
      "display": null,
      "flex": null,
      "flex_flow": null,
      "grid_area": null,
      "grid_auto_columns": null,
      "grid_auto_flow": null,
      "grid_auto_rows": null,
      "grid_column": null,
      "grid_gap": null,
      "grid_row": null,
      "grid_template_areas": null,
      "grid_template_columns": null,
      "grid_template_rows": null,
      "height": null,
      "justify_content": null,
      "justify_items": null,
      "left": null,
      "margin": null,
      "max_height": null,
      "max_width": null,
      "min_height": null,
      "min_width": null,
      "object_fit": null,
      "object_position": null,
      "order": null,
      "overflow": null,
      "overflow_x": null,
      "overflow_y": null,
      "padding": null,
      "right": null,
      "top": null,
      "visibility": null,
      "width": null
     }
    },
    "d7a511a7cce6493e978bdefdc25a7167": {
     "model_module": "@jupyter-widgets/base",
     "model_module_version": "1.2.0",
     "model_name": "LayoutModel",
     "state": {
      "_model_module": "@jupyter-widgets/base",
      "_model_module_version": "1.2.0",
      "_model_name": "LayoutModel",
      "_view_count": null,
      "_view_module": "@jupyter-widgets/base",
      "_view_module_version": "1.2.0",
      "_view_name": "LayoutView",
      "align_content": null,
      "align_items": null,
      "align_self": null,
      "border": null,
      "bottom": null,
      "display": null,
      "flex": null,
      "flex_flow": null,
      "grid_area": null,
      "grid_auto_columns": null,
      "grid_auto_flow": null,
      "grid_auto_rows": null,
      "grid_column": null,
      "grid_gap": null,
      "grid_row": null,
      "grid_template_areas": null,
      "grid_template_columns": null,
      "grid_template_rows": null,
      "height": null,
      "justify_content": null,
      "justify_items": null,
      "left": null,
      "margin": null,
      "max_height": null,
      "max_width": null,
      "min_height": null,
      "min_width": null,
      "object_fit": null,
      "object_position": null,
      "order": null,
      "overflow": null,
      "overflow_x": null,
      "overflow_y": null,
      "padding": null,
      "right": null,
      "top": null,
      "visibility": null,
      "width": null
     }
    },
    "db0328f1cec24fe1b24f1e103057618f": {
     "model_module": "@jupyter-widgets/controls",
     "model_module_version": "1.5.0",
     "model_name": "HBoxModel",
     "state": {
      "_dom_classes": [],
      "_model_module": "@jupyter-widgets/controls",
      "_model_module_version": "1.5.0",
      "_model_name": "HBoxModel",
      "_view_count": null,
      "_view_module": "@jupyter-widgets/controls",
      "_view_module_version": "1.5.0",
      "_view_name": "HBoxView",
      "box_style": "",
      "children": [
       "IPY_MODEL_a6ea80dc9f734e21b1a4a2020ef4d5cc",
       "IPY_MODEL_a05093470b234a2ca261b6894cec2669",
       "IPY_MODEL_b370207a5d4240e6966aeab93eb25a6b"
      ],
      "layout": "IPY_MODEL_b658240c6b0f4610be25a68744206f1e"
     }
    },
    "db6b151d3f1d464bb98b8bf029539cae": {
     "model_module": "@jupyter-widgets/controls",
     "model_module_version": "1.5.0",
     "model_name": "ProgressStyleModel",
     "state": {
      "_model_module": "@jupyter-widgets/controls",
      "_model_module_version": "1.5.0",
      "_model_name": "ProgressStyleModel",
      "_view_count": null,
      "_view_module": "@jupyter-widgets/base",
      "_view_module_version": "1.2.0",
      "_view_name": "StyleView",
      "bar_color": null,
      "description_width": ""
     }
    },
    "e1d9f00d0c8d4af9b345af7f162d989e": {
     "model_module": "@jupyter-widgets/controls",
     "model_module_version": "1.5.0",
     "model_name": "DescriptionStyleModel",
     "state": {
      "_model_module": "@jupyter-widgets/controls",
      "_model_module_version": "1.5.0",
      "_model_name": "DescriptionStyleModel",
      "_view_count": null,
      "_view_module": "@jupyter-widgets/base",
      "_view_module_version": "1.2.0",
      "_view_name": "StyleView",
      "description_width": ""
     }
    },
    "e24f6611a4ed40b087dbd7dc6124e54d": {
     "model_module": "@jupyter-widgets/controls",
     "model_module_version": "1.5.0",
     "model_name": "ProgressStyleModel",
     "state": {
      "_model_module": "@jupyter-widgets/controls",
      "_model_module_version": "1.5.0",
      "_model_name": "ProgressStyleModel",
      "_view_count": null,
      "_view_module": "@jupyter-widgets/base",
      "_view_module_version": "1.2.0",
      "_view_name": "StyleView",
      "bar_color": null,
      "description_width": ""
     }
    },
    "e27341f5b62f4a1b9f02b80e3e8683f8": {
     "model_module": "@jupyter-widgets/base",
     "model_module_version": "1.2.0",
     "model_name": "LayoutModel",
     "state": {
      "_model_module": "@jupyter-widgets/base",
      "_model_module_version": "1.2.0",
      "_model_name": "LayoutModel",
      "_view_count": null,
      "_view_module": "@jupyter-widgets/base",
      "_view_module_version": "1.2.0",
      "_view_name": "LayoutView",
      "align_content": null,
      "align_items": null,
      "align_self": null,
      "border": null,
      "bottom": null,
      "display": null,
      "flex": null,
      "flex_flow": null,
      "grid_area": null,
      "grid_auto_columns": null,
      "grid_auto_flow": null,
      "grid_auto_rows": null,
      "grid_column": null,
      "grid_gap": null,
      "grid_row": null,
      "grid_template_areas": null,
      "grid_template_columns": null,
      "grid_template_rows": null,
      "height": null,
      "justify_content": null,
      "justify_items": null,
      "left": null,
      "margin": null,
      "max_height": null,
      "max_width": null,
      "min_height": null,
      "min_width": null,
      "object_fit": null,
      "object_position": null,
      "order": null,
      "overflow": null,
      "overflow_x": null,
      "overflow_y": null,
      "padding": null,
      "right": null,
      "top": null,
      "visibility": null,
      "width": null
     }
    },
    "e3621a6bbdfb41989d726fe84eba1ffa": {
     "model_module": "@jupyter-widgets/base",
     "model_module_version": "1.2.0",
     "model_name": "LayoutModel",
     "state": {
      "_model_module": "@jupyter-widgets/base",
      "_model_module_version": "1.2.0",
      "_model_name": "LayoutModel",
      "_view_count": null,
      "_view_module": "@jupyter-widgets/base",
      "_view_module_version": "1.2.0",
      "_view_name": "LayoutView",
      "align_content": null,
      "align_items": null,
      "align_self": null,
      "border": null,
      "bottom": null,
      "display": null,
      "flex": null,
      "flex_flow": null,
      "grid_area": null,
      "grid_auto_columns": null,
      "grid_auto_flow": null,
      "grid_auto_rows": null,
      "grid_column": null,
      "grid_gap": null,
      "grid_row": null,
      "grid_template_areas": null,
      "grid_template_columns": null,
      "grid_template_rows": null,
      "height": null,
      "justify_content": null,
      "justify_items": null,
      "left": null,
      "margin": null,
      "max_height": null,
      "max_width": null,
      "min_height": null,
      "min_width": null,
      "object_fit": null,
      "object_position": null,
      "order": null,
      "overflow": null,
      "overflow_x": null,
      "overflow_y": null,
      "padding": null,
      "right": null,
      "top": null,
      "visibility": null,
      "width": null
     }
    },
    "e5115e6fbf714fe7b6c5a8cc33d49104": {
     "model_module": "@jupyter-widgets/controls",
     "model_module_version": "1.5.0",
     "model_name": "HBoxModel",
     "state": {
      "_dom_classes": [],
      "_model_module": "@jupyter-widgets/controls",
      "_model_module_version": "1.5.0",
      "_model_name": "HBoxModel",
      "_view_count": null,
      "_view_module": "@jupyter-widgets/controls",
      "_view_module_version": "1.5.0",
      "_view_name": "HBoxView",
      "box_style": "",
      "children": [
       "IPY_MODEL_3ccbbf671c9e49e181538b85348de94c",
       "IPY_MODEL_4ff48b7b32184f1385d108d975126b3c",
       "IPY_MODEL_2a4322d3aa37453d9abbdc7c69b85e0a"
      ],
      "layout": "IPY_MODEL_77a799e312c34ab59eb27d0f90315ea7"
     }
    },
    "e58c816bbb3a4bb1bcc4a56438f0a4f6": {
     "model_module": "@jupyter-widgets/controls",
     "model_module_version": "1.5.0",
     "model_name": "HTMLModel",
     "state": {
      "_dom_classes": [],
      "_model_module": "@jupyter-widgets/controls",
      "_model_module_version": "1.5.0",
      "_model_name": "HTMLModel",
      "_view_count": null,
      "_view_module": "@jupyter-widgets/controls",
      "_view_module_version": "1.5.0",
      "_view_name": "HTMLView",
      "description": "",
      "description_tooltip": null,
      "layout": "IPY_MODEL_b379a7fa65144d818f1e68aa438f0a4b",
      "placeholder": "​",
      "style": "IPY_MODEL_640db15f940b4f6d9fed35c7692a2244",
      "value": "100%"
     }
    },
    "e5c8b3d7825a4166b22c1d02488954ce": {
     "model_module": "@jupyter-widgets/controls",
     "model_module_version": "1.5.0",
     "model_name": "HTMLModel",
     "state": {
      "_dom_classes": [],
      "_model_module": "@jupyter-widgets/controls",
      "_model_module_version": "1.5.0",
      "_model_name": "HTMLModel",
      "_view_count": null,
      "_view_module": "@jupyter-widgets/controls",
      "_view_module_version": "1.5.0",
      "_view_name": "HTMLView",
      "description": "",
      "description_tooltip": null,
      "layout": "IPY_MODEL_2b585ebe6c674aed84c21f49cf89c611",
      "placeholder": "​",
      "style": "IPY_MODEL_e1d9f00d0c8d4af9b345af7f162d989e",
      "value": " 25766/25766 [20:24&lt;00:00, 21.15it/s]"
     }
    },
    "e5d25dfd6b34462dbfdd854eee187d57": {
     "model_module": "@jupyter-widgets/controls",
     "model_module_version": "1.5.0",
     "model_name": "HTMLModel",
     "state": {
      "_dom_classes": [],
      "_model_module": "@jupyter-widgets/controls",
      "_model_module_version": "1.5.0",
      "_model_name": "HTMLModel",
      "_view_count": null,
      "_view_module": "@jupyter-widgets/controls",
      "_view_module_version": "1.5.0",
      "_view_name": "HTMLView",
      "description": "",
      "description_tooltip": null,
      "layout": "IPY_MODEL_210d095941d64c48bd0782426397aa48",
      "placeholder": "​",
      "style": "IPY_MODEL_0ca6ba70b0894f3b9d01822594f6ab90",
      "value": " 475M/475M [00:24&lt;00:00, 28.9MB/s]"
     }
    },
    "e5dd354096d944f6a5134d9adc72ed12": {
     "model_module": "@jupyter-widgets/controls",
     "model_module_version": "1.5.0",
     "model_name": "HTMLModel",
     "state": {
      "_dom_classes": [],
      "_model_module": "@jupyter-widgets/controls",
      "_model_module_version": "1.5.0",
      "_model_name": "HTMLModel",
      "_view_count": null,
      "_view_module": "@jupyter-widgets/controls",
      "_view_module_version": "1.5.0",
      "_view_name": "HTMLView",
      "description": "",
      "description_tooltip": null,
      "layout": "IPY_MODEL_56fe4be4797946a6bae4749b5919967c",
      "placeholder": "​",
      "style": "IPY_MODEL_a6fcca71d6a44d9395262b6896a10e8d",
      "value": " 576/576 [02:32&lt;00:00,  4.09ba/s]"
     }
    },
    "ec29aab82733498fad3f2f091df87338": {
     "model_module": "@jupyter-widgets/controls",
     "model_module_version": "1.5.0",
     "model_name": "HTMLModel",
     "state": {
      "_dom_classes": [],
      "_model_module": "@jupyter-widgets/controls",
      "_model_module_version": "1.5.0",
      "_model_name": "HTMLModel",
      "_view_count": null,
      "_view_module": "@jupyter-widgets/controls",
      "_view_module_version": "1.5.0",
      "_view_name": "HTMLView",
      "description": "",
      "description_tooltip": null,
      "layout": "IPY_MODEL_fb02f17885734c96a8737144afb450b3",
      "placeholder": "​",
      "style": "IPY_MODEL_728773e31f7647f1a99de1b42fa04f7f",
      "value": "Downloading: 100%"
     }
    },
    "ecc77fc218a84c10acc800129aa4c4f9": {
     "model_module": "@jupyter-widgets/base",
     "model_module_version": "1.2.0",
     "model_name": "LayoutModel",
     "state": {
      "_model_module": "@jupyter-widgets/base",
      "_model_module_version": "1.2.0",
      "_model_name": "LayoutModel",
      "_view_count": null,
      "_view_module": "@jupyter-widgets/base",
      "_view_module_version": "1.2.0",
      "_view_name": "LayoutView",
      "align_content": null,
      "align_items": null,
      "align_self": null,
      "border": null,
      "bottom": null,
      "display": null,
      "flex": null,
      "flex_flow": null,
      "grid_area": null,
      "grid_auto_columns": null,
      "grid_auto_flow": null,
      "grid_auto_rows": null,
      "grid_column": null,
      "grid_gap": null,
      "grid_row": null,
      "grid_template_areas": null,
      "grid_template_columns": null,
      "grid_template_rows": null,
      "height": null,
      "justify_content": null,
      "justify_items": null,
      "left": null,
      "margin": null,
      "max_height": null,
      "max_width": null,
      "min_height": null,
      "min_width": null,
      "object_fit": null,
      "object_position": null,
      "order": null,
      "overflow": null,
      "overflow_x": null,
      "overflow_y": null,
      "padding": null,
      "right": null,
      "top": null,
      "visibility": null,
      "width": null
     }
    },
    "ee9c4c6d1ae74e49a1e7c406427de58c": {
     "model_module": "@jupyter-widgets/base",
     "model_module_version": "1.2.0",
     "model_name": "LayoutModel",
     "state": {
      "_model_module": "@jupyter-widgets/base",
      "_model_module_version": "1.2.0",
      "_model_name": "LayoutModel",
      "_view_count": null,
      "_view_module": "@jupyter-widgets/base",
      "_view_module_version": "1.2.0",
      "_view_name": "LayoutView",
      "align_content": null,
      "align_items": null,
      "align_self": null,
      "border": null,
      "bottom": null,
      "display": null,
      "flex": null,
      "flex_flow": null,
      "grid_area": null,
      "grid_auto_columns": null,
      "grid_auto_flow": null,
      "grid_auto_rows": null,
      "grid_column": null,
      "grid_gap": null,
      "grid_row": null,
      "grid_template_areas": null,
      "grid_template_columns": null,
      "grid_template_rows": null,
      "height": null,
      "justify_content": null,
      "justify_items": null,
      "left": null,
      "margin": null,
      "max_height": null,
      "max_width": null,
      "min_height": null,
      "min_width": null,
      "object_fit": null,
      "object_position": null,
      "order": null,
      "overflow": null,
      "overflow_x": null,
      "overflow_y": null,
      "padding": null,
      "right": null,
      "top": null,
      "visibility": null,
      "width": null
     }
    },
    "ef9a76c09121451f92154a4c22724ccc": {
     "model_module": "@jupyter-widgets/base",
     "model_module_version": "1.2.0",
     "model_name": "LayoutModel",
     "state": {
      "_model_module": "@jupyter-widgets/base",
      "_model_module_version": "1.2.0",
      "_model_name": "LayoutModel",
      "_view_count": null,
      "_view_module": "@jupyter-widgets/base",
      "_view_module_version": "1.2.0",
      "_view_name": "LayoutView",
      "align_content": null,
      "align_items": null,
      "align_self": null,
      "border": null,
      "bottom": null,
      "display": null,
      "flex": null,
      "flex_flow": null,
      "grid_area": null,
      "grid_auto_columns": null,
      "grid_auto_flow": null,
      "grid_auto_rows": null,
      "grid_column": null,
      "grid_gap": null,
      "grid_row": null,
      "grid_template_areas": null,
      "grid_template_columns": null,
      "grid_template_rows": null,
      "height": null,
      "justify_content": null,
      "justify_items": null,
      "left": null,
      "margin": null,
      "max_height": null,
      "max_width": null,
      "min_height": null,
      "min_width": null,
      "object_fit": null,
      "object_position": null,
      "order": null,
      "overflow": null,
      "overflow_x": null,
      "overflow_y": null,
      "padding": null,
      "right": null,
      "top": null,
      "visibility": null,
      "width": null
     }
    },
    "f4b4a7e2363c4d88b92092e248f43d6d": {
     "model_module": "@jupyter-widgets/base",
     "model_module_version": "1.2.0",
     "model_name": "LayoutModel",
     "state": {
      "_model_module": "@jupyter-widgets/base",
      "_model_module_version": "1.2.0",
      "_model_name": "LayoutModel",
      "_view_count": null,
      "_view_module": "@jupyter-widgets/base",
      "_view_module_version": "1.2.0",
      "_view_name": "LayoutView",
      "align_content": null,
      "align_items": null,
      "align_self": null,
      "border": null,
      "bottom": null,
      "display": null,
      "flex": null,
      "flex_flow": null,
      "grid_area": null,
      "grid_auto_columns": null,
      "grid_auto_flow": null,
      "grid_auto_rows": null,
      "grid_column": null,
      "grid_gap": null,
      "grid_row": null,
      "grid_template_areas": null,
      "grid_template_columns": null,
      "grid_template_rows": null,
      "height": null,
      "justify_content": null,
      "justify_items": null,
      "left": null,
      "margin": null,
      "max_height": null,
      "max_width": null,
      "min_height": null,
      "min_width": null,
      "object_fit": null,
      "object_position": null,
      "order": null,
      "overflow": null,
      "overflow_x": null,
      "overflow_y": null,
      "padding": null,
      "right": null,
      "top": null,
      "visibility": null,
      "width": null
     }
    },
    "f616f536ed414f229d80cc27d834875b": {
     "model_module": "@jupyter-widgets/controls",
     "model_module_version": "1.5.0",
     "model_name": "DescriptionStyleModel",
     "state": {
      "_model_module": "@jupyter-widgets/controls",
      "_model_module_version": "1.5.0",
      "_model_name": "DescriptionStyleModel",
      "_view_count": null,
      "_view_module": "@jupyter-widgets/base",
      "_view_module_version": "1.2.0",
      "_view_name": "StyleView",
      "description_width": ""
     }
    },
    "f62be2c8e15140b08b57072851a8f838": {
     "model_module": "@jupyter-widgets/base",
     "model_module_version": "1.2.0",
     "model_name": "LayoutModel",
     "state": {
      "_model_module": "@jupyter-widgets/base",
      "_model_module_version": "1.2.0",
      "_model_name": "LayoutModel",
      "_view_count": null,
      "_view_module": "@jupyter-widgets/base",
      "_view_module_version": "1.2.0",
      "_view_name": "LayoutView",
      "align_content": null,
      "align_items": null,
      "align_self": null,
      "border": null,
      "bottom": null,
      "display": null,
      "flex": null,
      "flex_flow": null,
      "grid_area": null,
      "grid_auto_columns": null,
      "grid_auto_flow": null,
      "grid_auto_rows": null,
      "grid_column": null,
      "grid_gap": null,
      "grid_row": null,
      "grid_template_areas": null,
      "grid_template_columns": null,
      "grid_template_rows": null,
      "height": null,
      "justify_content": null,
      "justify_items": null,
      "left": null,
      "margin": null,
      "max_height": null,
      "max_width": null,
      "min_height": null,
      "min_width": null,
      "object_fit": null,
      "object_position": null,
      "order": null,
      "overflow": null,
      "overflow_x": null,
      "overflow_y": null,
      "padding": null,
      "right": null,
      "top": null,
      "visibility": null,
      "width": null
     }
    },
    "f91fde42fac4438991a8ebcdd3bc7da0": {
     "model_module": "@jupyter-widgets/base",
     "model_module_version": "1.2.0",
     "model_name": "LayoutModel",
     "state": {
      "_model_module": "@jupyter-widgets/base",
      "_model_module_version": "1.2.0",
      "_model_name": "LayoutModel",
      "_view_count": null,
      "_view_module": "@jupyter-widgets/base",
      "_view_module_version": "1.2.0",
      "_view_name": "LayoutView",
      "align_content": null,
      "align_items": null,
      "align_self": null,
      "border": null,
      "bottom": null,
      "display": null,
      "flex": null,
      "flex_flow": null,
      "grid_area": null,
      "grid_auto_columns": null,
      "grid_auto_flow": null,
      "grid_auto_rows": null,
      "grid_column": null,
      "grid_gap": null,
      "grid_row": null,
      "grid_template_areas": null,
      "grid_template_columns": null,
      "grid_template_rows": null,
      "height": null,
      "justify_content": null,
      "justify_items": null,
      "left": null,
      "margin": null,
      "max_height": null,
      "max_width": null,
      "min_height": null,
      "min_width": null,
      "object_fit": null,
      "object_position": null,
      "order": null,
      "overflow": null,
      "overflow_x": null,
      "overflow_y": null,
      "padding": null,
      "right": null,
      "top": null,
      "visibility": null,
      "width": null
     }
    },
    "f92f99c0cf0544a39bdf97d8d351139b": {
     "model_module": "@jupyter-widgets/controls",
     "model_module_version": "1.5.0",
     "model_name": "DescriptionStyleModel",
     "state": {
      "_model_module": "@jupyter-widgets/controls",
      "_model_module_version": "1.5.0",
      "_model_name": "DescriptionStyleModel",
      "_view_count": null,
      "_view_module": "@jupyter-widgets/base",
      "_view_module_version": "1.2.0",
      "_view_name": "StyleView",
      "description_width": ""
     }
    },
    "fb02f17885734c96a8737144afb450b3": {
     "model_module": "@jupyter-widgets/base",
     "model_module_version": "1.2.0",
     "model_name": "LayoutModel",
     "state": {
      "_model_module": "@jupyter-widgets/base",
      "_model_module_version": "1.2.0",
      "_model_name": "LayoutModel",
      "_view_count": null,
      "_view_module": "@jupyter-widgets/base",
      "_view_module_version": "1.2.0",
      "_view_name": "LayoutView",
      "align_content": null,
      "align_items": null,
      "align_self": null,
      "border": null,
      "bottom": null,
      "display": null,
      "flex": null,
      "flex_flow": null,
      "grid_area": null,
      "grid_auto_columns": null,
      "grid_auto_flow": null,
      "grid_auto_rows": null,
      "grid_column": null,
      "grid_gap": null,
      "grid_row": null,
      "grid_template_areas": null,
      "grid_template_columns": null,
      "grid_template_rows": null,
      "height": null,
      "justify_content": null,
      "justify_items": null,
      "left": null,
      "margin": null,
      "max_height": null,
      "max_width": null,
      "min_height": null,
      "min_width": null,
      "object_fit": null,
      "object_position": null,
      "order": null,
      "overflow": null,
      "overflow_x": null,
      "overflow_y": null,
      "padding": null,
      "right": null,
      "top": null,
      "visibility": null,
      "width": null
     }
    },
    "feeb8352445b4577b9a62af8a7e947fd": {
     "model_module": "@jupyter-widgets/controls",
     "model_module_version": "1.5.0",
     "model_name": "DescriptionStyleModel",
     "state": {
      "_model_module": "@jupyter-widgets/controls",
      "_model_module_version": "1.5.0",
      "_model_name": "DescriptionStyleModel",
      "_view_count": null,
      "_view_module": "@jupyter-widgets/base",
      "_view_module_version": "1.2.0",
      "_view_name": "StyleView",
      "description_width": ""
     }
    },
    "ff7d74dcd4cb45b4ba7dfed9c96f99b7": {
     "model_module": "@jupyter-widgets/controls",
     "model_module_version": "1.5.0",
     "model_name": "HTMLModel",
     "state": {
      "_dom_classes": [],
      "_model_module": "@jupyter-widgets/controls",
      "_model_module_version": "1.5.0",
      "_model_name": "HTMLModel",
      "_view_count": null,
      "_view_module": "@jupyter-widgets/controls",
      "_view_module_version": "1.5.0",
      "_view_name": "HTMLView",
      "description": "",
      "description_tooltip": null,
      "layout": "IPY_MODEL_2bdc3b6521c04b2f9feeb8620a84091a",
      "placeholder": "​",
      "style": "IPY_MODEL_c169acbf670b4a47a9fe660702c5158c",
      "value": "Downloading: 100%"
     }
    }
   }
  }
 },
 "nbformat": 4,
 "nbformat_minor": 4
}
